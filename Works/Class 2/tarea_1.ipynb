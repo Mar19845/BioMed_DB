{
 "cells": [
  {
   "cell_type": "markdown",
   "id": "3a7880e9-fe3e-4e51-8e28-51198b8b90ac",
   "metadata": {},
   "source": [
    "# Tarea 1"
   ]
  },
  {
   "cell_type": "markdown",
   "id": "742462e3-3291-4fd8-a7d6-57d34acd9234",
   "metadata": {},
   "source": [
    "## Instrucciones\n",
    "\n",
    "Utilizar la secuencia almacenada en la variable `vibrio_cholerae` y encontrar:\n",
    "- Cadena complementaria\n",
    "- Conteo de cada base\n",
    "- Imprimir los conteos\n",
    "- Calcular que porcentaje de cada base hay en la secuencia\n",
    "- Escribir en markdown los resultados"
   ]
  },
  {
   "cell_type": "code",
   "execution_count": 1,
   "id": "a0a4c993-5814-45f7-907e-de6ce80a4e59",
   "metadata": {},
   "outputs": [],
   "source": [
    "vibrio_cholerae = \"atcaatgatcaacgtaagcttctaagcatgatcaaggtgctcacacagtttatccacaacctgagtggatgacatcaagataggtcgttgtatctccttcctctcgtactctcatgaccacggaaagatgatcaagagaggatgatttcttggccatatcgcaatgaatacttgtgacttgtgcttccaattgacatcttcagcgccatattgcgctggccaaggtgacggagcgggattacgaaagcatgatcatggctgttgttctgtttatcttgttttgactgagacttgttaggatagacggtttttcatcactgactagccaaagccttactctgcctgacatcgaccgtaaattgataatgaatttacatgcttccgcgacgatttacctcttgatcatcgatccgattgaagatcttcaattgttaattctcttgcctcgactcatagccatgatgagctcttgatcatgtttccttaaccctctattttttacggaagaatgatcaagctgctgctcttgatcatcgtttc\""
   ]
  },
  {
   "cell_type": "code",
   "execution_count": 2,
   "id": "e9559a81-691f-4fe2-b763-6614dd99cd7e",
   "metadata": {},
   "outputs": [
    {
     "name": "stdout",
     "output_type": "stream",
     "text": [
      "atcaatgatcaacgtaagcttctaagcatgatcaaggtgctcacacagtttatccacaacctgagtggatgacatcaagataggtcgttgtatctccttcctctcgtactctcatgaccacggaaagatgatcaagagaggatgatttcttggccatatcgcaatgaatacttgtgacttgtgcttccaattgacatcttcagcgccatattgcgctggccaaggtgacggagcgggattacgaaagcatgatcatggctgttgttctgtttatcttgttttgactgagacttgttaggatagacggtttttcatcactgactagccaaagccttactctgcctgacatcgaccgtaaattgataatgaatttacatgcttccgcgacgatttacctcttgatcatcgatccgattgaagatcttcaattgttaattctcttgcctcgactcatagccatgatgagctcttgatcatgtttccttaaccctctattttttacggaagaatgatcaagctgctgctcttgatcatcgtttc\n"
     ]
    }
   ],
   "source": [
    "print(vibrio_cholerae)"
   ]
  },
  {
   "cell_type": "markdown",
   "id": "fd6a9796-860f-4d3f-a856-0852b7ce75c7",
   "metadata": {},
   "source": [
    "## Diccionario de complementos \n",
    "\n",
    "<img src=\"https://www.genome.gov/sites/default/files/media/images/tg/Base-pair_dyn.jpg\">"
   ]
  },
  {
   "cell_type": "markdown",
   "id": "96d750ab-76ea-443a-b12c-99af728ee3f9",
   "metadata": {},
   "source": [
    "### Cadena complementaria & Conteos de bases\n",
    "\n",
    "El objetivo de las siguientes celdas es generar el codigo necesario para calcular la cadena complementaria y contar las bases adentro de un ciclo `for`.\n",
    "\n",
    "#### Paso 1:\n",
    "Vamos a crear un diccionario de Python que tenga como `Key` la letra que representa a la base y como `value` su complemento."
   ]
  },
  {
   "cell_type": "code",
   "execution_count": 3,
   "id": "f990eca2-5e59-49bc-84a1-9062eded932e",
   "metadata": {},
   "outputs": [],
   "source": [
    "##  Tu codigo aqui :\n",
    "complementos = {\n",
    "    'a':'t',\n",
    "    't':'a',\n",
    "    'c':'g',\n",
    "    'g':'c',\n",
    "}"
   ]
  },
  {
   "cell_type": "code",
   "execution_count": 4,
   "id": "9e9bddf4-2cdc-4b2e-b10b-2e57909b9c6d",
   "metadata": {},
   "outputs": [
    {
     "name": "stdout",
     "output_type": "stream",
     "text": [
      "{'a': 't', 't': 'a', 'c': 'g', 'g': 'c'}\n"
     ]
    }
   ],
   "source": [
    "print(complementos)"
   ]
  },
  {
   "cell_type": "code",
   "execution_count": 5,
   "id": "080cebdb-7ff9-4b47-b290-a763c2ae99b8",
   "metadata": {},
   "outputs": [
    {
     "data": {
      "text/plain": [
       "'a'"
      ]
     },
     "execution_count": 5,
     "metadata": {},
     "output_type": "execute_result"
    }
   ],
   "source": [
    "base = \"t\"\n",
    "complementos[base]"
   ]
  },
  {
   "cell_type": "code",
   "execution_count": 6,
   "id": "3658331e-4dd3-428c-8a64-106491c5de27",
   "metadata": {},
   "outputs": [
    {
     "data": {
      "text/plain": [
       "'t'"
      ]
     },
     "execution_count": 6,
     "metadata": {},
     "output_type": "execute_result"
    }
   ],
   "source": [
    "complementos[\"a\"]"
   ]
  },
  {
   "cell_type": "code",
   "execution_count": 7,
   "id": "a6b81251-6183-4676-b96c-c25b56d0b744",
   "metadata": {},
   "outputs": [],
   "source": [
    "#complementos[\"u\"]"
   ]
  },
  {
   "cell_type": "code",
   "execution_count": 8,
   "id": "611c8ffb-a13c-41a9-b967-90d381882c35",
   "metadata": {},
   "outputs": [
    {
     "data": {
      "text/plain": [
       "'kjhkj'"
      ]
     },
     "execution_count": 8,
     "metadata": {},
     "output_type": "execute_result"
    }
   ],
   "source": [
    "complementos.get(\"u\", \"kjhkj\")"
   ]
  },
  {
   "cell_type": "code",
   "execution_count": 9,
   "id": "84fdd5c3-fccd-4d3b-b830-b0b04a03ff77",
   "metadata": {},
   "outputs": [],
   "source": [
    "complementos.get(\"u\")"
   ]
  },
  {
   "cell_type": "markdown",
   "id": "55e96b31-fa7d-4ca4-88ed-19ef49a92be7",
   "metadata": {},
   "source": [
    "#### Paso 2:\n",
    "Vamos a utilizar la variable `base` del ciclo para buscar en el diccionario su complemento en el diccionario, una vez obtenemos el complemento hay que concatenarlo en la variable `cadena_complementaria`.\n",
    "Utilizamos de nuevo la variable `base` y utilizando un `if` vamos a ir sumando en las variables `conteo_` "
   ]
  },
  {
   "cell_type": "code",
   "execution_count": 10,
   "id": "8a3d8832-2517-486f-9272-7a6175113105",
   "metadata": {},
   "outputs": [],
   "source": [
    "cadena_complementaria = \"\"\n",
    "\n",
    "cadena = \"aatc\"\n",
    "\n",
    "# En estas variables vamos a ir almacenando los conteos\n",
    "base_cont = {'a': 0, 't': 0, 'c': 0, 'g': 0}\n",
    "\n",
    "#Obtener el complemento del diccionario y concatenarlo a la candena \"cadena_complementaria\"\n",
    "cadena_complementaria = ''.join(complementos[base] for base in vibrio_cholerae)\n",
    "\n",
    "## Contar que tipo de base es: en cada iteracion sumanos uno a la variable dependiendo del tipo de base que es\n",
    "for base in vibrio_cholerae:\n",
    "    base_cont[base] += 1\n",
    "\n"
   ]
  },
  {
   "cell_type": "code",
   "execution_count": 11,
   "id": "f3ea6b80-852f-44cb-9302-ee2e6e3f308e",
   "metadata": {},
   "outputs": [
    {
     "name": "stdout",
     "output_type": "stream",
     "text": [
      "atcaatgatcaacgtaagcttctaagcatgatcaaggtgctcacacagtttatccacaacctgagtggatgacatcaagataggtcgttgtatctccttcctctcgtactctcatgaccacggaaagatgatcaagagaggatgatttcttggccatatcgcaatgaatacttgtgacttgtgcttccaattgacatcttcagcgccatattgcgctggccaaggtgacggagcgggattacgaaagcatgatcatggctgttgttctgtttatcttgttttgactgagacttgttaggatagacggtttttcatcactgactagccaaagccttactctgcctgacatcgaccgtaaattgataatgaatttacatgcttccgcgacgatttacctcttgatcatcgatccgattgaagatcttcaattgttaattctcttgcctcgactcatagccatgatgagctcttgatcatgtttccttaaccctctattttttacggaagaatgatcaagctgctgctcttgatcatcgtttc\n"
     ]
    }
   ],
   "source": [
    "print(vibrio_cholerae)"
   ]
  },
  {
   "cell_type": "code",
   "execution_count": 12,
   "id": "703111fb-cb02-4fe2-ba89-5254b1f53c11",
   "metadata": {},
   "outputs": [
    {
     "name": "stdout",
     "output_type": "stream",
     "text": [
      "tagttactagttgcattcgaagattcgtactagttccacgagtgtgtcaaataggtgttggactcacctactgtagttctatccagcaacatagaggaaggagagcatgagagtactggtgcctttctactagttctctcctactaaagaaccggtatagcgttacttatgaacactgaacacgaaggttaactgtagaagtcgcggtataacgcgaccggttccactgcctcgccctaatgctttcgtactagtaccgacaacaagacaaatagaacaaaactgactctgaacaatcctatctgccaaaaagtagtgactgatcggtttcggaatgagacggactgtagctggcatttaactattacttaaatgtacgaaggcgctgctaaatggagaactagtagctaggctaacttctagaagttaacaattaagagaacggagctgagtatcggtactactcgagaactagtacaaaggaattgggagataaaaaatgccttcttactagttcgacgacgagaactagtagcaaag\n"
     ]
    }
   ],
   "source": [
    "print(cadena_complementaria)"
   ]
  },
  {
   "cell_type": "markdown",
   "id": "561dfff1-ecbe-441a-9348-f024107f9b13",
   "metadata": {},
   "source": [
    "#### Conteos"
   ]
  },
  {
   "cell_type": "code",
   "execution_count": 13,
   "id": "d5c87e07-68e2-4da7-98b9-1adad9d8a2de",
   "metadata": {},
   "outputs": [
    {
     "name": "stdout",
     "output_type": "stream",
     "text": [
      "La cadena a estuvo 136 veces\n",
      "La cadena t estuvo 174 veces\n",
      "La cadena c estuvo 122 veces\n",
      "La cadena g estuvo 108 veces\n"
     ]
    }
   ],
   "source": [
    "## Imprime aqui los conteos de las bases \n",
    "for key,val in base_cont.items():\n",
    "    print(f'La cadena {key} estuvo {val} veces')"
   ]
  },
  {
   "cell_type": "markdown",
   "id": "6527c2a8-1f4b-4d0e-9376-420124c936ff",
   "metadata": {},
   "source": [
    "### Calcular que porcentaje de cada base hay en la secuencia\n",
    "\n",
    "Crea una función en python llamada `get_base_percentage()`, que reciba como parametros\n",
    "la longiutd total de la secuencia, el conteo de la base y el nombre de la base.\n",
    "\n",
    "Ejemplo: La función debe retornar lo siguiente:\n",
    "Llamada a la función \n",
    "```python\n",
    "get_base_percentage(10, 100, \"adenina\")\n",
    "```\n",
    "Salida:\n",
    "```\n",
    "\"adenina: 10%\"\n",
    "```\n"
   ]
  },
  {
   "cell_type": "code",
   "execution_count": 14,
   "id": "1565446f-6c21-404f-ad60-7ca6120d089b",
   "metadata": {},
   "outputs": [],
   "source": [
    "\n",
    "def get_base_percentage(longitud_total, conteo_base, nombre):\n",
    "    percentage = (conteo_base / longitud_total ) * 100\n",
    "    return f'{nombre} : {round(percentage,2)} %'.upper()"
   ]
  },
  {
   "cell_type": "code",
   "execution_count": 15,
   "id": "98c30f90-7244-422d-b4fc-fad53bc10575",
   "metadata": {},
   "outputs": [
    {
     "name": "stdout",
     "output_type": "stream",
     "text": [
      "540\n"
     ]
    }
   ],
   "source": [
    "longitud_total = len(vibrio_cholerae)\n",
    "print(longitud_total)"
   ]
  },
  {
   "cell_type": "code",
   "execution_count": 16,
   "id": "92ef1c56-e9ca-4435-89ac-8172a270fa4e",
   "metadata": {},
   "outputs": [
    {
     "name": "stdout",
     "output_type": "stream",
     "text": [
      "ADENINA : 25.19 %\n",
      "TIMINA : 32.22 %\n",
      "CITOSINA : 22.59 %\n",
      "GUANINA : 20.0 %\n"
     ]
    }
   ],
   "source": [
    "type_cadenas = ['a','t','c','g']\n",
    "cadenas_name = {'a': 'Adenina', 't': 'timina', 'c': 'citosina', 'g': 'guanina'}\n",
    "for cad in type_cadenas:\n",
    "    print(get_base_percentage(longitud_total, base_cont[cad], cadenas_name[cad]))"
   ]
  },
  {
   "cell_type": "markdown",
   "id": "10cd9cbc-1323-4cac-9e60-5bb2347de219",
   "metadata": {},
   "source": [
    "# Resultados\n",
    "\n",
    "En esta sección se pide redactar un pequeño parrafo con los resultados obtenidos anteriormente en una nueva celda de Markdown. Tratar de darle formato utilizando titulos, listas, etc.\n",
    "\n",
    "[Markdown Cheatsheet](https://github.com/adam-p/markdown-here/wiki/Markdown-Cheatsheet)\n",
    "\n",
    "> Puntos extra en la tarea si escriben los conteos de las bases en una tabla de markdown"
   ]
  },
  {
   "cell_type": "markdown",
   "id": "b9702345-1431-4ee7-9a79-6f8761c02a46",
   "metadata": {},
   "source": [
    "| Cadena   | %      |\r\n",
    "| -------- | ------ |\r\n",
    "| ADENINA  | 25.19  |\r\n",
    "| TIMINA   | 32.22  |\r\n",
    "| CITOSINA | 22.59  |\r\n",
    "| GUANINA  | 20.0  |\r\n",
    "  |\r\n",
    "  |"
   ]
  },
  {
   "cell_type": "markdown",
   "id": "1554ffb7-d836-4870-b4bd-1b6bd9e67b72",
   "metadata": {},
   "source": [
    "## Resultados\n",
    "Encontre ...\n",
    "\n",
    "- ADENINA : 25.19 %'\n",
    "- CITOSINA : 22.59 %\n",
    "- TIMINA  : 32.22 %'\n",
    "- GUANINA : 20.00 %"
   ]
  },
  {
   "cell_type": "markdown",
   "id": "bc190656-68ab-4a80-a711-89c30c8fbc16",
   "metadata": {
    "tags": []
   },
   "source": [
    "# Validando  los Resultados\n",
    "\n",
    "Esta seccion solo hay que ejecutarla no es necesario cambiar nada, con esto podemos validar los resultados"
   ]
  },
  {
   "cell_type": "code",
   "execution_count": 17,
   "id": "4b36a4d0-a491-454d-bef8-a11ce127e17b",
   "metadata": {},
   "outputs": [],
   "source": [
    "import Bio\n",
    "from Bio.Seq import Seq"
   ]
  },
  {
   "cell_type": "code",
   "execution_count": 18,
   "id": "4f4af7ad-9190-4190-8082-adc358f6be08",
   "metadata": {},
   "outputs": [],
   "source": [
    "dna = Seq(vibrio_cholerae)"
   ]
  },
  {
   "cell_type": "code",
   "execution_count": 19,
   "id": "7f85b0ad-8449-46df-8d4a-632b23fbcb6e",
   "metadata": {},
   "outputs": [
    {
     "data": {
      "text/plain": [
       "136"
      ]
     },
     "execution_count": 19,
     "metadata": {},
     "output_type": "execute_result"
    }
   ],
   "source": [
    "dna.count(\"a\")"
   ]
  },
  {
   "cell_type": "code",
   "execution_count": 20,
   "id": "a2c2c5fb-ec68-4e11-9508-2b209a4c7994",
   "metadata": {},
   "outputs": [
    {
     "data": {
      "text/plain": [
       "174"
      ]
     },
     "execution_count": 20,
     "metadata": {},
     "output_type": "execute_result"
    }
   ],
   "source": [
    "dna.count(\"t\")"
   ]
  },
  {
   "cell_type": "code",
   "execution_count": 21,
   "id": "1b83057e-9255-4aa2-99dd-a8574e4e6a5c",
   "metadata": {},
   "outputs": [
    {
     "data": {
      "text/plain": [
       "122"
      ]
     },
     "execution_count": 21,
     "metadata": {},
     "output_type": "execute_result"
    }
   ],
   "source": [
    "dna.count(\"c\")"
   ]
  },
  {
   "cell_type": "code",
   "execution_count": 22,
   "id": "9f17ddbb-a98c-4d85-84b7-10bda09b8612",
   "metadata": {},
   "outputs": [
    {
     "data": {
      "text/plain": [
       "108"
      ]
     },
     "execution_count": 22,
     "metadata": {},
     "output_type": "execute_result"
    }
   ],
   "source": [
    "dna.count(\"g\")"
   ]
  },
  {
   "cell_type": "code",
   "execution_count": 23,
   "id": "d9eb260d-aa9d-46fc-be88-0b9d28dde3ae",
   "metadata": {},
   "outputs": [
    {
     "data": {
      "text/plain": [
       "'tagttactagttgcattcgaagattcgtactagttccacgagtgtgtcaaataggtgttggactcacctactgtagttctatccagcaacatagaggaaggagagcatgagagtactggtgcctttctactagttctctcctactaaagaaccggtatagcgttacttatgaacactgaacacgaaggttaactgtagaagtcgcggtataacgcgaccggttccactgcctcgccctaatgctttcgtactagtaccgacaacaagacaaatagaacaaaactgactctgaacaatcctatctgccaaaaagtagtgactgatcggtttcggaatgagacggactgtagctggcatttaactattacttaaatgtacgaaggcgctgctaaatggagaactagtagctaggctaacttctagaagttaacaattaagagaacggagctgagtatcggtactactcgagaactagtacaaaggaattgggagataaaaaatgccttcttactagttcgacgacgagaactagtagcaaag'"
      ]
     },
     "execution_count": 23,
     "metadata": {},
     "output_type": "execute_result"
    }
   ],
   "source": [
    "str(dna.complement())"
   ]
  },
  {
   "cell_type": "markdown",
   "id": "5377eed8-b055-4cd3-86df-4c880cbd1035",
   "metadata": {},
   "source": [
    "### Puntos Extra: \n",
    "Investigar en la documentación de Biopython que para que sirve la función `Seq`, que tipo de objeto retorna y documentarlo en una celda en esta notebook utilizando markdown\n",
    "\n",
    "\n",
    "Documentacion de Biopython: [Documentacion](https://biopython.org/)"
   ]
  },
  {
   "cell_type": "code",
   "execution_count": null,
   "id": "f06f05bf-7fee-4aa9-a70a-7bfa73627605",
   "metadata": {},
   "outputs": [],
   "source": []
  },
  {
   "cell_type": "markdown",
   "id": "6e82ee28-3e97-40da-be67-92217dff256f",
   "metadata": {},
   "source": [
    "### Validando cadena complementaria"
   ]
  },
  {
   "cell_type": "code",
   "execution_count": 24,
   "id": "5af722fd-d209-4309-9698-0c6e3fd18212",
   "metadata": {},
   "outputs": [
    {
     "name": "stdout",
     "output_type": "stream",
     "text": [
      "Resultado correcto!!!\n"
     ]
    }
   ],
   "source": [
    "try:\n",
    "    assert cadena_complementaria == str(dna.complement())\n",
    "    print(\"Resultado correcto!!!\")\n",
    "except AssertionError as msg:\n",
    "    print(\"La cadena complementaria es incorrecta\")"
   ]
  },
  {
   "cell_type": "markdown",
   "id": "0f5ee05a-2d22-4cf4-9b16-8259b7dbbb25",
   "metadata": {},
   "source": [
    "## Validando conteos"
   ]
  },
  {
   "cell_type": "code",
   "execution_count": 25,
   "id": "c87343dd-6eb3-45f3-bc77-26322ab751c4",
   "metadata": {},
   "outputs": [
    {
     "name": "stdout",
     "output_type": "stream",
     "text": [
      "Conteo a correcto\n"
     ]
    }
   ],
   "source": [
    "try:\n",
    "    assert base_cont['a'] == dna.count(\"a\")\n",
    "    print(\"Conteo a correcto\")\n",
    "except AssertionError as msg:\n",
    "    print(\"conteo incorrecto\")"
   ]
  },
  {
   "cell_type": "code",
   "execution_count": 26,
   "id": "aea36173-2dd3-499b-8b2f-89e97566d7ca",
   "metadata": {},
   "outputs": [
    {
     "name": "stdout",
     "output_type": "stream",
     "text": [
      "Conteo a correcto\n"
     ]
    }
   ],
   "source": [
    "try:\n",
    "    assert base_cont['t'] == dna.count(\"t\")\n",
    "    print(\"Conteo a correcto\")\n",
    "except AssertionError as msg:\n",
    "    print(\"conteo incorrecto\")"
   ]
  },
  {
   "cell_type": "code",
   "execution_count": 27,
   "id": "9d080e56-85a9-4e9b-af36-c7d9350b3c54",
   "metadata": {},
   "outputs": [
    {
     "name": "stdout",
     "output_type": "stream",
     "text": [
      "Conteo a correcto\n"
     ]
    }
   ],
   "source": [
    "try:\n",
    "    assert base_cont['c'] == dna.count(\"c\")\n",
    "    print(\"Conteo a correcto\")\n",
    "except AssertionError as msg:\n",
    "    print(\"conteo incorrecto\")"
   ]
  },
  {
   "cell_type": "code",
   "execution_count": 28,
   "id": "29fafcfc-3660-43a8-a1e7-4d2b1921db98",
   "metadata": {},
   "outputs": [
    {
     "name": "stdout",
     "output_type": "stream",
     "text": [
      "Conteo a correcto\n"
     ]
    }
   ],
   "source": [
    "try:\n",
    "    assert base_cont['g'] == dna.count(\"g\")\n",
    "    print(\"Conteo a correcto\")\n",
    "except AssertionError as msg:\n",
    "    print(\"conteo incorrecto\")"
   ]
  }
 ],
 "metadata": {
  "kernelspec": {
   "display_name": "Python 3 (ipykernel)",
   "language": "python",
   "name": "python3"
  },
  "language_info": {
   "codemirror_mode": {
    "name": "ipython",
    "version": 3
   },
   "file_extension": ".py",
   "mimetype": "text/x-python",
   "name": "python",
   "nbconvert_exporter": "python",
   "pygments_lexer": "ipython3",
   "version": "3.11.4"
  }
 },
 "nbformat": 4,
 "nbformat_minor": 5
}
