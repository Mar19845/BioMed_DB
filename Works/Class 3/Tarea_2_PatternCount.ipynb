{
 "cells": [
  {
   "cell_type": "markdown",
   "metadata": {},
   "source": [
    "# Tarea 2 - Parte 1"
   ]
  },
  {
   "cell_type": "markdown",
   "metadata": {},
   "source": [
    "Impementar la funcion `pattern_count` siguiendo el pseudocódigo a continuación.\n",
    "\n",
    "     Entrada: 2 Parametros de entrada text, pattern.\n",
    "         - Text: Secuencia de ADN\n",
    "         - Pattern: patron que deseamos ver cuantas veces se repite\n",
    "     Salida: Conteo.\n",
    "     \n",
    "   \n",
    "Pseudocodigo del algoritmo a implementar:\n",
    "```\n",
    "    PatternCount(Text, Pattern)\n",
    "        count ← 0\n",
    "        for i ← 0 to |Text| − |Pattern|\n",
    "            if Text(i, |Pattern|) = Pattern\n",
    "                count ← count + 1\n",
    "        return count\n",
    "```\n",
    "\n",
    "`|Text|` Significa longitud total del texto\n",
    "\n",
    "`|Pattern|` Significa longitud total del patron a buscar"
   ]
  },
  {
   "cell_type": "markdown",
   "metadata": {},
   "source": [
    "<img src=\"image.png\">"
   ]
  },
  {
   "cell_type": "code",
   "execution_count": 1,
   "metadata": {},
   "outputs": [],
   "source": [
    "## Tu codigo aqui:\n",
    "def pattern_count(text,pattern):\n",
    "    count = 0\n",
    "    for i in range(len(text)-len(pattern)):\n",
    "        if text[i:i+len(pattern)] == pattern:\n",
    "            count += 1\n",
    "    return count"
   ]
  },
  {
   "cell_type": "markdown",
   "metadata": {},
   "source": [
    "### Probando la función:\n",
    "\n",
    "Vamos a ver cuantas veces se repite `AAA` en la siguiente cadena.\n",
    "El resultado deberia de ser **6**"
   ]
  },
  {
   "cell_type": "code",
   "execution_count": 2,
   "metadata": {},
   "outputs": [
    {
     "data": {
      "text/plain": [
       "6"
      ]
     },
     "execution_count": 2,
     "metadata": {},
     "output_type": "execute_result"
    }
   ],
   "source": [
    "pattern_count(\"GACCATCAAAACTGATAAACTACTTAAAAATCAGT\", \"AAA\")"
   ]
  },
  {
   "cell_type": "markdown",
   "metadata": {},
   "source": [
    "## Probando con un ejemplo mas complejo"
   ]
  },
  {
   "cell_type": "markdown",
   "metadata": {},
   "source": [
    "- Paso 1 hacemos import le la libreria `bioinf_usac` y cargamos la funcion `load_data`, esta funcion recibe como parametro el nombre de un archivo"
   ]
  },
  {
   "cell_type": "code",
   "execution_count": 3,
   "metadata": {},
   "outputs": [],
   "source": [
    "## Tu codigo aqui:\n",
    "from bioinf_usac import load_data"
   ]
  },
  {
   "cell_type": "code",
   "execution_count": 4,
   "metadata": {},
   "outputs": [],
   "source": [
    "## Ejecutamos esta celda\n",
    "archivo = \"dataset_2_7.txt\"\n",
    "data = load_data(archivo)"
   ]
  },
  {
   "cell_type": "markdown",
   "metadata": {},
   "source": [
    "El resultado de la funcion `load_data` lo almacenamos en la variable `data`.\n",
    "\n",
    "`data` Es una lista donde su primer componente es la secuencia y el segundo componente es el patron\n",
    "\n"
   ]
  },
  {
   "cell_type": "code",
   "execution_count": 5,
   "metadata": {},
   "outputs": [
    {
     "name": "stdout",
     "output_type": "stream",
     "text": [
      "2\n"
     ]
    }
   ],
   "source": [
    "print(len(data))"
   ]
  },
  {
   "cell_type": "code",
   "execution_count": 6,
   "metadata": {},
   "outputs": [
    {
     "name": "stdout",
     "output_type": "stream",
     "text": [
      "['ACTATAAAATATAAAATATAAAACTCGGCTATAAAACTATAAAATCTTATAAAATATAAAAAATATATAAAAGGAGTATAAAATATAAAAGTATAAAATATAAAATATAAAACGGGCATCTATAAAATATAAAAGGATTGACTATAAAAAAATCAGATATAAAATCTTATAAAATTCTATAAAAGGCTATAAAATATAAAATCCCTGTATAAAATATAAAAGTATAAAATATATAAAATATAAAATATAAAATATAAAAATATAAAATTCGATTATAAAATTTATAAAAGCTATAAAACTATAAAATTTTTACTATAAAACCCTCCGGTATAAAATATAAAAGCTAACCCTTATAAAATATAAAAGTATAAAACTATAAAAGCTATAAAACGTGGGTATAAAACTATAAAATATAAAATGTCTCGTATAAAATATAAAACACTATAAAATATAAAACTATAAAAGTATAAAATTATAAAACTAGTATAAAAATATAAAATATAAAACCGTATAAAAACACAGGTCGTTTCCATATAAAACTATCAAGTATAAAATATAAAATATAAAATATAAAACGTATAAAATACGTTTATAAAACTAGACTATAAAAATATAAAATTGTATAAAACGCCTATAAAACTATAAAACTATAAAACCGTATAAAAACCGCAAGATTCGATATAAAAGTATAAAACGGTCATTATAAAATATAAAAGATATAAAATTATAAAATATAAAACGACTATGGTTATAAAAACTATAAAAAAAGTATAAAATATAAAAACAGACTATAAAACATATAAAATATAAAAATGGTTCGTATAAAAGCCTCATATAAAATATAAAAGTACTGCTGATATAAAAGTATAAAATATAAAACCTATAAAAATCCATATAAAACGATACGTTCCTCTATTATAAAATATAAAATTATAAAATATAAAATATAAAACCGTTATAAAATATAAAAATATAAAAATATAAAAATATAAAATATAAAAAACTATAAAATACATATAAAATCTATAAAAACAGCCAGCTTCTATAAAA', 'TATAAAATA']\n"
     ]
    }
   ],
   "source": [
    "print(data)"
   ]
  },
  {
   "cell_type": "markdown",
   "metadata": {},
   "source": [
    "Vamos a extraer los datos de la lista\n",
    "- `input_data`: en esta variable almacenamos el valor de la secuencia\n",
    "- `pattern`: en esta variable almacenamos el patron a buscar"
   ]
  },
  {
   "cell_type": "code",
   "execution_count": 7,
   "metadata": {},
   "outputs": [],
   "source": [
    "# tu codigo aqui\n",
    "input_data,pattern = data"
   ]
  },
  {
   "cell_type": "markdown",
   "metadata": {},
   "source": [
    "#### Ejecutamos la funcion `pattern_count`\n",
    "El resultado esperado es **35**"
   ]
  },
  {
   "cell_type": "code",
   "execution_count": 8,
   "metadata": {},
   "outputs": [
    {
     "data": {
      "text/plain": [
       "35"
      ]
     },
     "execution_count": 8,
     "metadata": {},
     "output_type": "execute_result"
    }
   ],
   "source": [
    "pattern_count(input_data, pattern)"
   ]
  },
  {
   "cell_type": "markdown",
   "metadata": {},
   "source": [
    "# Tarea 2 - Parte 2"
   ]
  },
  {
   "cell_type": "markdown",
   "metadata": {},
   "source": [
    "Leer el siguiente [blog](https://betterprogramming.pub/pandas-illustrated-the-definitive-visual-guide-to-pandas-c31fa921a43) acerca de Pandas y en una celda de Markdown hacer un breve resumen y un comentario de que tipos de datos te gustaria analizar con Pandas."
   ]
  },
  {
   "cell_type": "code",
   "execution_count": null,
   "metadata": {},
   "outputs": [],
   "source": []
  }
 ],
 "metadata": {
  "kernelspec": {
   "display_name": "Python 3 (ipykernel)",
   "language": "python",
   "name": "python3"
  },
  "language_info": {
   "codemirror_mode": {
    "name": "ipython",
    "version": 3
   },
   "file_extension": ".py",
   "mimetype": "text/x-python",
   "name": "python",
   "nbconvert_exporter": "python",
   "pygments_lexer": "ipython3",
   "version": "3.11.4"
  }
 },
 "nbformat": 4,
 "nbformat_minor": 4
}
