{
 "cells": [
  {
   "cell_type": "markdown",
   "metadata": {
    "id": "pyjkS9-gpFmy"
   },
   "source": [
    "# Python basics\n",
    "\n",
    "En esta clase veremos los fundamentos y elementos básicos de python. \n",
    "Estos son comunes y están presentes en cualquier tipo de programa de Python, no son específicos de programación científica y los encontraremos también en aplicaciones web, móviles, scripting y desarrollo de software tradicional.\n",
    "\n",
    "Quienes ya saben Python o algún otro lenguaje programación encontrarán esto como muy básico o elemental, pero es importante que lo veamos para los compañeros que tienen poca experiencia o bien se están iniciando en la programación.\n",
    "\n",
    "**Detalle importante** : este texto esta escrito en \"Markdown\" que es el lenguaje que utilizan los notebooks para dar formato (entre otras cosas) al texto  que no es parte del código de programación.\n",
    "\n",
    "Es importante conocer ls sintaxis de Markdown para documentar muchos productos de bioinformática por lo que es aconsejable que investiguemos y experimentemos durante nuestra formación, referencia útil: https://github.com/adam-p/markdown-here/wiki/Markdown-Cheatsheet.\n",
    "\n",
    "### Esto es una celda tipo \"Markdown\"\n",
    "Podemos ver en la barra de menú que al hacer click en esta celda se activa el modo \"Markdown\" de esta forma indicamos que esta celda no contiene código ejecutable y que el contenido escrito en ella esta en formato \"Markdown\".\n",
    "\n",
    "#### Recordar\n",
    "* Podemos dar doble click a una celda  tipo \"Markdown\" para ver su contenido puro en Markdown o bien editar y agregar contenido\n",
    "* Tanto celdas tipo \"Markdown\" como celdas tipo \"Code\" pueden ser \"ejecutadas\" con shift+enter\n",
    "    * En celdas tipo \"Markdown\" esto ocasiona que se \"renderize\" el markdown (aplicar el formato especificado y se dibuje en pantalla el contenido)\n",
    "    * En celdas tipo \"Code\" esto ocasiona que se ejecute el código definido en la celda y si el código tiene salidas como impresiones a pantalla, estas serán desplegadas en el notebook.\n",
    "    * No olvides guardar cada cierto tiempo tu \"Notebook\"\n",
    "* Podemos agregar mas celdas al notebook a través de la cruz \"+\" del lado izquierdo del menú.\n",
    "* Podemos también cortar, copiar y pegar celdas en el menú.\n",
    "* Si por error borras una celda, se puede recuperar en: Edit -> Undo Delete Cells\n",
    "* Todas las acciones que estaremos haciendo a través de la barra de menú tienen tambien shortcuts del teclado.\n",
    "    * Por ejemplo el indicar que una celda es del tipo \"Markdown\" puede hacerse con `Esc`+`m`+`enter`"
   ]
  },
  {
   "cell_type": "markdown",
   "metadata": {},
   "source": [
    "### Clase y Objeto"
   ]
  },
  {
   "cell_type": "code",
   "execution_count": 1,
   "metadata": {},
   "outputs": [],
   "source": [
    "class Estudiante:\n",
    "    def __init__(self, nombre, edad):\n",
    "        self.nombre = nombre\n",
    "        self.edad = edad\n",
    "\n",
    "    def saludar(self):\n",
    "        print(f\"Hola, soy {self.nombre} y tengo {self.edad} años.\")"
   ]
  },
  {
   "cell_type": "code",
   "execution_count": 2,
   "metadata": {},
   "outputs": [],
   "source": [
    "estudiante1 = Estudiante(nombre=\"Erick Diaz\", edad=22)"
   ]
  },
  {
   "cell_type": "code",
   "execution_count": 3,
   "metadata": {},
   "outputs": [
    {
     "name": "stdout",
     "output_type": "stream",
     "text": [
      "Hola, soy Erick Diaz y tengo 22 años.\n"
     ]
    }
   ],
   "source": [
    "estudiante1.saludar()"
   ]
  },
  {
   "cell_type": "code",
   "execution_count": null,
   "metadata": {},
   "outputs": [],
   "source": []
  },
  {
   "cell_type": "markdown",
   "metadata": {},
   "source": [
    "## Python Zen\n",
    "\n",
    "El \"Zen de Python\" es un conjunto de principios y filosofías que guían el diseño de Python. Estos principios fueron escritos por Tim Peters "
   ]
  },
  {
   "cell_type": "code",
   "execution_count": null,
   "metadata": {},
   "outputs": [],
   "source": [
    "import this"
   ]
  },
  {
   "cell_type": "markdown",
   "metadata": {
    "id": "Vm23Q8j9pFnL",
    "tags": []
   },
   "source": [
    "## Hola Mundo en Markdown\n",
    "**Ejercicio**: Escribir tu nombre y carnet en una nueva celda con el carnet en negrita"
   ]
  },
  {
   "cell_type": "markdown",
   "metadata": {},
   "source": [
    "Erick Diaz **123123**"
   ]
  },
  {
   "cell_type": "markdown",
   "metadata": {
    "id": "b5dvhhYwpFnR"
   },
   "source": [
    "### Programación interactiva e interpretada\n",
    "Estamos viendo en este caso algo que mencionamos en las primeras clases, Python es un lenguaje interpretado y que nos permite realizar programación interactiva:\n",
    "* Podemos ejecutar pequeñas porciones de código \"a demanda\" sin necesidad de compilar el código completo\n",
    "* Podemos ejecutar sentencias individuales o grupos de sentencias, evaluar el resultado inmediatamente y ejecutar nuevas sentencias en respuesta(con lenguajes compilados necesitamos compilar antes de ejecutar las nuevas sentencias)"
   ]
  },
  {
   "cell_type": "markdown",
   "metadata": {
    "id": "Sqo6PzYxpFnR"
   },
   "source": [
    "### Autocompletado de código\n",
    "Para hacer la programación más ágil y rápida, jupyter provee autocompletado de código a través de usar \"tab\".\n",
    "* Ahora que ya conocemos la sentencia \"print\" intenta escribir \"pr\" en una celda tipo código y luego presiona \"tab\", Jupyter mostrara las opciones que coinciden\n",
    "* Si en lugar de  \"pr\" escribes \"pri\" las opciones se reducen y \"Jupyter\" autocompleta a la única opción disponible."
   ]
  },
  {
   "cell_type": "code",
   "execution_count": 4,
   "metadata": {},
   "outputs": [
    {
     "name": "stdout",
     "output_type": "stream",
     "text": [
      "Hola\n"
     ]
    }
   ],
   "source": [
    "print(\"Hola\")"
   ]
  },
  {
   "cell_type": "markdown",
   "metadata": {
    "tags": []
   },
   "source": [
    "## Identación"
   ]
  },
  {
   "cell_type": "code",
   "execution_count": null,
   "metadata": {},
   "outputs": [],
   "source": [
    "for i in [1, 2, 3, 4, 5]: # primera linea del bloque \"for i ..\"\n",
    "    print(i)               \n",
    "    for j in [6, 7, 8]:   # primera linea del bloque \"for j ..\"\n",
    "        print(i+j)        # primera linea del bloque \"for j ..\"\n",
    "    print(i)              # ultima linea del bloque \"for i ..\"\n",
    "print(\"fin\")"
   ]
  },
  {
   "cell_type": "markdown",
   "metadata": {
    "id": "SnWxoyeIpFnS"
   },
   "source": [
    "## Literales, valores, objetos, identificadores, variables y tipos primitivos\n",
    "\n",
    "Python al igual que muchos otros lenguajes dispone de variedad de gran variedad de tipos de \"objetos\" que podemos utilizar para representar datos e información en nuestros programas, algunos sencillos y otros mas complejos.\n",
    "\n",
    "Nuevamente esta sección es programación general en Python y la podemos utilizar en cualquier tipo de programa, no solo numéricos y o científicos. \n",
    "\n",
    "Dependiendo de la fuente que consultemos, pueden llamar de distinta forma a los elementos que acá veremos, pero lo importante es que conozcamos que son, para que son y cuando usarlos, el nombre es secundario y conforme los usemos se nos harán intuitivos.\n",
    "\n",
    "Empezaremos con lo mas sencillo, valores/literales y \"objetos\" sencillos o tipos primitivos, luego daremos paso a variables/identificadores para finalmente combinar todo en \"expresiones\" y posteriormente \"colecciones\" de objetos (a veces llamadas \"containers\" en Python o estructuras de datos en otros lenguajes)\n",
    "\n",
    "### Detalle importante: todo objeto/valor tiene un tipo que indica su naturaleza y sus posibles usos\n",
    "\n",
    "Para quienes vienen de ciencias de la computación y conocen el paradigma \"OOP\", en Python **todo es un objeto**, para quienes vienen de otros ámbitos este detalle no es importante por ahora (detallaremos mas adelante).\n",
    "\n",
    "### Valores/Literales u objetos de tipo primitivo\n",
    "\n",
    "Todo programa necesita representar datos o información para realizar operaciones en estos, Python al igual que muchos lenguajes maneja \"tipos primitivos\" o valores básicos que nos permiten representar información general (además poseemos funciones para convertir a cierto tipo):\n",
    "\n",
    "* Números enteros: int\n",
    "* Números decimales: float\n",
    "* Caracteres y cadenas de caracteres(strings): str\n",
    "* Números complejos : complex\n",
    "* Valores booleanos (True, False): bool\n",
    "\n",
    "También podemos encontrar variaciones de estos, por ejemplo:\n",
    "* Números en notación científica\n",
    "* Números en notación hexadecimal"
   ]
  },
  {
   "cell_type": "markdown",
   "metadata": {
    "id": "AGM37GRSpFne",
    "tags": []
   },
   "source": [
    "## Variables/identificadores\n",
    "\n",
    "Similar al concepto de variables de la mayoría de lenguajes de programación . Nos permite dar un nombre(o identificador) a un objeto o valor de interés en nuestro programa, o bien definir en nuestro programa operaciones sobre un objeto del cual no conocemos su valor al momento de crear el programa ya que puede \"variar\" según información en una base de datos, un archivo u otros elementos(como un web service).\n",
    "\n",
    "* En python el tipo pertenece al objeto no a la variable/identificador\n",
    "    * por lo tanto podemos re-utilizar la variable en objetos de distinto tipo( tener precaucion)\n",
    "* Relacionado al punto anterior, Python es debilmente tipificado(no se necesita declarar tipos explicitamente)\n",
    "* Python es \"case sensitive\" por lo cual tipo_cambio es un identificador distinto a Tipo_cambio\n",
    "* Podemos usar las variables/identificadores en cualquier expresion donde un valor/literal pueda ser usado\n",
    "\n",
    "Un uso comun de las variables es utilizarla para guardar los resultados de operaciones y/o calculos que luego seran utilizados en otro punto del programa.\n",
    "\n",
    "Una **operación muy importante** y frecuente en Python es la operación de asignación en la cual asignamos un valor/objeto o el resultado de una operación a una variable/o identificador, esta operación tiene la sintáxis:\n",
    "\n",
    "```\n",
    "<identificador> = objeto/valor/resultado de operacion\n",
    "```\n",
    "\n",
    "Que significa que el objeto/valor o resultado de cierta operación podra ser accedido o usado en el programa bajo el nombre \"identificador\". Veamos algunos ejemplos:"
   ]
  },
  {
   "cell_type": "markdown",
   "metadata": {},
   "source": [
    "**Ejercicio**: guarda tu nombre en la variable `nombre`"
   ]
  },
  {
   "cell_type": "code",
   "execution_count": null,
   "metadata": {},
   "outputs": [],
   "source": [
    "nombre = \"Erick\" # Escribe tu nombre en las comillas"
   ]
  },
  {
   "cell_type": "markdown",
   "metadata": {
    "id": "fEM6-OEspFnk"
   },
   "source": [
    "**detalle importante:** Las variables/identificadores pueden ser usadas en cualquier celda del notebook posterior a la  celda en la que fueron creados,por ejemplo puedo imprimir el monto_convertido en la siguiente celda sin necesidad de re-declararla "
   ]
  },
  {
   "cell_type": "code",
   "execution_count": null,
   "metadata": {
    "colab": {
     "base_uri": "https://localhost:8080/"
    },
    "executionInfo": {
     "elapsed": 208,
     "status": "ok",
     "timestamp": 1643680618980,
     "user": {
      "displayName": "Luis Fernando Leal Hernandez",
      "photoUrl": "https://lh3.googleusercontent.com/a/default-user=s64",
      "userId": "08643725771405988586"
     },
     "user_tz": 360
    },
    "id": "X71nmNlIpFnl",
    "outputId": "60eb4b55-b640-41eb-a4a7-b8f818efe811"
   },
   "outputs": [],
   "source": [
    "print(nombre)"
   ]
  },
  {
   "cell_type": "markdown",
   "metadata": {
    "id": "6GNYixXOpFnm"
   },
   "source": [
    "**Ejercicio** : que pasa si usamos `Nombre` en print() en lugar de `nombre`? Agrega una celda de codigo e intentalo"
   ]
  },
  {
   "cell_type": "code",
   "execution_count": null,
   "metadata": {
    "colab": {
     "base_uri": "https://localhost:8080/"
    },
    "executionInfo": {
     "elapsed": 180,
     "status": "ok",
     "timestamp": 1643680758636,
     "user": {
      "displayName": "Luis Fernando Leal Hernandez",
      "photoUrl": "https://lh3.googleusercontent.com/a/default-user=s64",
      "userId": "08643725771405988586"
     },
     "user_tz": 360
    },
    "id": "EKBqosUKiRaH",
    "outputId": "c2f5e1be-cd48-4972-ec04-8c77db216960"
   },
   "outputs": [],
   "source": []
  },
  {
   "cell_type": "markdown",
   "metadata": {},
   "source": [
    "## Tipos de Datos"
   ]
  },
  {
   "cell_type": "markdown",
   "metadata": {
    "id": "Hhr0Q-VNpFnT",
    "tags": []
   },
   "source": [
    "### Números enteros"
   ]
  },
  {
   "cell_type": "code",
   "execution_count": null,
   "metadata": {
    "colab": {
     "base_uri": "https://localhost:8080/"
    },
    "executionInfo": {
     "elapsed": 55,
     "status": "ok",
     "timestamp": 1643679466103,
     "user": {
      "displayName": "Luis Fernando Leal Hernandez",
      "photoUrl": "https://lh3.googleusercontent.com/a/default-user=s64",
      "userId": "08643725771405988586"
     },
     "user_tz": 360
    },
    "id": "a3RgCkuCpFnT",
    "outputId": "6c1222e5-1dcb-47ea-f20d-d2045f86b479"
   },
   "outputs": [],
   "source": [
    "12"
   ]
  },
  {
   "cell_type": "code",
   "execution_count": null,
   "metadata": {
    "colab": {
     "base_uri": "https://localhost:8080/"
    },
    "executionInfo": {
     "elapsed": 51,
     "status": "ok",
     "timestamp": 1643679466104,
     "user": {
      "displayName": "Luis Fernando Leal Hernandez",
      "photoUrl": "https://lh3.googleusercontent.com/a/default-user=s64",
      "userId": "08643725771405988586"
     },
     "user_tz": 360
    },
    "id": "PcvF-0TVpFnT",
    "outputId": "f310a869-7899-4459-e5c2-72b5b941a082"
   },
   "outputs": [],
   "source": [
    "int(5.12)"
   ]
  },
  {
   "cell_type": "markdown",
   "metadata": {
    "id": "DCQV-ovapFnU"
   },
   "source": [
    "### Números decimales"
   ]
  },
  {
   "cell_type": "code",
   "execution_count": null,
   "metadata": {
    "colab": {
     "base_uri": "https://localhost:8080/"
    },
    "executionInfo": {
     "elapsed": 46,
     "status": "ok",
     "timestamp": 1643679466106,
     "user": {
      "displayName": "Luis Fernando Leal Hernandez",
      "photoUrl": "https://lh3.googleusercontent.com/a/default-user=s64",
      "userId": "08643725771405988586"
     },
     "user_tz": 360
    },
    "id": "PcWnUdEapFnV",
    "outputId": "d3a3feed-87af-45ce-9cf3-4ddf11392069"
   },
   "outputs": [],
   "source": [
    "3.1416"
   ]
  },
  {
   "cell_type": "code",
   "execution_count": null,
   "metadata": {
    "colab": {
     "base_uri": "https://localhost:8080/"
    },
    "executionInfo": {
     "elapsed": 40,
     "status": "ok",
     "timestamp": 1643679466107,
     "user": {
      "displayName": "Luis Fernando Leal Hernandez",
      "photoUrl": "https://lh3.googleusercontent.com/a/default-user=s64",
      "userId": "08643725771405988586"
     },
     "user_tz": 360
    },
    "id": "asYajIdepFnW",
    "outputId": "a7d04be7-2771-47ce-99cb-a59b1e207d7e"
   },
   "outputs": [],
   "source": [
    "float(3.1416)"
   ]
  },
  {
   "cell_type": "code",
   "execution_count": null,
   "metadata": {
    "colab": {
     "base_uri": "https://localhost:8080/"
    },
    "executionInfo": {
     "elapsed": 34,
     "status": "ok",
     "timestamp": 1643679466108,
     "user": {
      "displayName": "Luis Fernando Leal Hernandez",
      "photoUrl": "https://lh3.googleusercontent.com/a/default-user=s64",
      "userId": "08643725771405988586"
     },
     "user_tz": 360
    },
    "id": "pd5GdeCgpFnW",
    "outputId": "6ee82222-9b9d-48b3-d02d-6872b8df03f0"
   },
   "outputs": [],
   "source": [
    "float(\"3.114\") "
   ]
  },
  {
   "cell_type": "markdown",
   "metadata": {
    "id": "zOXNFWT0pFnZ"
   },
   "source": [
    "#### Números complejos"
   ]
  },
  {
   "cell_type": "code",
   "execution_count": null,
   "metadata": {
    "colab": {
     "base_uri": "https://localhost:8080/"
    },
    "executionInfo": {
     "elapsed": 204,
     "status": "ok",
     "timestamp": 1643679588442,
     "user": {
      "displayName": "Luis Fernando Leal Hernandez",
      "photoUrl": "https://lh3.googleusercontent.com/a/default-user=s64",
      "userId": "08643725771405988586"
     },
     "user_tz": 360
    },
    "id": "jt15Rb4PpFnZ",
    "outputId": "9f1a17c3-9508-493d-a9b1-b9ff2b6127e0"
   },
   "outputs": [],
   "source": [
    "(1 + 2j) * (1 + 2j)"
   ]
  },
  {
   "cell_type": "markdown",
   "metadata": {
    "id": "XUp-VO7JpFnZ"
   },
   "source": [
    "#### Booleanos\n",
    "Utilizados comunmente para controlar el flujo de un programa a través de la evaluación de condiciones, estas condiciones pueden cumplirse(True) o no cumplirse(False) y determinamos el flujo de un programa según uno de estos 2 valores.\n",
    "\n",
    "En otros contextos y/o lenguajes tenemos\n",
    "* 1=True\n",
    "* 0=False\n",
    "\n",
    "Por ejemplo, un alumno aprueba si su nota es mayor a 61 , por lo tanto una condición puede ser: verdadera si el alumno tiene mas de 61 o falsa en caso contrario"
   ]
  },
  {
   "cell_type": "code",
   "execution_count": null,
   "metadata": {
    "colab": {
     "base_uri": "https://localhost:8080/"
    },
    "executionInfo": {
     "elapsed": 193,
     "status": "ok",
     "timestamp": 1643679710106,
     "user": {
      "displayName": "Luis Fernando Leal Hernandez",
      "photoUrl": "https://lh3.googleusercontent.com/a/default-user=s64",
      "userId": "08643725771405988586"
     },
     "user_tz": 360
    },
    "id": "3ddPDxKTpFna",
    "outputId": "535d3a8f-190c-444a-a5ec-55d9d0161d85"
   },
   "outputs": [],
   "source": [
    "True"
   ]
  },
  {
   "cell_type": "code",
   "execution_count": null,
   "metadata": {
    "colab": {
     "base_uri": "https://localhost:8080/"
    },
    "executionInfo": {
     "elapsed": 214,
     "status": "ok",
     "timestamp": 1643679716048,
     "user": {
      "displayName": "Luis Fernando Leal Hernandez",
      "photoUrl": "https://lh3.googleusercontent.com/a/default-user=s64",
      "userId": "08643725771405988586"
     },
     "user_tz": 360
    },
    "id": "EQ54y30ApFna",
    "outputId": "29a6459c-e20f-43f8-dd29-76880b898545"
   },
   "outputs": [],
   "source": [
    "False"
   ]
  },
  {
   "cell_type": "code",
   "execution_count": null,
   "metadata": {
    "colab": {
     "base_uri": "https://localhost:8080/"
    },
    "executionInfo": {
     "elapsed": 230,
     "status": "ok",
     "timestamp": 1643679736312,
     "user": {
      "displayName": "Luis Fernando Leal Hernandez",
      "photoUrl": "https://lh3.googleusercontent.com/a/default-user=s64",
      "userId": "08643725771405988586"
     },
     "user_tz": 360
    },
    "id": "4MqS3mNmpFna",
    "outputId": "4d09fe69-f52b-4680-fdc5-b22b2e67f02d"
   },
   "outputs": [],
   "source": [
    "bool(1)"
   ]
  },
  {
   "cell_type": "code",
   "execution_count": null,
   "metadata": {
    "colab": {
     "base_uri": "https://localhost:8080/"
    },
    "executionInfo": {
     "elapsed": 189,
     "status": "ok",
     "timestamp": 1643679738085,
     "user": {
      "displayName": "Luis Fernando Leal Hernandez",
      "photoUrl": "https://lh3.googleusercontent.com/a/default-user=s64",
      "userId": "08643725771405988586"
     },
     "user_tz": 360
    },
    "id": "htTjCeu_pFna",
    "outputId": "e1a2d654-ac99-4557-d58b-d8844d29a484"
   },
   "outputs": [],
   "source": [
    "bool(0)"
   ]
  },
  {
   "cell_type": "code",
   "execution_count": 7,
   "metadata": {},
   "outputs": [
    {
     "data": {
      "text/plain": [
       "False"
      ]
     },
     "execution_count": 7,
     "metadata": {},
     "output_type": "execute_result"
    }
   ],
   "source": [
    "bool(None)"
   ]
  },
  {
   "cell_type": "code",
   "execution_count": 11,
   "metadata": {},
   "outputs": [
    {
     "data": {
      "text/plain": [
       "True"
      ]
     },
     "execution_count": 11,
     "metadata": {},
     "output_type": "execute_result"
    }
   ],
   "source": [
    "1 < 2 and (not 3 < 2 or 1 == 0)"
   ]
  },
  {
   "cell_type": "markdown",
   "metadata": {
    "id": "DI9zN2PQpFnb"
   },
   "source": [
    "#### Notación científica\n",
    "Más que un tipo de objeto o tipo de valor, es una forma de reprsentar uno de los ya mencionados números decimales o reales por lo cual todas las operaciones o usos de un número real estan también disponibles a números específicados con esta notación."
   ]
  },
  {
   "cell_type": "code",
   "execution_count": null,
   "metadata": {
    "colab": {
     "base_uri": "https://localhost:8080/"
    },
    "executionInfo": {
     "elapsed": 281,
     "status": "ok",
     "timestamp": 1643679890417,
     "user": {
      "displayName": "Luis Fernando Leal Hernandez",
      "photoUrl": "https://lh3.googleusercontent.com/a/default-user=s64",
      "userId": "08643725771405988586"
     },
     "user_tz": 360
    },
    "id": "p5Zf3WIhpFnb",
    "outputId": "97a75a99-f5b3-4dee-933f-967183d32eb4"
   },
   "outputs": [],
   "source": [
    "# Numero real comun\n",
    "-3.14"
   ]
  },
  {
   "cell_type": "code",
   "execution_count": null,
   "metadata": {
    "colab": {
     "base_uri": "https://localhost:8080/"
    },
    "executionInfo": {
     "elapsed": 199,
     "status": "ok",
     "timestamp": 1643679921089,
     "user": {
      "displayName": "Luis Fernando Leal Hernandez",
      "photoUrl": "https://lh3.googleusercontent.com/a/default-user=s64",
      "userId": "08643725771405988586"
     },
     "user_tz": 360
    },
    "id": "Jp6KM_zJpFnc",
    "outputId": "08ed06d2-e16c-4dc5-c362-0dcebfe5e0eb"
   },
   "outputs": [],
   "source": [
    "-314e-2"
   ]
  },
  {
   "cell_type": "code",
   "execution_count": null,
   "metadata": {
    "colab": {
     "base_uri": "https://localhost:8080/"
    },
    "executionInfo": {
     "elapsed": 208,
     "status": "ok",
     "timestamp": 1643679941822,
     "user": {
      "displayName": "Luis Fernando Leal Hernandez",
      "photoUrl": "https://lh3.googleusercontent.com/a/default-user=s64",
      "userId": "08643725771405988586"
     },
     "user_tz": 360
    },
    "id": "llSQq33jpFnd",
    "outputId": "6e35a7b5-19f0-425e-900f-9d5a1f52c41f"
   },
   "outputs": [],
   "source": [
    "-314.0e-2"
   ]
  },
  {
   "cell_type": "code",
   "execution_count": null,
   "metadata": {
    "colab": {
     "base_uri": "https://localhost:8080/"
    },
    "executionInfo": {
     "elapsed": 235,
     "status": "ok",
     "timestamp": 1643679956710,
     "user": {
      "displayName": "Luis Fernando Leal Hernandez",
      "photoUrl": "https://lh3.googleusercontent.com/a/default-user=s64",
      "userId": "08643725771405988586"
     },
     "user_tz": 360
    },
    "id": "MVaE8D8rpFnd",
    "outputId": "13a3802c-a436-4d04-843e-15c6201e4235"
   },
   "outputs": [],
   "source": [
    "-0.00314e3"
   ]
  },
  {
   "cell_type": "markdown",
   "metadata": {},
   "source": [
    "\n",
    "\n",
    "### Strings"
   ]
  },
  {
   "cell_type": "code",
   "execution_count": null,
   "metadata": {
    "colab": {
     "base_uri": "https://localhost:8080/"
    },
    "executionInfo": {
     "elapsed": 10,
     "status": "ok",
     "timestamp": 1643679465416,
     "user": {
      "displayName": "Luis Fernando Leal Hernandez",
      "photoUrl": "https://lh3.googleusercontent.com/a/default-user=s64",
      "userId": "08643725771405988586"
     },
     "user_tz": 360
    },
    "id": "GbGMnwJipFnM",
    "outputId": "db36f41c-d1dc-469a-ab08-6d0b89f94b9c"
   },
   "outputs": [],
   "source": [
    "# Esta es una celda tipo \"Code\" y esto es un comentario tradicional de Python de una linea\n",
    "# Al igual que en otros lenguajes, este comentario es ignorado y no tiene efecto en el programa\n",
    "# Los comentarios nos ayudan a agregar anotaciones,recordatorios, explicaciones etc para otros programadores,data scientists o incluso nosotros mismos\n",
    "# Es buena idea comentar nuestro código y no solo el notebook ya que es común exportar el código para ser ejecutado en modo batch en algún servidor\n",
    "# En este caso todo este texto(comentarios) es ignorado y lo unico ejecutado es la sentencia print()\n",
    "# Parecido a otros lenguajes ,print() es usado para obtener un resultado de nuestro programa o desplegar algo\n",
    "# En modo batch print() muestra su salida en el stdout, comunmente la consola y en el notebook se muestra directamente en el mismo notebook\n",
    "# hola esto es un comentario\n",
    "\n",
    "print(\"Hola mundo en Python!\") \n",
    "print(\"Este es mi primer notebook con Python!\")\n",
    "print(\"Esta es una celda tipo 'Code' por lo cual print es código ejecutable\")\n",
    "print(\"Puedo ejecutar el código con shift+enter o con el boton Run del menu\") \n",
    "print(\"este es mi print\")"
   ]
  },
  {
   "cell_type": "code",
   "execution_count": null,
   "metadata": {
    "colab": {
     "base_uri": "https://localhost:8080/"
    },
    "executionInfo": {
     "elapsed": 365,
     "status": "ok",
     "timestamp": 1643679465774,
     "user": {
      "displayName": "Luis Fernando Leal Hernandez",
      "photoUrl": "https://lh3.googleusercontent.com/a/default-user=s64",
      "userId": "08643725771405988586"
     },
     "user_tz": 360
    },
    "id": "5ww81Rx7wBl7",
    "outputId": "4a9476f1-79f5-420f-9170-fa2af795da76"
   },
   "outputs": [],
   "source": [
    "print(\"hola mundo\")"
   ]
  },
  {
   "cell_type": "code",
   "execution_count": null,
   "metadata": {
    "colab": {
     "base_uri": "https://localhost:8080/",
     "height": 36
    },
    "executionInfo": {
     "elapsed": 30,
     "status": "ok",
     "timestamp": 1643679466109,
     "user": {
      "displayName": "Luis Fernando Leal Hernandez",
      "photoUrl": "https://lh3.googleusercontent.com/a/default-user=s64",
      "userId": "08643725771405988586"
     },
     "user_tz": 360
    },
    "id": "4lY7ZMDSpFnX",
    "outputId": "5d970cff-b8d7-4d49-a9f5-e0971d9d1c66"
   },
   "outputs": [],
   "source": [
    "\"cadena de caracteres\""
   ]
  },
  {
   "cell_type": "code",
   "execution_count": null,
   "metadata": {
    "colab": {
     "base_uri": "https://localhost:8080/",
     "height": 36
    },
    "executionInfo": {
     "elapsed": 518,
     "status": "ok",
     "timestamp": 1643679466603,
     "user": {
      "displayName": "Luis Fernando Leal Hernandez",
      "photoUrl": "https://lh3.googleusercontent.com/a/default-user=s64",
      "userId": "08643725771405988586"
     },
     "user_tz": 360
    },
    "id": "MZpI6nyGpFnX",
    "outputId": "17436955-8316-4ff9-94c9-18edee73573b"
   },
   "outputs": [],
   "source": [
    "'\"cadena de caracteres\"'"
   ]
  },
  {
   "cell_type": "code",
   "execution_count": null,
   "metadata": {
    "colab": {
     "base_uri": "https://localhost:8080/",
     "height": 36
    },
    "executionInfo": {
     "elapsed": 140,
     "status": "ok",
     "timestamp": 1643679466617,
     "user": {
      "displayName": "Luis Fernando Leal Hernandez",
      "photoUrl": "https://lh3.googleusercontent.com/a/default-user=s64",
      "userId": "08643725771405988586"
     },
     "user_tz": 360
    },
    "id": "xyvz2snafUlQ",
    "outputId": "641a90c1-b147-4376-de31-24b4354893dd"
   },
   "outputs": [],
   "source": [
    "\"'cadena de caracteres'\""
   ]
  },
  {
   "cell_type": "code",
   "execution_count": null,
   "metadata": {},
   "outputs": [],
   "source": [
    "porcentaje = 10.48\n",
    "\"adenina: \" + str(porcentaje) + \"%\""
   ]
  },
  {
   "cell_type": "markdown",
   "metadata": {},
   "source": [
    "**Ejercicio**: probar que retorna la función `len` con un String"
   ]
  },
  {
   "cell_type": "code",
   "execution_count": null,
   "metadata": {
    "colab": {
     "base_uri": "https://localhost:8080/"
    },
    "executionInfo": {
     "elapsed": 32,
     "status": "ok",
     "timestamp": 1643679466113,
     "user": {
      "displayName": "Luis Fernando Leal Hernandez",
      "photoUrl": "https://lh3.googleusercontent.com/a/default-user=s64",
      "userId": "08643725771405988586"
     },
     "user_tz": 360
    },
    "id": "a2cESF1nbTvQ",
    "outputId": "e77060aa-2920-44fc-8b61-9bddb55084a1"
   },
   "outputs": [],
   "source": [
    "type(len(\"dfasdsfsadf\"))"
   ]
  },
  {
   "cell_type": "code",
   "execution_count": null,
   "metadata": {},
   "outputs": [],
   "source": [
    "type(str(len(\"dfasdsfsadf\")))"
   ]
  },
  {
   "cell_type": "code",
   "execution_count": null,
   "metadata": {},
   "outputs": [],
   "source": [
    "12 + int(\"34\")"
   ]
  },
  {
   "cell_type": "markdown",
   "metadata": {},
   "source": [
    "Cambiando el tipo de datos"
   ]
  },
  {
   "cell_type": "code",
   "execution_count": null,
   "metadata": {
    "colab": {
     "base_uri": "https://localhost:8080/",
     "height": 36
    },
    "executionInfo": {
     "elapsed": 125,
     "status": "ok",
     "timestamp": 1643679466619,
     "user": {
      "displayName": "Luis Fernando Leal Hernandez",
      "photoUrl": "https://lh3.googleusercontent.com/a/default-user=s64",
      "userId": "08643725771405988586"
     },
     "user_tz": 360
    },
    "id": "3u-72WO0pFnY",
    "outputId": "3add0d4f-fb17-45eb-e590-7f039cd44cc2",
    "tags": []
   },
   "outputs": [],
   "source": [
    "str(\"12\")"
   ]
  },
  {
   "cell_type": "code",
   "execution_count": null,
   "metadata": {
    "colab": {
     "base_uri": "https://localhost:8080/",
     "height": 36
    },
    "executionInfo": {
     "elapsed": 127,
     "status": "ok",
     "timestamp": 1643679466622,
     "user": {
      "displayName": "Luis Fernando Leal Hernandez",
      "photoUrl": "https://lh3.googleusercontent.com/a/default-user=s64",
      "userId": "08643725771405988586"
     },
     "user_tz": 360
    },
    "id": "qQ7X2NOYpFnY",
    "outputId": "17729069-d64d-4a9c-c997-6b9bf3c0f971",
    "tags": []
   },
   "outputs": [],
   "source": [
    "str(12)"
   ]
  },
  {
   "cell_type": "markdown",
   "metadata": {},
   "source": [
    "Concatenando Strings"
   ]
  },
  {
   "cell_type": "code",
   "execution_count": null,
   "metadata": {
    "colab": {
     "base_uri": "https://localhost:8080/",
     "height": 36
    },
    "executionInfo": {
     "elapsed": 129,
     "status": "ok",
     "timestamp": 1643679466625,
     "user": {
      "displayName": "Luis Fernando Leal Hernandez",
      "photoUrl": "https://lh3.googleusercontent.com/a/default-user=s64",
      "userId": "08643725771405988586"
     },
     "user_tz": 360
    },
    "id": "CBCdZEdfccuD",
    "outputId": "66fe1d87-f8f4-416f-d9d5-892f48b1ec2a",
    "tags": []
   },
   "outputs": [],
   "source": [
    "\"12\" + \"2\""
   ]
  },
  {
   "cell_type": "code",
   "execution_count": null,
   "metadata": {
    "colab": {
     "base_uri": "https://localhost:8080/"
    },
    "executionInfo": {
     "elapsed": 130,
     "status": "ok",
     "timestamp": 1643679466627,
     "user": {
      "displayName": "Luis Fernando Leal Hernandez",
      "photoUrl": "https://lh3.googleusercontent.com/a/default-user=s64",
      "userId": "08643725771405988586"
     },
     "user_tz": 360
    },
    "id": "xG7QuLtucgXX",
    "outputId": "f1103f8e-b95f-40f7-81c3-24f0d5f975bc",
    "tags": []
   },
   "outputs": [],
   "source": [
    "12 + 2"
   ]
  },
  {
   "cell_type": "markdown",
   "metadata": {},
   "source": [
    "Cambiando de string a entereos"
   ]
  },
  {
   "cell_type": "code",
   "execution_count": null,
   "metadata": {
    "colab": {
     "base_uri": "https://localhost:8080/"
    },
    "executionInfo": {
     "elapsed": 106,
     "status": "ok",
     "timestamp": 1643679466629,
     "user": {
      "displayName": "Luis Fernando Leal Hernandez",
      "photoUrl": "https://lh3.googleusercontent.com/a/default-user=s64",
      "userId": "08643725771405988586"
     },
     "user_tz": 360
    },
    "id": "ef-HL0rqpFnY",
    "outputId": "0c8bf201-4521-46b6-a8b5-af17e9171d54",
    "tags": []
   },
   "outputs": [],
   "source": [
    "int(\"12\") + 2"
   ]
  },
  {
   "cell_type": "code",
   "execution_count": null,
   "metadata": {
    "colab": {
     "base_uri": "https://localhost:8080/"
    },
    "executionInfo": {
     "elapsed": 118,
     "status": "ok",
     "timestamp": 1643679466645,
     "user": {
      "displayName": "Luis Fernando Leal Hernandez",
      "photoUrl": "https://lh3.googleusercontent.com/a/default-user=s64",
      "userId": "08643725771405988586"
     },
     "user_tz": 360
    },
    "id": "Bp5cOaSqpFnY",
    "outputId": "a7510279-d9c7-40b5-f375-63b269363871"
   },
   "outputs": [],
   "source": [
    "float(\"3.1416\") * 2"
   ]
  },
  {
   "cell_type": "markdown",
   "metadata": {
    "id": "zePhw4DlpFnR"
   },
   "source": [
    "**Ejercicio:** Escribir una celda de codigo que imprima/despliegue en pantalla tu nombre y carnet"
   ]
  },
  {
   "cell_type": "code",
   "execution_count": null,
   "metadata": {
    "colab": {
     "base_uri": "https://localhost:8080/"
    },
    "executionInfo": {
     "elapsed": 75,
     "status": "ok",
     "timestamp": 1643679466096,
     "user": {
      "displayName": "Luis Fernando Leal Hernandez",
      "photoUrl": "https://lh3.googleusercontent.com/a/default-user=s64",
      "userId": "08643725771405988586"
     },
     "user_tz": 360
    },
    "id": "N9dv2-Ml19IS",
    "outputId": "146922dd-2471-4548-cba8-337ae413faa9"
   },
   "outputs": [],
   "source": []
  },
  {
   "cell_type": "markdown",
   "metadata": {},
   "source": [
    "## Funciones"
   ]
  },
  {
   "cell_type": "code",
   "execution_count": null,
   "metadata": {
    "executionInfo": {
     "elapsed": 49,
     "status": "ok",
     "timestamp": 1643679465775,
     "user": {
      "displayName": "Luis Fernando Leal Hernandez",
      "photoUrl": "https://lh3.googleusercontent.com/a/default-user=s64",
      "userId": "08643725771405988586"
     },
     "user_tz": 360
    },
    "id": "RVhLhDXXpFnP"
   },
   "outputs": [],
   "source": [
    "def first_function(x, z):\n",
    "    '''\n",
    "      Esta es una celda tipo \"Code\" y esto es un comentario tradicional de Python de multiples lineas.\n",
    "      Este es utilizado como el primer elemento de funciones y es utilizado para documentar la función\n",
    "      Por ahora ignoremos el codigo ,lo veremos mas adelante ,lo importante es el comentario\n",
    "    '''\n",
    "    y = x * 10\n",
    "    \n",
    "    return y * z\n"
   ]
  },
  {
   "cell_type": "code",
   "execution_count": null,
   "metadata": {
    "colab": {
     "base_uri": "https://localhost:8080/"
    },
    "executionInfo": {
     "elapsed": 48,
     "status": "ok",
     "timestamp": 1643679465775,
     "user": {
      "displayName": "Luis Fernando Leal Hernandez",
      "photoUrl": "https://lh3.googleusercontent.com/a/default-user=s64",
      "userId": "08643725771405988586"
     },
     "user_tz": 360
    },
    "id": "4X7aVhCT0my8",
    "outputId": "60780266-2a36-4af9-92e4-ff236b59c826"
   },
   "outputs": [],
   "source": [
    "# esto es un comentario\n",
    "print(first_function(2)) #fsdafsadf\n",
    "print(1 * 2)\n",
    "print(6)"
   ]
  },
  {
   "cell_type": "code",
   "execution_count": null,
   "metadata": {
    "colab": {
     "base_uri": "https://localhost:8080/"
    },
    "executionInfo": {
     "elapsed": 44,
     "status": "ok",
     "timestamp": 1643679465776,
     "user": {
      "displayName": "Luis Fernando Leal Hernandez",
      "photoUrl": "https://lh3.googleusercontent.com/a/default-user=s64",
      "userId": "08643725771405988586"
     },
     "user_tz": 360
    },
    "id": "BXRXb9mCpFnP",
    "outputId": "80c40b18-f1db-4d0a-8794-e509e7c3f44b"
   },
   "outputs": [],
   "source": [
    "1+1\n",
    "first_function(2)"
   ]
  },
  {
   "cell_type": "code",
   "execution_count": null,
   "metadata": {
    "colab": {
     "base_uri": "https://localhost:8080/"
    },
    "executionInfo": {
     "elapsed": 28,
     "status": "ok",
     "timestamp": 1643679465776,
     "user": {
      "displayName": "Luis Fernando Leal Hernandez",
      "photoUrl": "https://lh3.googleusercontent.com/a/default-user=s64",
      "userId": "08643725771405988586"
     },
     "user_tz": 360
    },
    "id": "jBNbBfckpFnQ",
    "outputId": "3df1448d-1d9c-4287-9e45-c9d9ce1bb5f3"
   },
   "outputs": [],
   "source": [
    "print(first_function(2))"
   ]
  },
  {
   "cell_type": "code",
   "execution_count": null,
   "metadata": {
    "colab": {
     "base_uri": "https://localhost:8080/"
    },
    "executionInfo": {
     "elapsed": 21,
     "status": "ok",
     "timestamp": 1643679465777,
     "user": {
      "displayName": "Luis Fernando Leal Hernandez",
      "photoUrl": "https://lh3.googleusercontent.com/a/default-user=s64",
      "userId": "08643725771405988586"
     },
     "user_tz": 360
    },
    "id": "uIU3QU1ppFnQ",
    "outputId": "a3f8cad7-260a-4e86-c4ee-4531361ecc01"
   },
   "outputs": [],
   "source": [
    "first_function(2)\n",
    "1 * 2"
   ]
  },
  {
   "cell_type": "code",
   "execution_count": null,
   "metadata": {
    "executionInfo": {
     "elapsed": 71,
     "status": "ok",
     "timestamp": 1643679466100,
     "user": {
      "displayName": "Luis Fernando Leal Hernandez",
      "photoUrl": "https://lh3.googleusercontent.com/a/default-user=s64",
      "userId": "08643725771405988586"
     },
     "user_tz": 360
    },
    "id": "HHJO4AXh4Kaz"
   },
   "outputs": [],
   "source": [
    "def hola_esta_es_una_funcion_de_python():\n",
    "    print(\"hola\")"
   ]
  },
  {
   "cell_type": "code",
   "execution_count": null,
   "metadata": {
    "colab": {
     "base_uri": "https://localhost:8080/"
    },
    "executionInfo": {
     "elapsed": 72,
     "status": "ok",
     "timestamp": 1643679466101,
     "user": {
      "displayName": "Luis Fernando Leal Hernandez",
      "photoUrl": "https://lh3.googleusercontent.com/a/default-user=s64",
      "userId": "08643725771405988586"
     },
     "user_tz": 360
    },
    "id": "3fSs2vzFcTjl",
    "outputId": "759a6326-e2ed-40e9-ddc3-4b64b66c94e2"
   },
   "outputs": [],
   "source": [
    "hola_esta_es_una_funcion_de_python()  "
   ]
  },
  {
   "cell_type": "markdown",
   "metadata": {},
   "source": [
    "#### Escribe una función para obtener la longitud o numero de catacteres de una cadena de texto"
   ]
  },
  {
   "cell_type": "code",
   "execution_count": 12,
   "metadata": {},
   "outputs": [],
   "source": [
    "def get_length(cadena):\n",
    "    longitud = len(cadena)\n",
    "    print(\"la longitud es de \" + str(longitud) + \" caracteres\")\n",
    "    return longitud"
   ]
  },
  {
   "cell_type": "code",
   "execution_count": 13,
   "metadata": {},
   "outputs": [
    {
     "name": "stdout",
     "output_type": "stream",
     "text": [
      "la longitud es de 14 caracteres\n"
     ]
    }
   ],
   "source": [
    "l = get_length(\"bioinformatica\")"
   ]
  },
  {
   "cell_type": "code",
   "execution_count": 14,
   "metadata": {},
   "outputs": [
    {
     "data": {
      "text/plain": [
       "14"
      ]
     },
     "execution_count": 14,
     "metadata": {},
     "output_type": "execute_result"
    }
   ],
   "source": [
    "l"
   ]
  },
  {
   "cell_type": "code",
   "execution_count": null,
   "metadata": {},
   "outputs": [],
   "source": [
    "get_length(\"bioinformatica cffffffdfdfdfdfsdfs\")"
   ]
  },
  {
   "cell_type": "code",
   "execution_count": null,
   "metadata": {},
   "outputs": [],
   "source": [
    "def calcular_valor(n):\n",
    "    if n > 10:\n",
    "        return n -1\n",
    "    else:\n",
    "        return None"
   ]
  },
  {
   "cell_type": "code",
   "execution_count": null,
   "metadata": {},
   "outputs": [],
   "source": [
    "valor = calcular_valor(2)"
   ]
  },
  {
   "cell_type": "code",
   "execution_count": null,
   "metadata": {
    "colab": {
     "base_uri": "https://localhost:8080/"
    },
    "executionInfo": {
     "elapsed": 204,
     "status": "ok",
     "timestamp": 1643679759607,
     "user": {
      "displayName": "Luis Fernando Leal Hernandez",
      "photoUrl": "https://lh3.googleusercontent.com/a/default-user=s64",
      "userId": "08643725771405988586"
     },
     "user_tz": 360
    },
    "id": "_c2H30p2d6HE",
    "outputId": "e24c9239-4205-432f-d463-2783a5199e77"
   },
   "outputs": [],
   "source": [
    "if bool(valor):\n",
    "    print(valor)\n",
    "else: \n",
    "    print(\"error\")"
   ]
  },
  {
   "cell_type": "markdown",
   "metadata": {
    "id": "T7tKuQm1pFnn"
   },
   "source": [
    "## Expresiones\n",
    "\n",
    "Ya conocemos los valores/literales, variables e identificadores, que son elementos básicos para definir y representar datos e información en nuestros programas, pero necesitamos realizar operaciones en estos datos ya sean: operaciones numéricas, validaciones y comparaciones, operaciones en cadenas(por ejemplo sub-cadenas) de caracteres.\n",
    "\n",
    "En un lenguaje de programación se llama **expresión** a partes del programa que utilizan una combinación de una o mas: literales, valores, variables u operadores que la computadora opera para producir un resultado(un nuevo valor que puede ser asignado a un nuevo identificador o variable).\n",
    "\n",
    "Cuando escribimos hace un momento la sentencia de código:\n",
    "\n",
    "monto_convertido = tipo_cambio*monto\n",
    "\n",
    "Teníamos un ejemplo de expresión: en este caso la operación de multiplicación * se aplicó a 2 variables y el resultado de esta multiplicación se asigno con el operador  = a una nueva variable monto_convertido.\n",
    "\n",
    "Python y la mayoría de lenguajes tienen diversos operadores (y por lo tanto) tipos de operaciones.\n",
    "\n",
    "Según el tipo del objeto será posible aplicar algunas operaciones en este y otras no (por ejemplo, no podemos sumar 2 cadenas de caracteres)\n",
    "\n",
    "#### Operaciones y operadores aritméticos\n",
    "\n",
    "Tal y como su nombre indica son operadores que nos permiten realizar operaciones aritméticas como suma, resta, multiplicación o división.\n",
    "* suma +\n",
    "* resta -\n",
    "* multiplicación *\n",
    "* división : en Python podemos tener distintos tipos de división según lo que necesitemos\n",
    "    * División común   (obtiene el resultado completo incluyendo divisor y residuo)\n",
    "    * División entera /floor división (obtiene solo la parte entera redondeado al entero menor mas pequeño)\n",
    "    * División modular (obtiene solo el residuo de la división)\n",
    "* Potenciación ** \n",
    "\n",
    "Estos operadores pueden aplicarse cualquier valor valido que puede ser una literal, una variable o bien otras expresiones.\n",
    "\n",
    "Adicional a esto, podemos agrupar en paréntesis segmentos de operaciones y así de esta manera lograr mayor legibilidad, y definir explícitamente la precedencia y orden de las operaciones.\n"
   ]
  },
  {
   "cell_type": "code",
   "execution_count": null,
   "metadata": {
    "colab": {
     "base_uri": "https://localhost:8080/"
    },
    "executionInfo": {
     "elapsed": 182,
     "status": "ok",
     "timestamp": 1643680898959,
     "user": {
      "displayName": "Luis Fernando Leal Hernandez",
      "photoUrl": "https://lh3.googleusercontent.com/a/default-user=s64",
      "userId": "08643725771405988586"
     },
     "user_tz": 360
    },
    "id": "W9BGa_OppFno",
    "outputId": "9c381f55-485d-4ec3-8bc0-e0c73ae58e9a"
   },
   "outputs": [],
   "source": [
    "1 + 2"
   ]
  },
  {
   "cell_type": "code",
   "execution_count": null,
   "metadata": {
    "colab": {
     "base_uri": "https://localhost:8080/"
    },
    "executionInfo": {
     "elapsed": 183,
     "status": "ok",
     "timestamp": 1643680900256,
     "user": {
      "displayName": "Luis Fernando Leal Hernandez",
      "photoUrl": "https://lh3.googleusercontent.com/a/default-user=s64",
      "userId": "08643725771405988586"
     },
     "user_tz": 360
    },
    "id": "HbIdSGxNpFnq",
    "outputId": "97dc1764-4e24-4faa-9bd7-612635be533c"
   },
   "outputs": [],
   "source": [
    "1 - 1"
   ]
  },
  {
   "cell_type": "code",
   "execution_count": null,
   "metadata": {
    "colab": {
     "base_uri": "https://localhost:8080/"
    },
    "executionInfo": {
     "elapsed": 11,
     "status": "ok",
     "timestamp": 1643680901316,
     "user": {
      "displayName": "Luis Fernando Leal Hernandez",
      "photoUrl": "https://lh3.googleusercontent.com/a/default-user=s64",
      "userId": "08643725771405988586"
     },
     "user_tz": 360
    },
    "id": "saYCzB5apFnq",
    "outputId": "3fb57136-218b-4371-fad6-6fc67a6560af"
   },
   "outputs": [],
   "source": [
    "1.0 * 3"
   ]
  },
  {
   "cell_type": "code",
   "execution_count": null,
   "metadata": {
    "colab": {
     "base_uri": "https://localhost:8080/"
    },
    "executionInfo": {
     "elapsed": 230,
     "status": "ok",
     "timestamp": 1643680928134,
     "user": {
      "displayName": "Luis Fernando Leal Hernandez",
      "photoUrl": "https://lh3.googleusercontent.com/a/default-user=s64",
      "userId": "08643725771405988586"
     },
     "user_tz": 360
    },
    "id": "8vzT2-skpFnr",
    "outputId": "2e8076e5-c41f-49ce-aa09-4b569e0f4f06"
   },
   "outputs": [],
   "source": [
    "1 / 5 # cuidado con python 2"
   ]
  },
  {
   "cell_type": "code",
   "execution_count": null,
   "metadata": {
    "colab": {
     "base_uri": "https://localhost:8080/"
    },
    "executionInfo": {
     "elapsed": 219,
     "status": "ok",
     "timestamp": 1643681292864,
     "user": {
      "displayName": "Luis Fernando Leal Hernandez",
      "photoUrl": "https://lh3.googleusercontent.com/a/default-user=s64",
      "userId": "08643725771405988586"
     },
     "user_tz": 360
    },
    "id": "0U1TGhrwpFns",
    "outputId": "f086b781-71e8-40dc-bfe1-bb218f67b486"
   },
   "outputs": [],
   "source": [
    "nota1 = 25\n",
    "nota2 = 25\n",
    "nota3 = 50\n",
    "\n",
    "nota1 + nota2 + nota3\n",
    "otravar = nota1 + nota2 + nota3\n",
    "print(otravar)\n",
    "#nota1 + nota2 + nota3"
   ]
  },
  {
   "cell_type": "code",
   "execution_count": null,
   "metadata": {
    "colab": {
     "base_uri": "https://localhost:8080/"
    },
    "executionInfo": {
     "elapsed": 225,
     "status": "ok",
     "timestamp": 1643681303261,
     "user": {
      "displayName": "Luis Fernando Leal Hernandez",
      "photoUrl": "https://lh3.googleusercontent.com/a/default-user=s64",
      "userId": "08643725771405988586"
     },
     "user_tz": 360
    },
    "id": "wVkGmHl-pFns",
    "outputId": "1dae6183-f9bc-4886-e479-6e499d5ed9e8"
   },
   "outputs": [],
   "source": [
    "nota1 + nota2 + 50"
   ]
  },
  {
   "cell_type": "code",
   "execution_count": null,
   "metadata": {
    "colab": {
     "base_uri": "https://localhost:8080/"
    },
    "executionInfo": {
     "elapsed": 228,
     "status": "ok",
     "timestamp": 1643681305311,
     "user": {
      "displayName": "Luis Fernando Leal Hernandez",
      "photoUrl": "https://lh3.googleusercontent.com/a/default-user=s64",
      "userId": "08643725771405988586"
     },
     "user_tz": 360
    },
    "id": "GYLyFN5WpFnt",
    "outputId": "db4c12b7-0318-44e9-b97f-33a889aa5dfa"
   },
   "outputs": [],
   "source": [
    "(nota1 + nota2 + nota3) * 0.1"
   ]
  },
  {
   "cell_type": "code",
   "execution_count": null,
   "metadata": {
    "colab": {
     "base_uri": "https://localhost:8080/"
    },
    "executionInfo": {
     "elapsed": 199,
     "status": "ok",
     "timestamp": 1643681308204,
     "user": {
      "displayName": "Luis Fernando Leal Hernandez",
      "photoUrl": "https://lh3.googleusercontent.com/a/default-user=s64",
      "userId": "08643725771405988586"
     },
     "user_tz": 360
    },
    "id": "gdFdzBDhpFnu",
    "outputId": "84f9d82e-1206-46b9-c9b7-fb4ec5f2de7d"
   },
   "outputs": [],
   "source": [
    "total = (nota1 + nota2 + nota3) * 0.1\n",
    "\n",
    "print(total)"
   ]
  },
  {
   "cell_type": "code",
   "execution_count": null,
   "metadata": {
    "colab": {
     "base_uri": "https://localhost:8080/"
    },
    "executionInfo": {
     "elapsed": 202,
     "status": "ok",
     "timestamp": 1643681334704,
     "user": {
      "displayName": "Luis Fernando Leal Hernandez",
      "photoUrl": "https://lh3.googleusercontent.com/a/default-user=s64",
      "userId": "08643725771405988586"
     },
     "user_tz": 360
    },
    "id": "irySbW-GpFnu",
    "outputId": "7423cdc3-de4b-4987-d6e3-206d7d5b046c"
   },
   "outputs": [],
   "source": [
    "5/2"
   ]
  },
  {
   "cell_type": "code",
   "execution_count": null,
   "metadata": {},
   "outputs": [],
   "source": [
    "5/2 - 5//2"
   ]
  },
  {
   "cell_type": "code",
   "execution_count": null,
   "metadata": {
    "colab": {
     "base_uri": "https://localhost:8080/"
    },
    "executionInfo": {
     "elapsed": 9,
     "status": "ok",
     "timestamp": 1643681335645,
     "user": {
      "displayName": "Luis Fernando Leal Hernandez",
      "photoUrl": "https://lh3.googleusercontent.com/a/default-user=s64",
      "userId": "08643725771405988586"
     },
     "user_tz": 360
    },
    "id": "cFQelWk2pFnv",
    "outputId": "29dc790a-5a8e-4e55-f88e-b5e6721e2970"
   },
   "outputs": [],
   "source": [
    "5//2"
   ]
  },
  {
   "cell_type": "markdown",
   "metadata": {
    "id": "eLcT2ulJn56-"
   },
   "source": [
    "####  Division modular\n",
    "<img src=\"https://blog.teclado.com/content/images/2019/03/10div3-names.png\">\n"
   ]
  },
  {
   "cell_type": "code",
   "execution_count": 15,
   "metadata": {},
   "outputs": [
    {
     "data": {
      "text/plain": [
       "1"
      ]
     },
     "execution_count": 15,
     "metadata": {},
     "output_type": "execute_result"
    }
   ],
   "source": [
    "10%3"
   ]
  },
  {
   "cell_type": "code",
   "execution_count": null,
   "metadata": {
    "colab": {
     "base_uri": "https://localhost:8080/"
    },
    "executionInfo": {
     "elapsed": 211,
     "status": "ok",
     "timestamp": 1643681387526,
     "user": {
      "displayName": "Luis Fernando Leal Hernandez",
      "photoUrl": "https://lh3.googleusercontent.com/a/default-user=s64",
      "userId": "08643725771405988586"
     },
     "user_tz": 360
    },
    "id": "A2TrQhpLn4zc",
    "outputId": "fd9f25c8-0e00-4ee8-efd5-b6139bec2ecd"
   },
   "outputs": [],
   "source": [
    "7%3"
   ]
  },
  {
   "cell_type": "code",
   "execution_count": null,
   "metadata": {
    "id": "44Ix901aC0je"
   },
   "outputs": [],
   "source": [
    "str(round(52.64654654654, 2))+\"%\""
   ]
  },
  {
   "cell_type": "code",
   "execution_count": null,
   "metadata": {
    "colab": {
     "base_uri": "https://localhost:8080/"
    },
    "executionInfo": {
     "elapsed": 299,
     "status": "ok",
     "timestamp": 1643681399187,
     "user": {
      "displayName": "Luis Fernando Leal Hernandez",
      "photoUrl": "https://lh3.googleusercontent.com/a/default-user=s64",
      "userId": "08643725771405988586"
     },
     "user_tz": 360
    },
    "id": "hNV15YSusxXM",
    "outputId": "1d4accf0-7faf-4181-98b6-13af9df0ecec"
   },
   "outputs": [],
   "source": [
    "25%7"
   ]
  },
  {
   "cell_type": "code",
   "execution_count": null,
   "metadata": {
    "colab": {
     "base_uri": "https://localhost:8080/"
    },
    "executionInfo": {
     "elapsed": 7,
     "status": "ok",
     "timestamp": 1643681400501,
     "user": {
      "displayName": "Luis Fernando Leal Hernandez",
      "photoUrl": "https://lh3.googleusercontent.com/a/default-user=s64",
      "userId": "08643725771405988586"
     },
     "user_tz": 360
    },
    "id": "Vz3lc2a4pFnw",
    "outputId": "5f8b8d37-8ec4-4958-d502-a58e25af854b"
   },
   "outputs": [],
   "source": [
    "5%2"
   ]
  },
  {
   "cell_type": "code",
   "execution_count": null,
   "metadata": {
    "colab": {
     "base_uri": "https://localhost:8080/"
    },
    "executionInfo": {
     "elapsed": 203,
     "status": "ok",
     "timestamp": 1643681401936,
     "user": {
      "displayName": "Luis Fernando Leal Hernandez",
      "photoUrl": "https://lh3.googleusercontent.com/a/default-user=s64",
      "userId": "08643725771405988586"
     },
     "user_tz": 360
    },
    "id": "_yKgofrVpFnx",
    "outputId": "e4406f76-b76f-47ed-d47e-f2e9d8f8c8fd"
   },
   "outputs": [],
   "source": [
    "2%2"
   ]
  },
  {
   "cell_type": "code",
   "execution_count": null,
   "metadata": {
    "colab": {
     "base_uri": "https://localhost:8080/"
    },
    "executionInfo": {
     "elapsed": 198,
     "status": "ok",
     "timestamp": 1643681415004,
     "user": {
      "displayName": "Luis Fernando Leal Hernandez",
      "photoUrl": "https://lh3.googleusercontent.com/a/default-user=s64",
      "userId": "08643725771405988586"
     },
     "user_tz": 360
    },
    "id": "yCHzF9hfpFnx",
    "outputId": "c28c1eed-a63d-4ffb-d767-9e3af40ef71c"
   },
   "outputs": [],
   "source": [
    "6/2"
   ]
  },
  {
   "cell_type": "code",
   "execution_count": null,
   "metadata": {
    "colab": {
     "base_uri": "https://localhost:8080/"
    },
    "executionInfo": {
     "elapsed": 207,
     "status": "ok",
     "timestamp": 1643681418367,
     "user": {
      "displayName": "Luis Fernando Leal Hernandez",
      "photoUrl": "https://lh3.googleusercontent.com/a/default-user=s64",
      "userId": "08643725771405988586"
     },
     "user_tz": 360
    },
    "id": "6bXsSzfMpFny",
    "outputId": "179a7e77-8da3-45b5-f719-3805cfbb31be"
   },
   "outputs": [],
   "source": [
    "6/3"
   ]
  },
  {
   "cell_type": "code",
   "execution_count": null,
   "metadata": {
    "colab": {
     "base_uri": "https://localhost:8080/"
    },
    "executionInfo": {
     "elapsed": 189,
     "status": "ok",
     "timestamp": 1643681421713,
     "user": {
      "displayName": "Luis Fernando Leal Hernandez",
      "photoUrl": "https://lh3.googleusercontent.com/a/default-user=s64",
      "userId": "08643725771405988586"
     },
     "user_tz": 360
    },
    "id": "PXXGz9srpFny",
    "outputId": "4adf8a6e-6f26-4f7c-8c48-bbd960b001f8"
   },
   "outputs": [],
   "source": [
    "6%2"
   ]
  },
  {
   "cell_type": "code",
   "execution_count": null,
   "metadata": {
    "colab": {
     "base_uri": "https://localhost:8080/"
    },
    "executionInfo": {
     "elapsed": 197,
     "status": "ok",
     "timestamp": 1643681425044,
     "user": {
      "displayName": "Luis Fernando Leal Hernandez",
      "photoUrl": "https://lh3.googleusercontent.com/a/default-user=s64",
      "userId": "08643725771405988586"
     },
     "user_tz": 360
    },
    "id": "qF3k8tDjpFnz",
    "outputId": "2efe11d2-796a-4bcc-c7fa-7f9e944e2f97"
   },
   "outputs": [],
   "source": [
    "6%3"
   ]
  },
  {
   "cell_type": "code",
   "execution_count": null,
   "metadata": {
    "colab": {
     "base_uri": "https://localhost:8080/"
    },
    "executionInfo": {
     "elapsed": 186,
     "status": "ok",
     "timestamp": 1643681427747,
     "user": {
      "displayName": "Luis Fernando Leal Hernandez",
      "photoUrl": "https://lh3.googleusercontent.com/a/default-user=s64",
      "userId": "08643725771405988586"
     },
     "user_tz": 360
    },
    "id": "jqVrN3FxpFnz",
    "outputId": "950c7cb6-95b4-4c42-b614-abec18c250b1"
   },
   "outputs": [],
   "source": [
    "6%4"
   ]
  },
  {
   "cell_type": "markdown",
   "metadata": {
    "id": "Y3s6opvioPs1"
   },
   "source": [
    "#### Potenciación"
   ]
  },
  {
   "cell_type": "code",
   "execution_count": null,
   "metadata": {
    "colab": {
     "base_uri": "https://localhost:8080/"
    },
    "executionInfo": {
     "elapsed": 181,
     "status": "ok",
     "timestamp": 1643681464265,
     "user": {
      "displayName": "Luis Fernando Leal Hernandez",
      "photoUrl": "https://lh3.googleusercontent.com/a/default-user=s64",
      "userId": "08643725771405988586"
     },
     "user_tz": 360
    },
    "id": "3BvQ3Te1pFnz",
    "outputId": "4ca99893-33ba-4be2-dbe2-763b1a06e617"
   },
   "outputs": [],
   "source": [
    "2**2"
   ]
  },
  {
   "cell_type": "code",
   "execution_count": null,
   "metadata": {
    "colab": {
     "base_uri": "https://localhost:8080/"
    },
    "executionInfo": {
     "elapsed": 214,
     "status": "ok",
     "timestamp": 1643681467054,
     "user": {
      "displayName": "Luis Fernando Leal Hernandez",
      "photoUrl": "https://lh3.googleusercontent.com/a/default-user=s64",
      "userId": "08643725771405988586"
     },
     "user_tz": 360
    },
    "id": "mIlBRTRxpFn0",
    "outputId": "f16fccc1-e856-4abc-9da0-5ff92d523733"
   },
   "outputs": [],
   "source": [
    "2**3"
   ]
  },
  {
   "cell_type": "code",
   "execution_count": null,
   "metadata": {
    "colab": {
     "base_uri": "https://localhost:8080/"
    },
    "executionInfo": {
     "elapsed": 189,
     "status": "ok",
     "timestamp": 1643681659322,
     "user": {
      "displayName": "Luis Fernando Leal Hernandez",
      "photoUrl": "https://lh3.googleusercontent.com/a/default-user=s64",
      "userId": "08643725771405988586"
     },
     "user_tz": 360
    },
    "id": "OVjdXxwrDRia",
    "outputId": "d94755b3-2c92-40e3-da53-e2bf626acbc5"
   },
   "outputs": [],
   "source": [
    "0.9**1000"
   ]
  },
  {
   "cell_type": "markdown",
   "metadata": {
    "id": "PSyWoS7goTm5"
   },
   "source": [
    "#### Combinando expresiones"
   ]
  },
  {
   "cell_type": "code",
   "execution_count": null,
   "metadata": {
    "colab": {
     "base_uri": "https://localhost:8080/"
    },
    "executionInfo": {
     "elapsed": 223,
     "status": "ok",
     "timestamp": 1643681697167,
     "user": {
      "displayName": "Luis Fernando Leal Hernandez",
      "photoUrl": "https://lh3.googleusercontent.com/a/default-user=s64",
      "userId": "08643725771405988586"
     },
     "user_tz": 360
    },
    "id": "baKkJkCipFn0",
    "outputId": "4ecbc7ac-e760-497a-a251-5199769a1c77"
   },
   "outputs": [],
   "source": [
    "((1+2)*(3+ 2**3)) + 8"
   ]
  },
  {
   "cell_type": "code",
   "execution_count": null,
   "metadata": {
    "colab": {
     "base_uri": "https://localhost:8080/",
     "height": 36
    },
    "executionInfo": {
     "elapsed": 217,
     "status": "ok",
     "timestamp": 1643681722663,
     "user": {
      "displayName": "Luis Fernando Leal Hernandez",
      "photoUrl": "https://lh3.googleusercontent.com/a/default-user=s64",
      "userId": "08643725771405988586"
     },
     "user_tz": 360
    },
    "id": "U8rVtzT5pFn1",
    "outputId": "52b9e09e-c7fc-46e4-cd35-a13c3e1befec"
   },
   "outputs": [],
   "source": [
    "\"hola\"+str(2)"
   ]
  },
  {
   "cell_type": "markdown",
   "metadata": {
    "id": "1Nk9-1TopFn2"
   },
   "source": [
    "#### Operadores y operaciones relacionales (operadores de comparación)\n",
    "\n",
    "Estas operaciones/operadores son usadas para evaluar la relación entre 2 elementos (literales, variables o resultados de otras operaciones) a través de **evaluar** si cierta **condición** se cumple.\n",
    "\n",
    "Si la condición se cumple el resultado es \"verdadero\" representado en Python como True, si la condición no se cumple el resultado es \"falso\" representado en Python como False.\n",
    "\n",
    "Las operaciones relacionales son usadas comúnmente (en conjunto con operaciones lógicas que veremos) para controlar el flujo de un programa a través de evaluar condiciones y ejecutar ciertas partes del programa selectivamente según el resultado de la evaluación de condiciones.\n",
    "\n",
    "Los operadores relacionales nos ayudan a realizar comparaciones de valores, por ejemplo: si un valor es mayor, menor, igual o diferente de otro. \n",
    "Estos operadores son:\n",
    "\n",
    "* Mayor que >\n",
    "* Menor que <\n",
    "* == Igual a\n",
    "* \">=\" Mayor o Igual a\n",
    "* \"<=\" Menor o Igual a\n",
    "* != Differente a\n"
   ]
  },
  {
   "cell_type": "code",
   "execution_count": null,
   "metadata": {
    "colab": {
     "base_uri": "https://localhost:8080/"
    },
    "executionInfo": {
     "elapsed": 286,
     "status": "ok",
     "timestamp": 1643681966930,
     "user": {
      "displayName": "Luis Fernando Leal Hernandez",
      "photoUrl": "https://lh3.googleusercontent.com/a/default-user=s64",
      "userId": "08643725771405988586"
     },
     "user_tz": 360
    },
    "id": "DNQetfoFpFn2",
    "outputId": "1c0b3a04-1290-4a8b-b346-5ff7a201d6b8"
   },
   "outputs": [],
   "source": [
    "10 > 0"
   ]
  },
  {
   "cell_type": "code",
   "execution_count": null,
   "metadata": {
    "colab": {
     "base_uri": "https://localhost:8080/"
    },
    "executionInfo": {
     "elapsed": 202,
     "status": "ok",
     "timestamp": 1643681974521,
     "user": {
      "displayName": "Luis Fernando Leal Hernandez",
      "photoUrl": "https://lh3.googleusercontent.com/a/default-user=s64",
      "userId": "08643725771405988586"
     },
     "user_tz": 360
    },
    "id": "rrv7YI2ipFn3",
    "outputId": "436ccc5d-c1ad-49aa-cc85-c2e63f96dfcc"
   },
   "outputs": [],
   "source": [
    "10 > 10"
   ]
  },
  {
   "cell_type": "code",
   "execution_count": null,
   "metadata": {
    "colab": {
     "base_uri": "https://localhost:8080/"
    },
    "executionInfo": {
     "elapsed": 191,
     "status": "ok",
     "timestamp": 1643681985058,
     "user": {
      "displayName": "Luis Fernando Leal Hernandez",
      "photoUrl": "https://lh3.googleusercontent.com/a/default-user=s64",
      "userId": "08643725771405988586"
     },
     "user_tz": 360
    },
    "id": "uMEbGuMbpFn4",
    "outputId": "45364a1a-3d92-4160-fc7b-8c77ff75a047"
   },
   "outputs": [],
   "source": [
    "10 < 0"
   ]
  },
  {
   "cell_type": "code",
   "execution_count": null,
   "metadata": {
    "colab": {
     "base_uri": "https://localhost:8080/"
    },
    "executionInfo": {
     "elapsed": 221,
     "status": "ok",
     "timestamp": 1643681991001,
     "user": {
      "displayName": "Luis Fernando Leal Hernandez",
      "photoUrl": "https://lh3.googleusercontent.com/a/default-user=s64",
      "userId": "08643725771405988586"
     },
     "user_tz": 360
    },
    "id": "cxowqAoApFn4",
    "outputId": "b914e8e7-a075-4fc7-cbac-6eb1fc820f45"
   },
   "outputs": [],
   "source": [
    "10 > 0"
   ]
  },
  {
   "cell_type": "code",
   "execution_count": null,
   "metadata": {
    "colab": {
     "base_uri": "https://localhost:8080/"
    },
    "executionInfo": {
     "elapsed": 237,
     "status": "ok",
     "timestamp": 1643682008168,
     "user": {
      "displayName": "Luis Fernando Leal Hernandez",
      "photoUrl": "https://lh3.googleusercontent.com/a/default-user=s64",
      "userId": "08643725771405988586"
     },
     "user_tz": 360
    },
    "id": "fdluoB4WpFn4",
    "outputId": "aa16c8ac-910c-44a7-cbf9-8b8be674223a"
   },
   "outputs": [],
   "source": [
    "10 == 0"
   ]
  },
  {
   "cell_type": "code",
   "execution_count": null,
   "metadata": {
    "colab": {
     "base_uri": "https://localhost:8080/"
    },
    "executionInfo": {
     "elapsed": 543,
     "status": "ok",
     "timestamp": 1643682019398,
     "user": {
      "displayName": "Luis Fernando Leal Hernandez",
      "photoUrl": "https://lh3.googleusercontent.com/a/default-user=s64",
      "userId": "08643725771405988586"
     },
     "user_tz": 360
    },
    "id": "ZIfeqB5gpFn4",
    "outputId": "501efdd3-c3b9-4f1a-e353-bcd79bc0def4"
   },
   "outputs": [],
   "source": [
    "10 == 10"
   ]
  },
  {
   "cell_type": "code",
   "execution_count": null,
   "metadata": {
    "colab": {
     "base_uri": "https://localhost:8080/"
    },
    "executionInfo": {
     "elapsed": 242,
     "status": "ok",
     "timestamp": 1643682022255,
     "user": {
      "displayName": "Luis Fernando Leal Hernandez",
      "photoUrl": "https://lh3.googleusercontent.com/a/default-user=s64",
      "userId": "08643725771405988586"
     },
     "user_tz": 360
    },
    "id": "X5fIhuXppFn5",
    "outputId": "c871e172-d446-4201-91c4-c86ac4515516"
   },
   "outputs": [],
   "source": [
    "10 != 0"
   ]
  },
  {
   "cell_type": "code",
   "execution_count": null,
   "metadata": {
    "colab": {
     "base_uri": "https://localhost:8080/"
    },
    "executionInfo": {
     "elapsed": 224,
     "status": "ok",
     "timestamp": 1643682027087,
     "user": {
      "displayName": "Luis Fernando Leal Hernandez",
      "photoUrl": "https://lh3.googleusercontent.com/a/default-user=s64",
      "userId": "08643725771405988586"
     },
     "user_tz": 360
    },
    "id": "ABaqfi9epFn5",
    "outputId": "d3fba1e0-1be4-423a-ac99-24903c1221b5"
   },
   "outputs": [],
   "source": [
    "10 == 0"
   ]
  },
  {
   "cell_type": "code",
   "execution_count": null,
   "metadata": {
    "colab": {
     "base_uri": "https://localhost:8080/"
    },
    "executionInfo": {
     "elapsed": 213,
     "status": "ok",
     "timestamp": 1643682031299,
     "user": {
      "displayName": "Luis Fernando Leal Hernandez",
      "photoUrl": "https://lh3.googleusercontent.com/a/default-user=s64",
      "userId": "08643725771405988586"
     },
     "user_tz": 360
    },
    "id": "7tumpWAgpFn5",
    "outputId": "df23237f-54f9-4600-8e6a-7fed59419094"
   },
   "outputs": [],
   "source": [
    "10>=0"
   ]
  },
  {
   "cell_type": "code",
   "execution_count": null,
   "metadata": {
    "colab": {
     "base_uri": "https://localhost:8080/"
    },
    "executionInfo": {
     "elapsed": 197,
     "status": "ok",
     "timestamp": 1643682033094,
     "user": {
      "displayName": "Luis Fernando Leal Hernandez",
      "photoUrl": "https://lh3.googleusercontent.com/a/default-user=s64",
      "userId": "08643725771405988586"
     },
     "user_tz": 360
    },
    "id": "euIhh6wMpFn6",
    "outputId": "0e5b7c63-706d-46df-a919-69bf378f1b6a"
   },
   "outputs": [],
   "source": [
    "10>10"
   ]
  },
  {
   "cell_type": "code",
   "execution_count": null,
   "metadata": {
    "colab": {
     "base_uri": "https://localhost:8080/"
    },
    "executionInfo": {
     "elapsed": 284,
     "status": "ok",
     "timestamp": 1643682038634,
     "user": {
      "displayName": "Luis Fernando Leal Hernandez",
      "photoUrl": "https://lh3.googleusercontent.com/a/default-user=s64",
      "userId": "08643725771405988586"
     },
     "user_tz": 360
    },
    "id": "AQvJUGGOpFn6",
    "outputId": "e48c40dc-592c-4fdb-cfc9-c37570adaf5f"
   },
   "outputs": [],
   "source": [
    "10 >= 10"
   ]
  },
  {
   "cell_type": "code",
   "execution_count": null,
   "metadata": {
    "colab": {
     "base_uri": "https://localhost:8080/"
    },
    "executionInfo": {
     "elapsed": 277,
     "status": "ok",
     "timestamp": 1643682041836,
     "user": {
      "displayName": "Luis Fernando Leal Hernandez",
      "photoUrl": "https://lh3.googleusercontent.com/a/default-user=s64",
      "userId": "08643725771405988586"
     },
     "user_tz": 360
    },
    "id": "0gFwR81NpFn6",
    "outputId": "1aff859f-86a5-4748-d7c9-fda2f3affd30"
   },
   "outputs": [],
   "source": [
    "10 <= 0"
   ]
  },
  {
   "cell_type": "code",
   "execution_count": null,
   "metadata": {
    "colab": {
     "base_uri": "https://localhost:8080/"
    },
    "executionInfo": {
     "elapsed": 333,
     "status": "ok",
     "timestamp": 1643682044753,
     "user": {
      "displayName": "Luis Fernando Leal Hernandez",
      "photoUrl": "https://lh3.googleusercontent.com/a/default-user=s64",
      "userId": "08643725771405988586"
     },
     "user_tz": 360
    },
    "id": "GvGK7jkKpFn7",
    "outputId": "089db1b5-da70-4716-ea17-88b191b0ae9e"
   },
   "outputs": [],
   "source": [
    "10<= 10"
   ]
  },
  {
   "cell_type": "code",
   "execution_count": null,
   "metadata": {
    "executionInfo": {
     "elapsed": 187,
     "status": "ok",
     "timestamp": 1643682073575,
     "user": {
      "displayName": "Luis Fernando Leal Hernandez",
      "photoUrl": "https://lh3.googleusercontent.com/a/default-user=s64",
      "userId": "08643725771405988586"
     },
     "user_tz": 360
    },
    "id": "3JkBMYF2pFn7"
   },
   "outputs": [],
   "source": [
    "resultado = 10 <= 11"
   ]
  },
  {
   "cell_type": "code",
   "execution_count": null,
   "metadata": {
    "colab": {
     "base_uri": "https://localhost:8080/"
    },
    "executionInfo": {
     "elapsed": 199,
     "status": "ok",
     "timestamp": 1643682083211,
     "user": {
      "displayName": "Luis Fernando Leal Hernandez",
      "photoUrl": "https://lh3.googleusercontent.com/a/default-user=s64",
      "userId": "08643725771405988586"
     },
     "user_tz": 360
    },
    "id": "iqhqHTk1pFn7",
    "outputId": "8b2df0da-4a24-48f0-ed1e-81a7f066bc0a"
   },
   "outputs": [],
   "source": [
    "print(resultado)"
   ]
  },
  {
   "cell_type": "markdown",
   "metadata": {
    "id": "H7AV98jXpFn7"
   },
   "source": [
    "#### Tambien podemos usar operadores relacionales con variables ,no solamente valores/literales siempre y cuando la operacion tenga sentido "
   ]
  },
  {
   "cell_type": "code",
   "execution_count": null,
   "metadata": {
    "colab": {
     "base_uri": "https://localhost:8080/"
    },
    "executionInfo": {
     "elapsed": 212,
     "status": "ok",
     "timestamp": 1643682113222,
     "user": {
      "displayName": "Luis Fernando Leal Hernandez",
      "photoUrl": "https://lh3.googleusercontent.com/a/default-user=s64",
      "userId": "08643725771405988586"
     },
     "user_tz": 360
    },
    "id": "djs3gSXapFn8",
    "outputId": "95ae872d-c087-45ef-8cc8-4000d0264809"
   },
   "outputs": [],
   "source": [
    "ingresos = 1000.00\n",
    "egresos = 500.00\n",
    "\n",
    "ingresos >= egresos"
   ]
  },
  {
   "cell_type": "code",
   "execution_count": null,
   "metadata": {
    "colab": {
     "base_uri": "https://localhost:8080/"
    },
    "executionInfo": {
     "elapsed": 203,
     "status": "ok",
     "timestamp": 1643682118730,
     "user": {
      "displayName": "Luis Fernando Leal Hernandez",
      "photoUrl": "https://lh3.googleusercontent.com/a/default-user=s64",
      "userId": "08643725771405988586"
     },
     "user_tz": 360
    },
    "id": "M22JiMBSpFn8",
    "outputId": "d8d96919-4678-4f13-bf37-970ef3f74c8c"
   },
   "outputs": [],
   "source": [
    "ingresos == egresos"
   ]
  },
  {
   "cell_type": "code",
   "execution_count": null,
   "metadata": {
    "colab": {
     "base_uri": "https://localhost:8080/"
    },
    "executionInfo": {
     "elapsed": 257,
     "status": "ok",
     "timestamp": 1643682125013,
     "user": {
      "displayName": "Luis Fernando Leal Hernandez",
      "photoUrl": "https://lh3.googleusercontent.com/a/default-user=s64",
      "userId": "08643725771405988586"
     },
     "user_tz": 360
    },
    "id": "0lD8x7n8pFn8",
    "outputId": "f507b89a-11ea-4cb1-f68d-147e99e6dc2e"
   },
   "outputs": [],
   "source": [
    "ingresos != egresos"
   ]
  },
  {
   "cell_type": "markdown",
   "metadata": {
    "id": "Zn3Uzl-tpFn9"
   },
   "source": [
    "#### Operaciones y operadores lógicos\n",
    "\n",
    "Llamados también operadores booleanos y definidos matemáticamente a través de tablas de verdad en \"algebra booleana\" nos permiten combinar resultados de operaciones relacionales para evaluar condiciones mas complejas.\n",
    "\n",
    "El resultado de un operador lógico es \"True\" si se cumple la condición que denotan o \"False\" si no se cumple.  \n",
    "\n",
    "Los operadores \"Y\" , \"O\" y \"NO\" \n",
    "\n",
    "Ejemplo de operador lógico en una condición :\n",
    "**Si el estudiante aprobó todos sus cursos Y esta solvente en pagos, puede graduarse**\n",
    "\n",
    "En este caso el operador lógico es \"Y\"\n",
    "\n",
    "En Python estos operadores son:\n",
    "* and (la condición se cumple si y solo si si ambas sub-condiciones son verdaderas)\n",
    "* or  (la condición se cumple si al menos una de sus sub-condiciones son verdaderas)\n",
    "* not (la condición se invierte, verdadero se convierte en Falso y Falso se convierte en verdadero)\n"
   ]
  },
  {
   "cell_type": "markdown",
   "metadata": {
    "id": "dHpi0XkzpFn9"
   },
   "source": [
    "##### and"
   ]
  },
  {
   "cell_type": "code",
   "execution_count": null,
   "metadata": {
    "colab": {
     "base_uri": "https://localhost:8080/"
    },
    "executionInfo": {
     "elapsed": 198,
     "status": "ok",
     "timestamp": 1643682542387,
     "user": {
      "displayName": "Luis Fernando Leal Hernandez",
      "photoUrl": "https://lh3.googleusercontent.com/a/default-user=s64",
      "userId": "08643725771405988586"
     },
     "user_tz": 360
    },
    "id": "aI9RaCPMpFn9",
    "outputId": "68733ef4-8613-4856-e323-60d88cf6b11e"
   },
   "outputs": [],
   "source": [
    "False and False"
   ]
  },
  {
   "cell_type": "code",
   "execution_count": null,
   "metadata": {
    "colab": {
     "base_uri": "https://localhost:8080/"
    },
    "executionInfo": {
     "elapsed": 18,
     "status": "ok",
     "timestamp": 1643682543414,
     "user": {
      "displayName": "Luis Fernando Leal Hernandez",
      "photoUrl": "https://lh3.googleusercontent.com/a/default-user=s64",
      "userId": "08643725771405988586"
     },
     "user_tz": 360
    },
    "id": "sFgIn9CQpFn9",
    "outputId": "01a1e078-661a-4222-f943-c45a8a75de15"
   },
   "outputs": [],
   "source": [
    "False and True"
   ]
  },
  {
   "cell_type": "code",
   "execution_count": null,
   "metadata": {
    "colab": {
     "base_uri": "https://localhost:8080/"
    },
    "executionInfo": {
     "elapsed": 208,
     "status": "ok",
     "timestamp": 1643682544612,
     "user": {
      "displayName": "Luis Fernando Leal Hernandez",
      "photoUrl": "https://lh3.googleusercontent.com/a/default-user=s64",
      "userId": "08643725771405988586"
     },
     "user_tz": 360
    },
    "id": "YsnJAH6UpFn-",
    "outputId": "1cf27465-5ab6-4302-e37e-4f42680b6c65"
   },
   "outputs": [],
   "source": [
    "True and False"
   ]
  },
  {
   "cell_type": "code",
   "execution_count": null,
   "metadata": {
    "colab": {
     "base_uri": "https://localhost:8080/"
    },
    "executionInfo": {
     "elapsed": 225,
     "status": "ok",
     "timestamp": 1643682539169,
     "user": {
      "displayName": "Luis Fernando Leal Hernandez",
      "photoUrl": "https://lh3.googleusercontent.com/a/default-user=s64",
      "userId": "08643725771405988586"
     },
     "user_tz": 360
    },
    "id": "c9kuTw5mpFn-",
    "outputId": "5cd1a2ad-94ad-4949-9663-1b51833d3a7f"
   },
   "outputs": [],
   "source": [
    "True and True"
   ]
  },
  {
   "cell_type": "markdown",
   "metadata": {
    "id": "1PUzzhX0pFn_"
   },
   "source": [
    "##### or"
   ]
  },
  {
   "cell_type": "code",
   "execution_count": null,
   "metadata": {
    "colab": {
     "base_uri": "https://localhost:8080/"
    },
    "executionInfo": {
     "elapsed": 172,
     "status": "ok",
     "timestamp": 1643682587646,
     "user": {
      "displayName": "Luis Fernando Leal Hernandez",
      "photoUrl": "https://lh3.googleusercontent.com/a/default-user=s64",
      "userId": "08643725771405988586"
     },
     "user_tz": 360
    },
    "id": "tbKV2y61pFn_",
    "outputId": "554cef9d-07fe-4a56-8951-59a553253a4f"
   },
   "outputs": [],
   "source": [
    "(False or False)"
   ]
  },
  {
   "cell_type": "code",
   "execution_count": null,
   "metadata": {
    "colab": {
     "base_uri": "https://localhost:8080/"
    },
    "executionInfo": {
     "elapsed": 198,
     "status": "ok",
     "timestamp": 1643682589576,
     "user": {
      "displayName": "Luis Fernando Leal Hernandez",
      "photoUrl": "https://lh3.googleusercontent.com/a/default-user=s64",
      "userId": "08643725771405988586"
     },
     "user_tz": 360
    },
    "id": "zgEYs4mIpFn_",
    "outputId": "020a4334-7342-4ae6-b1f1-e390f1b0ab6e"
   },
   "outputs": [],
   "source": [
    "False or True"
   ]
  },
  {
   "cell_type": "code",
   "execution_count": null,
   "metadata": {
    "colab": {
     "base_uri": "https://localhost:8080/"
    },
    "executionInfo": {
     "elapsed": 9,
     "status": "ok",
     "timestamp": 1643682590755,
     "user": {
      "displayName": "Luis Fernando Leal Hernandez",
      "photoUrl": "https://lh3.googleusercontent.com/a/default-user=s64",
      "userId": "08643725771405988586"
     },
     "user_tz": 360
    },
    "id": "9CJaSOcMpFoA",
    "outputId": "9bf1c676-ee68-4b35-df32-75484f109e0a"
   },
   "outputs": [],
   "source": [
    "True or False"
   ]
  },
  {
   "cell_type": "code",
   "execution_count": null,
   "metadata": {
    "colab": {
     "base_uri": "https://localhost:8080/"
    },
    "executionInfo": {
     "elapsed": 177,
     "status": "ok",
     "timestamp": 1643682591948,
     "user": {
      "displayName": "Luis Fernando Leal Hernandez",
      "photoUrl": "https://lh3.googleusercontent.com/a/default-user=s64",
      "userId": "08643725771405988586"
     },
     "user_tz": 360
    },
    "id": "N5q5FlhYpFoA",
    "outputId": "1a26ae86-e922-4542-bb2b-ee199dd8a7b6"
   },
   "outputs": [],
   "source": [
    "True and True"
   ]
  },
  {
   "cell_type": "markdown",
   "metadata": {
    "id": "T9_L5mgqpFoA"
   },
   "source": [
    "##### not"
   ]
  },
  {
   "cell_type": "code",
   "execution_count": null,
   "metadata": {
    "colab": {
     "base_uri": "https://localhost:8080/"
    },
    "executionInfo": {
     "elapsed": 194,
     "status": "ok",
     "timestamp": 1643682606835,
     "user": {
      "displayName": "Luis Fernando Leal Hernandez",
      "photoUrl": "https://lh3.googleusercontent.com/a/default-user=s64",
      "userId": "08643725771405988586"
     },
     "user_tz": 360
    },
    "id": "oJk5MVg_pFoB",
    "outputId": "d8b4fece-a9c0-40f4-fc4b-a245e7154b0b"
   },
   "outputs": [],
   "source": [
    "not True\n"
   ]
  },
  {
   "cell_type": "code",
   "execution_count": null,
   "metadata": {
    "colab": {
     "base_uri": "https://localhost:8080/"
    },
    "executionInfo": {
     "elapsed": 171,
     "status": "ok",
     "timestamp": 1643682608025,
     "user": {
      "displayName": "Luis Fernando Leal Hernandez",
      "photoUrl": "https://lh3.googleusercontent.com/a/default-user=s64",
      "userId": "08643725771405988586"
     },
     "user_tz": 360
    },
    "id": "XpHNAC4WpFoB",
    "outputId": "4ff46304-9085-4fdf-93f8-e255825c6b07"
   },
   "outputs": [],
   "source": [
    "not False"
   ]
  },
  {
   "cell_type": "markdown",
   "metadata": {
    "id": "5Cyf0vmUpFoB"
   },
   "source": [
    "##### Asi como podemos usar parentesis para crear operaciones aritmeticas mas complejas y combinaciones de estas, podemos usar parentesis para agrugar operaciones logicas y asi crear expresiones booleanas mas complejas, ademas de ayudarnos a definir el orden de operaciones"
   ]
  },
  {
   "cell_type": "code",
   "execution_count": null,
   "metadata": {
    "colab": {
     "base_uri": "https://localhost:8080/"
    },
    "executionInfo": {
     "elapsed": 422,
     "status": "ok",
     "timestamp": 1643682675561,
     "user": {
      "displayName": "Luis Fernando Leal Hernandez",
      "photoUrl": "https://lh3.googleusercontent.com/a/default-user=s64",
      "userId": "08643725771405988586"
     },
     "user_tz": 360
    },
    "id": "KmFeQNkppFoC",
    "outputId": "fe1e980f-b9ac-45bb-f92b-d1bc490d3b6e"
   },
   "outputs": [],
   "source": [
    "(True or True) and (True or False)"
   ]
  },
  {
   "cell_type": "code",
   "execution_count": null,
   "metadata": {
    "colab": {
     "base_uri": "https://localhost:8080/"
    },
    "executionInfo": {
     "elapsed": 205,
     "status": "ok",
     "timestamp": 1643682693293,
     "user": {
      "displayName": "Luis Fernando Leal Hernandez",
      "photoUrl": "https://lh3.googleusercontent.com/a/default-user=s64",
      "userId": "08643725771405988586"
     },
     "user_tz": 360
    },
    "id": "f0qDCYiypFoC",
    "outputId": "2da489ef-65e9-443a-83e8-5f04fef38f83"
   },
   "outputs": [],
   "source": [
    "(not True) or (True and True)"
   ]
  },
  {
   "cell_type": "code",
   "execution_count": null,
   "metadata": {
    "colab": {
     "base_uri": "https://localhost:8080/"
    },
    "executionInfo": {
     "elapsed": 179,
     "status": "ok",
     "timestamp": 1643682700205,
     "user": {
      "displayName": "Luis Fernando Leal Hernandez",
      "photoUrl": "https://lh3.googleusercontent.com/a/default-user=s64",
      "userId": "08643725771405988586"
     },
     "user_tz": 360
    },
    "id": "ADSB42-6pFoC",
    "outputId": "84de8875-b32a-4743-ebf6-4bd629b6d4c0"
   },
   "outputs": [],
   "source": [
    "((not True) or (True and True)) or (1>0) "
   ]
  },
  {
   "cell_type": "markdown",
   "metadata": {
    "id": "WAtQ6IGOpFoC"
   },
   "source": [
    "##### Del mismo modo que con las expresiones aritméticas, podemos utilizar variables para expresiones relacionales y lógicas\n",
    "\n",
    "Por ejemplo, pensemos en un programa que termina si un alumno es admitido a la universidad basado en 2 condiciones que deben cumplirse:\n",
    "* El alumno es mayor de edad (mayor a 18 años)\n",
    "* Termino el diversificado"
   ]
  },
  {
   "cell_type": "code",
   "execution_count": null,
   "metadata": {
    "colab": {
     "base_uri": "https://localhost:8080/"
    },
    "executionInfo": {
     "elapsed": 193,
     "status": "ok",
     "timestamp": 1643682866805,
     "user": {
      "displayName": "Luis Fernando Leal Hernandez",
      "photoUrl": "https://lh3.googleusercontent.com/a/default-user=s64",
      "userId": "08643725771405988586"
     },
     "user_tz": 360
    },
    "id": "4PAyJ9x8pFoD",
    "outputId": "772773f3-752a-4a69-f52e-0125112cbece"
   },
   "outputs": [],
   "source": [
    "edad_alumno = 17\n",
    "edad_minima = 18\n",
    "termino_diversificado = True\n",
    "\n",
    "es_alumno_mayor = edad_alumno >= edad_minima\n",
    "\n",
    "admitir_alumno = es_alumno_mayor and termino_diversificado\n",
    "\n",
    "print(\"Alumno admitido:\",admitir_alumno)"
   ]
  },
  {
   "cell_type": "markdown",
   "metadata": {
    "id": "SwqB-iGWpFoD"
   },
   "source": [
    "#### Operadores y operaciones especiales\n",
    "\n",
    "Aunque los operadores y operaciones que vimos son los mas comunes, existen otros tipos de operadores especiales que en algunos casos serán de ayuda o nos servirán a realizar de manera mas sencilla tareas que de otro modo podrían requerir mayor trabajo.\n",
    "\n",
    "Tenemos por ejemplo:\n",
    "\n",
    "##### Operadores de identidad\n",
    "\n",
    "Los operadores igual a ==  o diferente a != nos ayudan a verificar si los VALORES de dos objetos son diferentes entre si, pero en algunos casos necesitamos determinar si 2  variables hacen referencia al mismo objeto en la memoria(o si no es el mismo) para lo cual utilizamos 2 operadores especiales:\n",
    "\n",
    "* is : True si 2 variables hacen referencia a un mismo objeto\n",
    "* is not: True si 2 variables hacen referencia a un objeto diferente\n",
    "\n",
    "El que 2 objetos tengan el mismo valor no significa que sean el mismo objeto en memoria por lo cual en algunos casos aun que 2 variables contengan el mismo valor, el operador \"is\" devuelve falso.\n",
    "\n",
    "Python asigna a cada objeto un numero que lo identifica, podemos obtener este numero usando la función id()"
   ]
  },
  {
   "cell_type": "code",
   "execution_count": null,
   "metadata": {
    "colab": {
     "base_uri": "https://localhost:8080/"
    },
    "executionInfo": {
     "elapsed": 4,
     "status": "ok",
     "timestamp": 1643683002970,
     "user": {
      "displayName": "Luis Fernando Leal Hernandez",
      "photoUrl": "https://lh3.googleusercontent.com/a/default-user=s64",
      "userId": "08643725771405988586"
     },
     "user_tz": 360
    },
    "id": "Idfd6FhfpFoD",
    "outputId": "977797ac-2bc1-4205-c76f-9ed7472d4366"
   },
   "outputs": [],
   "source": [
    "a = 5\n",
    "b = 5\n",
    "\n",
    "a == 5"
   ]
  },
  {
   "cell_type": "code",
   "execution_count": null,
   "metadata": {
    "colab": {
     "base_uri": "https://localhost:8080/"
    },
    "executionInfo": {
     "elapsed": 190,
     "status": "ok",
     "timestamp": 1643683000822,
     "user": {
      "displayName": "Luis Fernando Leal Hernandez",
      "photoUrl": "https://lh3.googleusercontent.com/a/default-user=s64",
      "userId": "08643725771405988586"
     },
     "user_tz": 360
    },
    "id": "ifyxWdGOpFoD",
    "outputId": "0b557819-a34a-4f1b-c10c-c256462da3d6"
   },
   "outputs": [],
   "source": [
    "a is b "
   ]
  },
  {
   "cell_type": "code",
   "execution_count": null,
   "metadata": {
    "colab": {
     "base_uri": "https://localhost:8080/"
    },
    "executionInfo": {
     "elapsed": 185,
     "status": "ok",
     "timestamp": 1643683085575,
     "user": {
      "displayName": "Luis Fernando Leal Hernandez",
      "photoUrl": "https://lh3.googleusercontent.com/a/default-user=s64",
      "userId": "08643725771405988586"
     },
     "user_tz": 360
    },
    "id": "RyStzjJdpFoE",
    "outputId": "532d1ed8-2c95-4ba4-c256-ff8d0fb6b955"
   },
   "outputs": [],
   "source": [
    "x1 = 5\n",
    "y1 = 5\n",
    "\n",
    "x2 = 'Hello'\n",
    "y2 = 'Hello'\n",
    "\n",
    "x4 = x1\n",
    "x5 = 6.0\n",
    "y5 = 6.0\n",
    "\n",
    "# Output: False\n",
    "print(x1 is not y1)\n",
    "\n",
    "# Output: True\n",
    "print(x2 is y2)\n",
    "\n",
    "# Output: False\n",
    "print(x3 is y3)\n",
    "\n",
    "# Output: True\n",
    "print(x4 is x1)\n",
    "\n",
    "# Output: False\n",
    "print(x5 is y5)"
   ]
  },
  {
   "cell_type": "code",
   "execution_count": null,
   "metadata": {
    "id": "nxVnUlFEpFoE"
   },
   "outputs": [],
   "source": []
  },
  {
   "cell_type": "code",
   "execution_count": null,
   "metadata": {
    "colab": {
     "base_uri": "https://localhost:8080/"
    },
    "executionInfo": {
     "elapsed": 222,
     "status": "ok",
     "timestamp": 1643683102311,
     "user": {
      "displayName": "Luis Fernando Leal Hernandez",
      "photoUrl": "https://lh3.googleusercontent.com/a/default-user=s64",
      "userId": "08643725771405988586"
     },
     "user_tz": 360
    },
    "id": "ayb_b7QqpFoF",
    "outputId": "49909920-1809-4c51-c2d1-55b50781aab6"
   },
   "outputs": [],
   "source": [
    "type(x1) is int"
   ]
  },
  {
   "cell_type": "code",
   "execution_count": null,
   "metadata": {
    "colab": {
     "base_uri": "https://localhost:8080/"
    },
    "executionInfo": {
     "elapsed": 11,
     "status": "ok",
     "timestamp": 1643683103319,
     "user": {
      "displayName": "Luis Fernando Leal Hernandez",
      "photoUrl": "https://lh3.googleusercontent.com/a/default-user=s64",
      "userId": "08643725771405988586"
     },
     "user_tz": 360
    },
    "id": "h_GKN3ZOpFoF",
    "outputId": "6c8c4e5f-dc75-456f-9dea-c0d1a1270200"
   },
   "outputs": [],
   "source": [
    "type(x1) is str"
   ]
  },
  {
   "cell_type": "code",
   "execution_count": null,
   "metadata": {
    "colab": {
     "base_uri": "https://localhost:8080/"
    },
    "executionInfo": {
     "elapsed": 4,
     "status": "ok",
     "timestamp": 1643683104703,
     "user": {
      "displayName": "Luis Fernando Leal Hernandez",
      "photoUrl": "https://lh3.googleusercontent.com/a/default-user=s64",
      "userId": "08643725771405988586"
     },
     "user_tz": 360
    },
    "id": "c43AF59RpFoG",
    "outputId": "55d8ebaf-dd6b-4dda-fef3-a11fa18f9599"
   },
   "outputs": [],
   "source": [
    "type(x1) is not str"
   ]
  },
  {
   "cell_type": "markdown",
   "metadata": {
    "id": "1O6B_XDCpFoK"
   },
   "source": [
    "#### Operadores especiales de asignación\n",
    "\n",
    "Uno de los primeros operadores vistos en esta clase fue el operador de asignación:\n",
    "\n",
    "< identificador >=objeto/valor/resultado de operación\n",
    "\n",
    "\n",
    "El cual es usado para asignar a una variable/identificador cierto objeto, valor o resultado de una operación posiblemente mas compleja.\n",
    "\n",
    "Existen otros operadores especiales de asignación que nos ayudan a realizar de manera breve asignaciones que son comunes en programación, estas operaciones tienen como ventaja ser mas eficientes(rápidas) en ejecución.\n",
    "\n",
    "Un escenario muy común en programación es tomar una variable y realizar una operación aritmética con ella, para asignar el resultado a esta misma variable. \n",
    "\n",
    "**Por ejemplo**"
   ]
  },
  {
   "cell_type": "code",
   "execution_count": null,
   "metadata": {
    "colab": {
     "base_uri": "https://localhost:8080/"
    },
    "executionInfo": {
     "elapsed": 202,
     "status": "ok",
     "timestamp": 1643683891125,
     "user": {
      "displayName": "Luis Fernando Leal Hernandez",
      "photoUrl": "https://lh3.googleusercontent.com/a/default-user=s64",
      "userId": "08643725771405988586"
     },
     "user_tz": 360
    },
    "id": "umURrEFFpFoK",
    "outputId": "a6c81f31-5bd0-4277-94a7-9a00302e9bfb"
   },
   "outputs": [],
   "source": [
    "a = 1\n",
    "\n",
    "a = a + 1 # resultado es 2\n",
    "a = a * 2 # resultado es 4\n",
    "\n",
    "print(a)"
   ]
  },
  {
   "cell_type": "markdown",
   "metadata": {
    "id": "dzKmTGkUpFoK"
   },
   "source": [
    "Los operadores especiales de asignación nos permiten realizar de manera abreviada (y mas eficiente) este tipo de operaciones, el codigo anterior seria equivalente a :"
   ]
  },
  {
   "cell_type": "code",
   "execution_count": null,
   "metadata": {
    "colab": {
     "base_uri": "https://localhost:8080/"
    },
    "executionInfo": {
     "elapsed": 191,
     "status": "ok",
     "timestamp": 1643683989413,
     "user": {
      "displayName": "Luis Fernando Leal Hernandez",
      "photoUrl": "https://lh3.googleusercontent.com/a/default-user=s64",
      "userId": "08643725771405988586"
     },
     "user_tz": 360
    },
    "id": "Rwvj43pBpFoK",
    "outputId": "ade5ce76-5212-4569-8183-75ea7acbc9f1"
   },
   "outputs": [],
   "source": [
    "a = 1\n",
    "\n",
    "a += 1\n",
    "a *= 2\n",
    "\n",
    "print(a)"
   ]
  },
  {
   "cell_type": "code",
   "execution_count": null,
   "metadata": {
    "colab": {
     "base_uri": "https://localhost:8080/"
    },
    "executionInfo": {
     "elapsed": 210,
     "status": "ok",
     "timestamp": 1643683994284,
     "user": {
      "displayName": "Luis Fernando Leal Hernandez",
      "photoUrl": "https://lh3.googleusercontent.com/a/default-user=s64",
      "userId": "08643725771405988586"
     },
     "user_tz": 360
    },
    "id": "hRwajVSh0bF9",
    "outputId": "1d70459d-8a50-423e-abab-3e4c79669822"
   },
   "outputs": [],
   "source": [
    "a=1\n",
    "a = +2\n",
    "print()\n",
    "print(a)"
   ]
  },
  {
   "cell_type": "code",
   "execution_count": null,
   "metadata": {
    "colab": {
     "base_uri": "https://localhost:8080/"
    },
    "executionInfo": {
     "elapsed": 187,
     "status": "ok",
     "timestamp": 1643684118911,
     "user": {
      "displayName": "Luis Fernando Leal Hernandez",
      "photoUrl": "https://lh3.googleusercontent.com/a/default-user=s64",
      "userId": "08643725771405988586"
     },
     "user_tz": 360
    },
    "id": "H87Cz6YM1UIM",
    "outputId": "fe89c587-020f-48a8-ba0f-38f5db7f092e"
   },
   "outputs": [],
   "source": [
    "a=1\n",
    "a+=2 # 3\n",
    "a+=2 # 5\n",
    "a+=2 # 7\n",
    "a+=2 # 9\n",
    "print(a)\n"
   ]
  },
  {
   "cell_type": "markdown",
   "metadata": {
    "id": "zftM1kgjpFoL"
   },
   "source": [
    "Existe un operador de asignación especial para cada uno de los operadores aritméticos que vimos anteriormente:\n",
    "    \n",
    "* += \t\n",
    "* -= \t\n",
    "* *= \t\n",
    "* /= \t\n",
    "* %= \t\n",
    "* //=\t\n",
    "* **=\t"
   ]
  },
  {
   "cell_type": "markdown",
   "metadata": {
    "id": "_fVesNZJpFoP"
   },
   "source": [
    "# Objetos Contenedores\n",
    "## Listas (list)\n",
    "\n",
    "<img src=\"https://files.realpython.com/media/t.eb0b38e642c5.png\">\n",
    "\n",
    "Una lista es una **secuencia ordenada** de objetos , los cuales están separados por comas y encerrados en corchetes, es decir que la lista tendrá la forma:\n",
    "\n",
    "[objeto1, objeto2, objeto3, objeto4,...,objetoN]\n",
    "\n",
    "\n",
    "La lista al ser un objeto, puede ser asignado a una variable(o identificador) tal como lo hemos hecho con los tipos básicos de la siguiente forma:\n",
    "\n",
    "< variable > = [< lista >]\n",
    "\n",
    "Por ejemplo:\n",
    "\n",
    "paises = [\"GT\",\"SV\",\"HN\",\"NI\",\"CR\"]\n",
    "\n",
    "A diferencia de otros lenguajes de programación(y los arrays de estos) en Python las listas no  requieren que todos los objetos contenidos sean del mismo tipo y puede almacenar cualquier combinación de tipos de objetos(incluidas otras listas)."
   ]
  },
  {
   "cell_type": "code",
   "execution_count": null,
   "metadata": {},
   "outputs": [],
   "source": [
    "print([1,4.0,'a'])"
   ]
  },
  {
   "cell_type": "code",
   "execution_count": null,
   "metadata": {},
   "outputs": [],
   "source": [
    "a = [1,2,3]\n",
    "b = [1,2,3]\n",
    "\n",
    "a==b"
   ]
  },
  {
   "cell_type": "markdown",
   "metadata": {},
   "source": [
    "##### Indinces negativos\n",
    "Python nos permite acceder a los elementos de la lista utilizando índices negativos, el significado de esto es empezar a contar del último elemento al primero, esto significa que el índice -1 hace referencia al último elemento ,-2 hace referencia al penúltimo y así sucesivamente hasta el negativo del tamaño de la lista , es decir:\n",
    "\n",
    "-len(< lista >)\n",
    "\n",
    "Podemos ver entonces que los indices de una lista se encuentran en el intervalo\n",
    "\n",
    "[-1,-len(< lista > )]\n",
    "\n",
    "<img src=\"https://qph.fs.quoracdn.net/main-qimg-a380b1bc159589df5e0b9842e5b56b6d\">"
   ]
  },
  {
   "cell_type": "markdown",
   "metadata": {},
   "source": [
    "**Ejercicio:** Crea una lista llamada `nucleotidos` con los nombres de los cuatro base nitrogenada del ADN"
   ]
  },
  {
   "cell_type": "code",
   "execution_count": null,
   "metadata": {},
   "outputs": [],
   "source": []
  },
  {
   "cell_type": "markdown",
   "metadata": {},
   "source": [
    "**Ejercicio:** en la lista anterior usando el indice \n",
    "- imprime la \"timina\"\n",
    "- el primer elemento de la lista\n",
    "- el ultimo elemento de la lista usando indices negativos"
   ]
  },
  {
   "cell_type": "code",
   "execution_count": null,
   "metadata": {},
   "outputs": [],
   "source": []
  },
  {
   "cell_type": "markdown",
   "metadata": {
    "id": "PM_d7Wo6VR23"
   },
   "source": [
    "#### Concatenar multiples listas\n",
    "\n",
    "En muchos casos, podemos tener 2 o mas listas las cuales nos interesa unificar en una sola lista , esto lo logramos a traves de una \"concatenacion de listas\" que podemos lograr usando el operador **+** ,por ejemplo:"
   ]
  },
  {
   "cell_type": "code",
   "execution_count": null,
   "metadata": {},
   "outputs": [],
   "source": [
    "u = [1,4.0,'a']\n",
    "v = [3.14,2.71,42,u]\n",
    "\n",
    "print(len(u))\n",
    "print(len(v))"
   ]
  },
  {
   "cell_type": "code",
   "execution_count": null,
   "metadata": {
    "colab": {
     "base_uri": "https://localhost:8080/"
    },
    "executionInfo": {
     "elapsed": 39,
     "status": "ok",
     "timestamp": 1645493748031,
     "user": {
      "displayName": "Luis Fernando Leal Hernandez",
      "photoUrl": "https://lh3.googleusercontent.com/a/default-user=s64",
      "userId": "08643725771405988586"
     },
     "user_tz": 360
    },
    "id": "xBJK0ArrpV0c",
    "outputId": "e6f84f35-5976-4ab5-b681-39414f91c6c4"
   },
   "outputs": [],
   "source": [
    "print(u)\n",
    "print(v)"
   ]
  },
  {
   "cell_type": "code",
   "execution_count": null,
   "metadata": {
    "colab": {
     "base_uri": "https://localhost:8080/"
    },
    "executionInfo": {
     "elapsed": 32,
     "status": "ok",
     "timestamp": 1645493748032,
     "user": {
      "displayName": "Luis Fernando Leal Hernandez",
      "photoUrl": "https://lh3.googleusercontent.com/a/default-user=s64",
      "userId": "08643725771405988586"
     },
     "user_tz": 360
    },
    "id": "yEfbZjVpVR23",
    "outputId": "9419b2d2-2bd7-4d73-b959-0cf3f95b73bc",
    "tags": []
   },
   "outputs": [],
   "source": [
    "w = u + v \n",
    "\n",
    "print(w)"
   ]
  },
  {
   "cell_type": "markdown",
   "metadata": {
    "id": "4srQUoiXVR25",
    "tags": []
   },
   "source": [
    "#### Agregar nuevos elementos al final de una lista\n",
    "\n",
    "Si necesitamos agregar nuevos elementos a una lista , podemos usar la funcion append(< nuevo elemento> ) aplicada sobre la lista, esto  agrega el nuevo contenido al final de la lista."
   ]
  },
  {
   "cell_type": "code",
   "execution_count": null,
   "metadata": {
    "colab": {
     "base_uri": "https://localhost:8080/"
    },
    "executionInfo": {
     "elapsed": 31,
     "status": "ok",
     "timestamp": 1645493748032,
     "user": {
      "displayName": "Luis Fernando Leal Hernandez",
      "photoUrl": "https://lh3.googleusercontent.com/a/default-user=s64",
      "userId": "08643725771405988586"
     },
     "user_tz": 360
    },
    "id": "69BqDRLoVR26",
    "outputId": "c21f6c32-35df-4c0b-e4f7-f72921fc8d5e",
    "tags": []
   },
   "outputs": [],
   "source": [
    "a = [1,2,3,4]\n",
    "\n",
    "a.append(5)\n",
    "a.append(6)\n",
    "a.append('test')\n",
    "\n",
    "print(a)"
   ]
  },
  {
   "cell_type": "markdown",
   "metadata": {
    "colab": {
     "base_uri": "https://localhost:8080/"
    },
    "executionInfo": {
     "elapsed": 194,
     "status": "ok",
     "timestamp": 1643683657792,
     "user": {
      "displayName": "Luis Fernando Leal Hernandez",
      "photoUrl": "https://lh3.googleusercontent.com/a/default-user=s64",
      "userId": "08643725771405988586"
     },
     "user_tz": 360
    },
    "id": "1gz2bDXRKyiZ",
    "outputId": "a83406f5-e0f3-4816-d9de-714c00f957de"
   },
   "source": [
    "### Accesar porciones/rebanadas de la lista a traves de \"slicing\"\n",
    "\n",
    "En muchos casos nos interesa acceder no a elementos individuales de la lista, si no a porciones de esta, los siguientes ejemplos nos muestran el razonamiento a usar para determinar si se necesita \"slicing\" para particionar una lista:\n",
    "\n",
    "* Se necesitan los primeros 5 elementos de una lista\n",
    "* Se necesitan los ultimos 3 elementos de una lista\n",
    "* Se necesita cambiar del segundo al cuarto elemento de una lista.\n",
    "\n",
    "En todos estos casos accedemos porciones, o rebanadas de la lista original en lugar de elementos individuales. \n",
    "\n",
    "La sintaxis para hacer esto es muy parecida a la usada para acceder elementos individuales, pero agregamos ahora el operador **\":\"** y lo usamos de la siguiente forma:\n",
    "\n",
    "< lista >[< inicio >: < fin >]\n",
    "\n",
    "donde:\n",
    "* < lista > : la lista original de la que deseamos acceder una sub-porcion\n",
    "* < inicio > : la posicion del inicio de la rebanada a obtener (inclusivo)\n",
    "* < fin > : la posicion final de la rebanada a obtener (exclusivo)\n",
    "\n",
    "Inicio y fin pueden ser cualquier expresion valida cuyo resultado sea un entero.\n",
    "\n",
    "\n",
    "\n",
    "Por ejemplo:"
   ]
  },
  {
   "cell_type": "code",
   "execution_count": 16,
   "metadata": {},
   "outputs": [
    {
     "data": {
      "text/plain": [
       "['hola', 'mundo', 'desde']"
      ]
     },
     "execution_count": 16,
     "metadata": {},
     "output_type": "execute_result"
    }
   ],
   "source": [
    "lista1 = [\"hola\",\"mundo\",\"desde\",\"el\",\"lenguaje\",\"python\"]\n",
    "\n",
    "lista1[0:3] #ya que \"fin\" es exclusivo el resultado contiene hasta el elemento previo a este"
   ]
  },
  {
   "cell_type": "code",
   "execution_count": 27,
   "metadata": {},
   "outputs": [
    {
     "data": {
      "text/plain": [
       "['el', 'lenguaje']"
      ]
     },
     "execution_count": 27,
     "metadata": {},
     "output_type": "execute_result"
    }
   ],
   "source": [
    "lista1[-3:-1]"
   ]
  },
  {
   "cell_type": "markdown",
   "metadata": {},
   "source": [
    "Agengando mas complejidad hay un parametro opcional que es **step**\n",
    "\n",
    "```\n",
    "< lista >[< inicio >: < fin >: <step>]\n",
    "```\n",
    "\n",
    "start: Índice de inicio del rango (inclusive).\n",
    "stop: Índice de fin del rango (exclusivo).\n",
    "step: Paso o incremento entre los índices (opcional, por defecto es 1)."
   ]
  },
  {
   "cell_type": "code",
   "execution_count": 28,
   "metadata": {},
   "outputs": [
    {
     "data": {
      "text/plain": [
       "['hola', 'desde', 'lenguaje']"
      ]
     },
     "execution_count": 28,
     "metadata": {},
     "output_type": "execute_result"
    }
   ],
   "source": [
    "lista1[::2]"
   ]
  },
  {
   "cell_type": "markdown",
   "metadata": {},
   "source": [
    "Se puede revertir una lista solo con **slicing** ????"
   ]
  },
  {
   "cell_type": "code",
   "execution_count": null,
   "metadata": {},
   "outputs": [],
   "source": []
  },
  {
   "cell_type": "code",
   "execution_count": null,
   "metadata": {},
   "outputs": [],
   "source": []
  },
  {
   "cell_type": "markdown",
   "metadata": {},
   "source": [
    "## Diccionarios"
   ]
  },
  {
   "cell_type": "markdown",
   "metadata": {
    "tags": []
   },
   "source": [
    "Antes de hablar de diccionarios veamos algunos de los nombres con los que son conocidos en otros lenguajes:\n",
    "\n",
    "* tabla hash\n",
    "* mapas\n",
    "* hash-maps\n",
    "\n",
    "Un diccionario es una  colección(al contrario de las listas y tuplas) NO ORDENADA de objetos, ya que es una colección no ordenada , no podemos acceder a sus elementos según su posición, en lugar de esto lo hacemos usando una \"llave\" que identifica a cada elemento. Esta llave puede ser cualquier objeto INMUTABLE pero el caso más común es que sean strings.\n",
    "\n",
    "Por lo tanto un diccionario \"mapea\" una llave a un valor, esto es conocido en programación como estructuras \"key-value\".\n",
    "\n",
    "Aunque la llave está limitada a objetos inmutables (como strings o tuplas), el valor almacenado puede ser cualquier objeto, por lo tanto es posible almacenar estructuras complejas,por ejemplo diccionarios de listas:\n",
    "\n",
    "<img src=\"https://upload.wikimedia.org/wikipedia/commons/5/5b/KeyValue.PNG\">\n",
    "\n",
    "<img src=\"https://i.stack.imgur.com/nzc2C.png\">\n",
    "\n",
    "Esta es una de las estructuras de datos mas populares debido a su flexibilidad y gran eficiencia tanto en Python como en otros lenguajes.\n",
    "\n",
    "Asi como creamos listas con [] y tuplas con () , creamos los diccionarios con {}(o con la funcion dict) usando la sintaxis\n",
    "\n",
    "{llave1:valor1,llave2:valor2,...,llaven:valorn}\n",
    "\n",
    "Para obtener un objeto dada su llave ,podemos usar:\n",
    "```\n",
    "\n",
    "diccionario[llave]\n",
    "```\n",
    "\n",
    "o \n",
    "```\n",
    "\n",
    "diccionario.get(llave)\n",
    "```"
   ]
  },
  {
   "cell_type": "code",
   "execution_count": null,
   "metadata": {},
   "outputs": [],
   "source": [
    "curso = {\n",
    "    \"nombre\" : \"Software y bases de datos biomédicas moleculares\",\n",
    "    \"total_alumnos\": 22,\n",
    "    \"nombres\": [\"Ingrid\", \"Alexandro\", \"alfredo\"]\n",
    "}"
   ]
  },
  {
   "cell_type": "code",
   "execution_count": null,
   "metadata": {},
   "outputs": [],
   "source": [
    "curso['nombres'][1]"
   ]
  },
  {
   "cell_type": "code",
   "execution_count": null,
   "metadata": {},
   "outputs": [],
   "source": [
    "print(curso['nombre'])"
   ]
  },
  {
   "cell_type": "code",
   "execution_count": null,
   "metadata": {},
   "outputs": [],
   "source": [
    "curso.get('nombredfasd')"
   ]
  },
  {
   "cell_type": "code",
   "execution_count": null,
   "metadata": {},
   "outputs": [],
   "source": [
    "diccionario_vacio = {}\n",
    "\n",
    "print(diccionario_vacio)\n",
    "print(type(diccionario_vacio))"
   ]
  },
  {
   "cell_type": "markdown",
   "metadata": {},
   "source": [
    "Podemos utilizar corchetes o get para obtener el valor de una llave.\n",
    "\n",
    "Una de las diferencias entre usar get o corchetes para obtener el valor de un diccionario, es que \"get\" no resulta en error si la llave no existe:"
   ]
  },
  {
   "cell_type": "code",
   "execution_count": null,
   "metadata": {},
   "outputs": [],
   "source": [
    "digitos = {\"uno\":1,\n",
    "           \"dos\":2,\n",
    "           \"tres\":3,\n",
    "           \"lista\":[1,2,3,4]}\n",
    "\n",
    "print(digitos[\"dos\"])\n",
    "print(digitos.get(\"tres\"))\n",
    "digitos.get(\"test\")"
   ]
  },
  {
   "cell_type": "markdown",
   "metadata": {},
   "source": [
    "Podemos agregar nuevos elementos a un diccionario creado de manera similar a como lo hacemos con listas:"
   ]
  },
  {
   "cell_type": "code",
   "execution_count": null,
   "metadata": {},
   "outputs": [],
   "source": [
    "digitos[\"cuatro\"] = 4\n",
    "\n",
    "print(digitos[\"cuatro\"])"
   ]
  },
  {
   "cell_type": "code",
   "execution_count": null,
   "metadata": {},
   "outputs": [],
   "source": [
    "print(digitos)"
   ]
  },
  {
   "cell_type": "markdown",
   "metadata": {},
   "source": [
    "**Ejercicio:** Crea una lista llamada `nucleotidos_map` donde la llave es la abreciación y el valor el nombre completo, ejemplo:\n",
    "```python\n",
    "nucleotidos_map['a']\n",
    "```\n",
    "retorna\n",
    "```\n",
    "Adenina\n",
    "```"
   ]
  },
  {
   "cell_type": "code",
   "execution_count": null,
   "metadata": {},
   "outputs": [],
   "source": []
  },
  {
   "cell_type": "markdown",
   "metadata": {},
   "source": [
    "## Condicionales \n",
    "\n",
    "En Python las estructuras o sentencias condicionales se basan en 3 palabras reservadas:\n",
    "* if\n",
    "* else\n",
    "* elif\n",
    "\n",
    "Usamos condicionales para alterar el flujo de un programa de manera que se ejecute o no cierta porción del programa(bloque de código)  en función de si se cumple o no cierta condición a ser evaluada.\n",
    "\n",
    "Las personas utilizamos condicionales constantemente tal vez sin darnos cuenta, por ejemplo:\n",
    "* si hace frio, entonces me pongo sueter\n",
    "* si hace frio Y esta lloviendo, entonces uso chumpa impermeable\n",
    "* si la cancion en la radio me gusta, subo el volumen en caso contrario lo bajo.\n",
    "\n",
    "De la misma manera los programas pueden \"tomar decisiones\" basados en alguna condición , por ejemplo un programa que verifica si un número \"x\" esta en el rango de 0 a 1:\n",
    "\n",
    "El programa utiliza la sentencia: **\"if\"** para evaluar una condición, si esta es verdadera ejecuta un bloque de código, en el caso contrario ejecuta otro.\n",
    "\n",
    "**Ejercicio** Experimenta cambiando el valor de la variable \"x\" y analizando el resultado obtenido."
   ]
  },
  {
   "cell_type": "code",
   "execution_count": null,
   "metadata": {
    "colab": {
     "base_uri": "https://localhost:8080/"
    },
    "executionInfo": {
     "elapsed": 39,
     "status": "ok",
     "timestamp": 1644456804900,
     "user": {
      "displayName": "Luis Fernando Leal Hernandez",
      "photoUrl": "https://lh3.googleusercontent.com/a/default-user=s64",
      "userId": "08643725771405988586"
     },
     "user_tz": 360
    },
    "id": "GO86HA5B2D6k",
    "outputId": "dded0137-87ea-4bcd-90d1-4f3a18c07478"
   },
   "outputs": [],
   "source": [
    "x = 60\n",
    "\n",
    "if 0 < x < 1: #True\n",
    "    print(\"x se encuentra entre 0 y 1\")\n",
    "    print(\"resultado verdadero\")\n",
    "elif 3< x < 5:\n",
    "    print(\"x se encuentra entre 3 y 5\")\n",
    "elif 8< x < 40:\n",
    "    print(\"x se encuentra entre 8 y 40\")\n",
    "elif 50< x < 200:\n",
    "    print(\"x se encuentra entre 50 y 200\")\n",
    "    if 100< x < 200:\n",
    "        print(\">>>>> x se encuentra entre 100 y 200\")\n",
    "    else:\n",
    "        print(\"es menor a 100\")\n",
    "else: # False\n",
    "    print(\"x no se encuentra en el rango de 0 a 1\")\n",
    "    print(\"resultado falso\")"
   ]
  },
  {
   "cell_type": "markdown",
   "metadata": {
    "id": "5cU99atk2D6k"
   },
   "source": [
    "Pudimos haber escrito unicamente la sentencia \"if\" , su condición y el bloque de código asociado sin necesidad de usar \"else\" si en caso nuestro programa no necesita realizar ninguna acción cuando la condición no se cumple."
   ]
  },
  {
   "cell_type": "code",
   "execution_count": null,
   "metadata": {
    "executionInfo": {
     "elapsed": 34,
     "status": "ok",
     "timestamp": 1644456804901,
     "user": {
      "displayName": "Luis Fernando Leal Hernandez",
      "photoUrl": "https://lh3.googleusercontent.com/a/default-user=s64",
      "userId": "08643725771405988586"
     },
     "user_tz": 360
    },
    "id": "n_LJdg2x2D6l"
   },
   "outputs": [],
   "source": [
    "x = 100\n",
    "\n",
    "if   0 < x < 1:\n",
    "    print(\"x se encuentra entre 0 y 1\")"
   ]
  },
  {
   "cell_type": "markdown",
   "metadata": {
    "id": "QAbDaO9T2D6l"
   },
   "source": [
    "Aun que en estos ejemplos sencillos los bloques de código solo tenian una sentencia, pudimos haber utilizando tantas como fuera necesario  . De manera general la sintáxis es la siguiente:\n",
    "\n",
    "< bloque antes >\n",
    "\n",
    "if < expresion booleana >:\n",
    "\n",
    "    < bloque 1>\n",
    "else:\n",
    "\n",
    "    < bloque 2 >\n",
    "    \n",
    "< bloque despues >\n",
    "\n",
    "\n",
    "En este caso:\n",
    "* bloque 1: es el conjunto de sentencias a ejecutar si la condición del \"if\" es True\n",
    "* bloque 2 es el conjunto de sentencias a ejecutar si la condición del \"if\" es False\n",
    "* bloque antes: es una referencia a código que puede estar antes del if, y que no es parte de este, por ejemplo x = 0.47 en el ejemplo\n",
    "* bloque despues: es una referencia a código que puede estar despues del if y que se ejecutara posteriormente a este independiente de cual de los 2 casos (True o False) se de.\n",
    "\n",
    "**Nota con < expresion booleana >** : la parte del if que colocamos como < expresion booleana > es cualquier expresion valida cuyo resultado sea un booleano(True o False) ,esto significa que podemos  usar en esta parte cualquier expresion relacional, logica , variables o combinaciones de estas cuyo resultado sea booleanom, los bloques de código asociados pueden ser cualquier conjunto de sentencias válidas incluidas otras condicionales.\n",
    "\n",
    "### \"If-else-if ladders\" con elif\n",
    "\n",
    "Hasta el momento solo hemos visto ejemplos con un máximo de 2 posibles alternativas en la ejecución condicional:\n",
    "\n",
    "* Cuando solo nos interesa evaluar una condición y hacer algo si se cumple, usamos \"if\"\n",
    "* Cuando nos interesa evaluar una condición y hacer una tarea \"A\" cuando esta se cumple, o bien una tarea \"B\" cuando no se cumple usamos if-else\n",
    "\n",
    "Pero en muchos programas es necesario realizar la evaluación de multiples condiciones  y ejecutar las acciones correspndientes a la condición que se evalua como \"verdadera\", esto es un escenario muy común en todo tipo de programas \n",
    "\n",
    "**Ejemplo** \n",
    "\n",
    "Pensemos en un programa de un banco con precencia en toda centroamérica , pero donde cada país tiene  distinta tasa de interés  para cuentas en dolares , para cierto monto de ahorro dado el programa debe calcular el nuevo monto del cliente luego de intereses acumulados tomando en cuenta el país de la cuenta."
   ]
  },
  {
   "cell_type": "code",
   "execution_count": null,
   "metadata": {
    "colab": {
     "base_uri": "https://localhost:8080/"
    },
    "executionInfo": {
     "elapsed": 46,
     "status": "ok",
     "timestamp": 1644456804913,
     "user": {
      "displayName": "Luis Fernando Leal Hernandez",
      "photoUrl": "https://lh3.googleusercontent.com/a/default-user=s64",
      "userId": "08643725771405988586"
     },
     "user_tz": 360
    },
    "id": "Lznktvzy2D6m",
    "outputId": "4d507a0b-f573-4fa0-e14e-26c4c51ba6a6"
   },
   "outputs": [],
   "source": [
    "monto = 1000.00\n",
    "pais = \"HN\"\n",
    "interes = 0.0\n",
    "\n",
    "if pais == \"GT\":\n",
    "    interes = 0.1\n",
    "elif pais == \"ES\": #else if\n",
    "    interes = 0.15\n",
    "elif pais == \"HN\":\n",
    "    interes = 0.05\n",
    "elif pais == \"NI\":\n",
    "    interes = 0.2\n",
    "elif pais == \"CR\":\n",
    "    interes = 0.07\n",
    "elif pais == \"PA\":\n",
    "    interes = 0.08\n",
    "else:\n",
    "    print(\"Alerta: Pais no valido :\",pais)\n",
    "    \n",
    "nuevo_monto = monto + (monto*interes)\n",
    "print(\"Monto con intereses:\",nuevo_monto)"
   ]
  },
  {
   "cell_type": "code",
   "execution_count": null,
   "metadata": {
    "colab": {
     "base_uri": "https://localhost:8080/"
    },
    "executionInfo": {
     "elapsed": 43,
     "status": "ok",
     "timestamp": 1644456804915,
     "user": {
      "displayName": "Luis Fernando Leal Hernandez",
      "photoUrl": "https://lh3.googleusercontent.com/a/default-user=s64",
      "userId": "08643725771405988586"
     },
     "user_tz": 360
    },
    "id": "zmf9a_7n_cWh",
    "outputId": "d4b405c3-abe7-4ff5-a076-88443503bfd6"
   },
   "outputs": [],
   "source": [
    "monto = 1000.00\n",
    "pais = \"US\"\n",
    "interes = 0.0\n",
    "\n",
    "if pais == \"GT\":\n",
    "    interes = 0.1\n",
    "elif pais == \"ES\": #else if\n",
    "    interes = 0.15\n",
    "elif pais == \"HN\":\n",
    "    interes = 0.05\n",
    "elif pais == \"NI\":\n",
    "    interes = 0.2\n",
    "elif pais == \"CR\":\n",
    "    interes = 0.07\n",
    "elif pais == \"PA\":\n",
    "    interes = 0.08\n",
    "else:\n",
    "    print(\"Alerta: Pais no valido :\",pais)\n",
    "    \n",
    "monto += (monto*interes)\n",
    "print(\"Monto con intereses:\",monto)"
   ]
  },
  {
   "cell_type": "markdown",
   "metadata": {
    "id": "92iqJHZ12D6n"
   },
   "source": [
    "**Ejemplo**\n",
    "\n",
    "Otro ejemplo es un programa sencillo que valida el rango de edad de un usuario para determinar que tipo de promocion ofrecerle, basado en :\n",
    "* de 0 a 15 años: promocion infantil\n",
    "* de 16 a 40 años: promocion intermedia\n",
    "* de 40 años en adelante: promocion avanzada\n",
    "\n",
    "Si la edad es negativa, mostrar una alerta \n",
    "\n",
    "**Nota** Este programa tiene intencionalmente un error de programación(bug) , para ciertos valores de \"edad\" el programa no funciona correctamente aún cuando lo hace bien para la mayoría de casos, como ejercicio identifiquemos el bug y propongamos soluciones."
   ]
  },
  {
   "cell_type": "code",
   "execution_count": null,
   "metadata": {
    "colab": {
     "base_uri": "https://localhost:8080/"
    },
    "executionInfo": {
     "elapsed": 39,
     "status": "ok",
     "timestamp": 1644456804916,
     "user": {
      "displayName": "Luis Fernando Leal Hernandez",
      "photoUrl": "https://lh3.googleusercontent.com/a/default-user=s64",
      "userId": "08643725771405988586"
     },
     "user_tz": 360
    },
    "id": "62NxEtJ22D6n",
    "outputId": "f1e06a9a-c878-47b5-8d27-136472ec3361"
   },
   "outputs": [],
   "source": [
    "edad = 40.5\n",
    "\n",
    "if edad >= 0.0 and edad <= 15.99:\n",
    "    print(\"Promocion infantil\")\n",
    "elif edad >= 16 and edad <= 40:\n",
    "    print(\"Promocion intermedia\")\n",
    "elif edad >= 41:\n",
    "    print(\"Promocion avanzada\")\n",
    "elif edad < 0:\n",
    "    print(\"Alerta: edad no valida\")\n",
    "else:\n",
    "    print(\"no definido\")"
   ]
  },
  {
   "cell_type": "code",
   "execution_count": null,
   "metadata": {
    "colab": {
     "base_uri": "https://localhost:8080/"
    },
    "executionInfo": {
     "elapsed": 36,
     "status": "ok",
     "timestamp": 1644456804917,
     "user": {
      "displayName": "Luis Fernando Leal Hernandez",
      "photoUrl": "https://lh3.googleusercontent.com/a/default-user=s64",
      "userId": "08643725771405988586"
     },
     "user_tz": 360
    },
    "id": "yRgXhRxqXHen",
    "outputId": "c9bd285e-5889-4bf3-ac0a-7cfea895b8fc"
   },
   "outputs": [],
   "source": [
    "edad = 40.5\n",
    "\n",
    "if edad >= 0.0 and edad <= 15.99:\n",
    "    print(\"Promocion infantil\")\n",
    "elif edad >= 16 and edad <= 40:\n",
    "    print(\"Promocion intermedia\")\n",
    "elif edad >= 41:\n",
    "    print(\"Promocion avanzada\")\n",
    "elif edad < 0:\n",
    "    print(\"Alerta: edad no valida\")\n",
    "else:\n",
    "    print(\"no definido\")"
   ]
  },
  {
   "cell_type": "code",
   "execution_count": null,
   "metadata": {},
   "outputs": [],
   "source": []
  },
  {
   "cell_type": "markdown",
   "metadata": {},
   "source": [
    "## Ciclos\n",
    "\n",
    "Ya hemos visto \"condicionales\" que nos permiten alterar el flujo de un programa basado en condiciones que pueden o no cumplirse, la otra manera de alterar el flujo de un programa es a través de estructuras cíclicas que nos permiten ejecutar iterativamente un bloque de código. Por ejemplo:\n",
    "Muchas veces necesitamos ejecutar la misma operación sobre una colección de objetos\n",
    "En computación científica muchos métodos numéricos se basan en la ejecución iterativa de cierto proceso, por ejemplo:\n",
    "Una simulación de Monte Carlo consiste en realizar un muestreo/sampleo aleatoriamente muchas veces y luego analizar el resultado esperado en cierto proceso.\n",
    "Encontrar un patrón en una cadena de ADN\n",
    "    \n",
    "En Python los ciclos se basan en 2 sentencias:\n",
    "* **while**: el bloque de código asociado al while se ejecuta siempre y cuando una condición dada sea verdadera , esta condición es muy parecida a la vista en la sección de condicionales (if) y puede ser cualquier expresión booleana válida(expresiones relacionales, lógicas y valores booleanos)\n",
    "* **for**: a diferencia de otros lenguajes en donde el for también esta basado en una condición dada, en Python el for es utilizado para recorrer todos los elementos de una colección de objetos  uno a uno(o bien un número de veces N predefinido), por lo cual profundizaremos en el \"for\" hasta que hayamos visto colecciones,contenedores y estructuras de datos.\n",
    "\n",
    "Con while y for tenemos la base para operaciones cíclicas en Python , pero existen otras sentencias que pueden llegar a resultar útiles en algunos casos y que también se encuentran en muchos otros lenguajes de programación:\n",
    "\n",
    "* **break** : nos permite salir por completo de un ciclo, aplica tanto para \"for\" como para \"while\" y provoca que la ejecución del ciclo se \"rompa\"  y el programa continue su ejecución en la instrucción que sigue al ciclo.\n",
    "* **continue**: nos permite saltarnos una iteración del ciclo ignorando para esa iteración el código restante del ciclo pero sin salirse completamente y empezando la próxima iteracion inmediatamente,aplica tanto para \"for\" como para \"while\".\n",
    "\n",
    "### while\n",
    "\n",
    "Muchos libros y tutoriales de programación empiezan comúnmente con \"for\", pero debido a que en Python for esta orientado a recorrer colecciones de objetos y aún no hemos visto colecciones, empezaremos con \"while\" que tienen una sintaxis parecida a \"if\".\n",
    "\n",
    "Los ciclos while son usados para repetir secciones de código basado en el valor de cierta condición , es decir, que los usaremos para ejecutar repetidamente bloques de código \"MIENTRAS\" que cierta condición sea verdadera.\n",
    "\n",
    "La sintáxis de while de manera general tiene la forma:\n",
    "```\n",
    "< bloque antes >\n",
    "\n",
    "while < expresion booleana >:\n",
    "\n",
    "    < bloque 1>\n",
    "    \n",
    "< bloque despues >\n",
    "```\n",
    "\n",
    "Donde:\n",
    "* < bloque antes > : hace referencia a cualquier sentencia de código antes de el ciclo while\n",
    "* < expresion booleana > : es cualquier expresión valida cuyo resultado sea un valor booleano (True o False)\n",
    "* < bloque 1 > : es cualquier bloque de código(1 o mas sentencias) que queremos ejecutar repetidamente MIENTRAS la condición sea True\n",
    "* < bloque despues >: hace referencia a el código a ejecutarse luego de que el ciclo while haya terminado de ejecutarse.\n"
   ]
  },
  {
   "cell_type": "code",
   "execution_count": null,
   "metadata": {},
   "outputs": [],
   "source": []
  },
  {
   "cell_type": "markdown",
   "metadata": {
    "id": "kuNNoIRc2D6t"
   },
   "source": [
    "**Ejemplo**: Un programa debe escribir (print) en pantalla los números del 1 a N ,donde N será el limite máximo a mostrar."
   ]
  },
  {
   "cell_type": "code",
   "execution_count": null,
   "metadata": {
    "colab": {
     "base_uri": "https://localhost:8080/"
    },
    "executionInfo": {
     "elapsed": 51,
     "status": "ok",
     "timestamp": 1644456805398,
     "user": {
      "displayName": "Luis Fernando Leal Hernandez",
      "photoUrl": "https://lh3.googleusercontent.com/a/default-user=s64",
      "userId": "08643725771405988586"
     },
     "user_tz": 360
    },
    "id": "UvQhjdPw2D6x",
    "outputId": "d35b9978-3943-4514-fe7b-619be1f2270a"
   },
   "outputs": [],
   "source": [
    "numero = 1\n",
    "N = 3\n",
    "\n",
    "while numero <= N:\n",
    "    print(numero)\n",
    "    numero+=1 #equivalente a numero = numero +1\n",
    "    \n",
    "print(\"luego de while\")"
   ]
  },
  {
   "cell_type": "markdown",
   "metadata": {
    "id": "IaRm-42x2D6z"
   },
   "source": [
    "**Ejemplo** Un programa debe escribir (print) en pantalla los números pares del 1 a N ,donde N será el limite máximo a mostrar."
   ]
  },
  {
   "cell_type": "code",
   "execution_count": null,
   "metadata": {
    "colab": {
     "base_uri": "https://localhost:8080/"
    },
    "executionInfo": {
     "elapsed": 39,
     "status": "ok",
     "timestamp": 1644456805399,
     "user": {
      "displayName": "Luis Fernando Leal Hernandez",
      "photoUrl": "https://lh3.googleusercontent.com/a/default-user=s64",
      "userId": "08643725771405988586"
     },
     "user_tz": 360
    },
    "id": "rzh5FjTg2D6z",
    "outputId": "3b56984b-39d7-44f7-c0cd-eedc0da722dd"
   },
   "outputs": [],
   "source": [
    "numero = 2 \n",
    "N = 10\n",
    "\n",
    "while numero <= N:\n",
    "    print(numero)\n",
    "    numero+=2 #equivalente a numero = numero +2"
   ]
  },
  {
   "cell_type": "markdown",
   "metadata": {
    "id": "1H8TgL7A2D60"
   },
   "source": [
    "**Nota** Existen muchas formas de lograr el mismo resultado , pero algunas son mas eficientes y/o fáciles de entender(consideradas mejores que  otras)"
   ]
  },
  {
   "cell_type": "code",
   "execution_count": null,
   "metadata": {
    "colab": {
     "base_uri": "https://localhost:8080/"
    },
    "executionInfo": {
     "elapsed": 35,
     "status": "ok",
     "timestamp": 1644456805400,
     "user": {
      "displayName": "Luis Fernando Leal Hernandez",
      "photoUrl": "https://lh3.googleusercontent.com/a/default-user=s64",
      "userId": "08643725771405988586"
     },
     "user_tz": 360
    },
    "id": "GoznbNN42D60",
    "outputId": "f02059e0-13ad-4df6-d756-d84e74ee706a"
   },
   "outputs": [],
   "source": [
    "numero = 2\n",
    "N = 10\n",
    "repetir = True\n",
    "\n",
    "while repetir:\n",
    "    if numero > N :\n",
    "        repetir = False\n",
    "    else:\n",
    "        print(numero)\n",
    "    \n",
    "    numero = numero +2\n"
   ]
  },
  {
   "cell_type": "markdown",
   "metadata": {
    "id": "1ES27OGQ2D60"
   },
   "source": [
    "**Ejemplo** Una simulacion de monte carlo consiste en el sampleo/muestreo para dar valor a cierta variable perteneciente a un modelo para luego analizar el resultado o impacto que esta variable tiene en el modelo.\n",
    "\n",
    "Por ejemplo, necesitamos analizar  cual sera el valor maximo esperado de cierta variable \"y\" que es función de otra variable \"x\" a través del modelo :\n",
    "\n",
    "$$y = 2x + 3$$\n",
    "\n",
    "Bajo un proceso ya realizado se sabe que x es una variable aleatoria que se comporta de manera normal(gausianna) con una media de 5 y desviación estandar de 2"
   ]
  },
  {
   "cell_type": "markdown",
   "metadata": {
    "id": "9Yn-aXjNtkja"
   },
   "source": [
    "import sys !conda install --yes --prefix {sys.prefix} matplotlib"
   ]
  },
  {
   "cell_type": "code",
   "execution_count": null,
   "metadata": {
    "executionInfo": {
     "elapsed": 31,
     "status": "ok",
     "timestamp": 1644456805402,
     "user": {
      "displayName": "Luis Fernando Leal Hernandez",
      "photoUrl": "https://lh3.googleusercontent.com/a/default-user=s64",
      "userId": "08643725771405988586"
     },
     "user_tz": 360
    },
    "id": "d50_IMly2D60"
   },
   "outputs": [],
   "source": [
    "from matplotlib import pyplot as plt #visualizar datos\n",
    "import numpy as np #numeric python"
   ]
  },
  {
   "cell_type": "code",
   "execution_count": null,
   "metadata": {
    "colab": {
     "base_uri": "https://localhost:8080/",
     "height": 264
    },
    "executionInfo": {
     "elapsed": 425,
     "status": "ok",
     "timestamp": 1644456805797,
     "user": {
      "displayName": "Luis Fernando Leal Hernandez",
      "photoUrl": "https://lh3.googleusercontent.com/a/default-user=s64",
      "userId": "08643725771405988586"
     },
     "user_tz": 360
    },
    "id": "wtoFi6An2D61",
    "outputId": "6a92e4a7-61c8-4e28-8eb2-1e02eed7e971"
   },
   "outputs": [],
   "source": [
    "data = np.random.normal(size=1000000,loc=5,scale=2)\n",
    "\n",
    "plt.hist(data,bins=20)\n",
    "plt.show()"
   ]
  },
  {
   "cell_type": "code",
   "execution_count": null,
   "metadata": {
    "colab": {
     "base_uri": "https://localhost:8080/",
     "height": 374
    },
    "executionInfo": {
     "elapsed": 149451,
     "status": "error",
     "timestamp": 1644456955241,
     "user": {
      "displayName": "Luis Fernando Leal Hernandez",
      "photoUrl": "https://lh3.googleusercontent.com/a/default-user=s64",
      "userId": "08643725771405988586"
     },
     "user_tz": 360
    },
    "id": "eCTf69zt2D61",
    "outputId": "a0ed5462-b887-4776-b26d-dc126228b83f"
   },
   "outputs": [],
   "source": [
    "import random\n",
    "\n",
    "SIMULACIONES = 100\n",
    "iteracion = 1\n",
    "y_maximo = float(\"-inf\")\n",
    "y_minimo = float(\"inf\")\n",
    "ys_simulados = [] \n",
    "\n",
    "while iteracion <= SIMULACIONES:\n",
    "    x_simulado = random.gauss(5,2) # sampleo/muestreo de la variable x\n",
    "    y = 2*x_simulado + 3 #aplicar el modelo a la variable \"simulada\"\n",
    "    ys_simulados.append(y)\n",
    "    y_maximo = max(y_maximo,y) #en cada iteracion determinar el maximo encontrado\n",
    "    \n",
    "    iteracion +=1\n",
    "    \n",
    "print(\"El valor maximo de y es \",y_maximo)"
   ]
  },
  {
   "cell_type": "markdown",
   "metadata": {},
   "source": [
    "### For\n",
    "\n",
    "Uno de los ciclos mas conocidos y comunes entre los lenguajes de programacion , en C y heredados también utiliza una condicion booleana como criterio para definir la cantidad de iteraciones a realizar, en Python no se utiliza una condición booleana si no que itera sobre una colección de elementos.\n",
    "\n",
    "\n",
    "Su sintaxis tiene la forma general\n",
    "```\n",
    "< bloque antes >\n",
    "\n",
    "for < iterador > in < iterable >:\n",
    "\n",
    "    < bloque 1>\n",
    "    \n",
    "< bloque despues >\n",
    "```\n",
    "\n",
    "Donde:\n",
    "* < bloque antes > : hace referencia a cualquier sentencia de código antes de el ciclo for\n",
    "* < iterable > : cualquier coleccion de objetos (llamados tambien contenedores en Python)\n",
    "* < iterador > : es un objeto que sera utilizado para acceder a los elementos de la coleccion de objetos uno a uno, ya sea el objeto en si , un valor numerico indicando su posicion en la coleccion o ambos.\n",
    "* < bloque 1 > : es cualquier bloque de código(1 o mas sentencias) que queremos ejecutar repetidamente una vez por cada elemento de la coleccion(iterable) y puede o no incluir operaciones sobre el objeto (iterador)\n",
    "* < bloque despues >: hace referencia a el código a ejecutarse luego de que el ciclo while haya terminado de ejecutarse.\n",
    "\n",
    "Aun no hemos visto colecciones por lo cual usaremos ejemplo unicamente del tipo mas sencillo: **listas** \n",
    "\n",
    "**Ejemplo** En el siguiente ejemplo recorremos(iteramos) una lista de carnets y simplemente los imprimimos con \"print\""
   ]
  },
  {
   "cell_type": "code",
   "execution_count": null,
   "metadata": {},
   "outputs": [],
   "source": [
    "carnets = [123,124,125,126]\n",
    "\n",
    "for carnet in carnets: #foreach\n",
    "    print(carnet)"
   ]
  },
  {
   "cell_type": "markdown",
   "metadata": {
    "id": "VtssWJIv2D65"
   },
   "source": [
    "**nota** el \"iterador\" sobreescribe cualquier variable previa con el mismo nombre\n"
   ]
  },
  {
   "cell_type": "code",
   "execution_count": null,
   "metadata": {
    "colab": {
     "base_uri": "https://localhost:8080/"
    },
    "executionInfo": {
     "elapsed": 326,
     "status": "ok",
     "timestamp": 1644456975712,
     "user": {
      "displayName": "Luis Fernando Leal Hernandez",
      "photoUrl": "https://lh3.googleusercontent.com/a/default-user=s64",
      "userId": "08643725771405988586"
     },
     "user_tz": 360
    },
    "id": "8JGuxosy2D66",
    "outputId": "b27a856f-770f-4346-8cd8-41a2fcad5ab3"
   },
   "outputs": [],
   "source": [
    "carnets = [123,124,125,126]\n",
    "carnet = \"5555\"\n",
    "\n",
    "for carnet in carnets:\n",
    "    print(carnet)\n",
    "    \n",
    "print(carnet)"
   ]
  },
  {
   "cell_type": "markdown",
   "metadata": {
    "id": "s_QVcW1y2D66"
   },
   "source": [
    "**Ejemplo con strings** Los objetos de tipo string pueden ser un \"iterable\" donde cada caracter de la secuencia es un \"iterador\""
   ]
  },
  {
   "cell_type": "code",
   "execution_count": null,
   "metadata": {
    "colab": {
     "base_uri": "https://localhost:8080/"
    },
    "executionInfo": {
     "elapsed": 336,
     "status": "ok",
     "timestamp": 1644456986963,
     "user": {
      "displayName": "Luis Fernando Leal Hernandez",
      "photoUrl": "https://lh3.googleusercontent.com/a/default-user=s64",
      "userId": "08643725771405988586"
     },
     "user_tz": 360
    },
    "id": "m-uJJ2d52D66",
    "outputId": "bbfbe469-8cf5-4b5c-848b-b85eb7fd924f"
   },
   "outputs": [],
   "source": [
    "for letra in \"Python\":\n",
    "    print(letra)\n",
    "    "
   ]
  },
  {
   "cell_type": "markdown",
   "metadata": {
    "id": "QbSa9tnx2D66"
   },
   "source": [
    "#### break y continue\n",
    "\n",
    "Tambien podemos usar break y continue en \"for\" y su significado es el mismo:\n",
    "* break: salirse prematuramente del ciclo de manera definitiva\n",
    "* continue: salirse prematuramente de una sola iteracion del ciclo"
   ]
  },
  {
   "cell_type": "markdown",
   "metadata": {
    "id": "qMz_FJyz2D67"
   },
   "source": [
    "**ejemplo** usaremos break en un programa que busca en numero de usuario en una lista de usuarios registrados y muestra si el usuario fue encontrado o no, y cuantos usuarios ha revisado"
   ]
  },
  {
   "cell_type": "code",
   "execution_count": null,
   "metadata": {
    "colab": {
     "base_uri": "https://localhost:8080/"
    },
    "executionInfo": {
     "elapsed": 333,
     "status": "ok",
     "timestamp": 1644457009862,
     "user": {
      "displayName": "Luis Fernando Leal Hernandez",
      "photoUrl": "https://lh3.googleusercontent.com/a/default-user=s64",
      "userId": "08643725771405988586"
     },
     "user_tz": 360
    },
    "id": "FbrHjeP12D68",
    "outputId": "68eabc23-6dcf-4792-d485-2e56f19f9f3f"
   },
   "outputs": [],
   "source": [
    "carnets = [123,124,125,126,1244,1265,\n",
    "           66511,12545,14578] #iterable\n",
    "buscado = 1244\n",
    "revisados = 0\n",
    "encontrado = False\n",
    "\n",
    "for carnet in carnets: #carnet es el iterador\n",
    "    #revisados+=1\n",
    "    revisados = revisados + 1\n",
    "    if buscado == carnet:\n",
    "        encontrado = True\n",
    "        break\n",
    "        \n",
    "print(\"Encontrado:\", encontrado,\",revisados:\", revisados)"
   ]
  },
  {
   "cell_type": "markdown",
   "metadata": {
    "id": "nzzsSHIX2D69"
   },
   "source": [
    "**ejemplo** el siguiente programa \"itera\" sobre las letras de el string \"Python\" imprimiendolas una a una,pero utiliza \"continue\" para ignorar el codigo  en casos donde la letra es \"e\""
   ]
  },
  {
   "cell_type": "code",
   "execution_count": null,
   "metadata": {
    "colab": {
     "base_uri": "https://localhost:8080/"
    },
    "executionInfo": {
     "elapsed": 306,
     "status": "ok",
     "timestamp": 1644457014881,
     "user": {
      "displayName": "Luis Fernando Leal Hernandez",
      "photoUrl": "https://lh3.googleusercontent.com/a/default-user=s64",
      "userId": "08643725771405988586"
     },
     "user_tz": 360
    },
    "id": "oua0ckh_2D6-",
    "outputId": "5f6a04b4-b11d-4282-95da-a4b9255995de"
   },
   "outputs": [],
   "source": [
    "frase = \"\"\n",
    "for letra in \"Python es un lenguaje de programacion\":\n",
    "    \n",
    "    if letra == \"e\":\n",
    "        continue\n",
    "        \n",
    "    frase += letra\n",
    "print(frase)"
   ]
  },
  {
   "cell_type": "code",
   "execution_count": null,
   "metadata": {},
   "outputs": [],
   "source": []
  },
  {
   "cell_type": "markdown",
   "metadata": {},
   "source": [
    "**Ejercicio**: cuenta cuantas `a` hay en la siguiente cadena `atcgaatgacat`"
   ]
  },
  {
   "cell_type": "code",
   "execution_count": null,
   "metadata": {},
   "outputs": [],
   "source": [
    "for base in 'atcgaatgacat':\n",
    "    ## tu codigo\n",
    "    "
   ]
  },
  {
   "cell_type": "markdown",
   "metadata": {
    "id": "llbRt4XS2D6-"
   },
   "source": [
    "#### Función \"range\"\n",
    "\n",
    "En muchos casos es util generar un numero pre-definido de iteraciones, o iterar sobre una lista de valores numericos, para estos casos Python nos ofrece la funcion range() para generar de manera simple una lista de valores numericos sobre los cuales ejecutar un ciclo for.\n",
    "\n",
    "Aun que no hemos visto funciones, la funcion range es util estudiarla dentro del contexto del \"for\" ya que se usan  juntas muy comunmente."
   ]
  },
  {
   "cell_type": "code",
   "execution_count": null,
   "metadata": {
    "colab": {
     "base_uri": "https://localhost:8080/"
    },
    "executionInfo": {
     "elapsed": 311,
     "status": "ok",
     "timestamp": 1644457212858,
     "user": {
      "displayName": "Luis Fernando Leal Hernandez",
      "photoUrl": "https://lh3.googleusercontent.com/a/default-user=s64",
      "userId": "08643725771405988586"
     },
     "user_tz": 360
    },
    "id": "WC8J4Nc12D6_",
    "outputId": "3503a308-9b08-4034-ec22-c8cef911e87a"
   },
   "outputs": [],
   "source": [
    "for i in range(0,5): # for(i=0;i<5;i++)\n",
    "  \n",
    "    print(i)\n",
    "    print(i+5)\n",
    "    print(\"---------------------------------\")"
   ]
  },
  {
   "cell_type": "markdown",
   "metadata": {
    "id": "219doqDH2D6_"
   },
   "source": [
    "De manera general range tiene la sintaxis:\n",
    "```\n",
    "range(< inicio >, < fin >,< incremento >)\n",
    "```\n",
    "donde:\n",
    "\n",
    "* < inicio >: valor inicial de la lista de numeros generada(inclusivo)\n",
    "* < fin > :  valor final de la lista de numeros generada(exclusivo)\n",
    "* < incremento > : de cuanto en cuanto aumenta la lista\n",
    "\n",
    "Esto genera una lista empezando en < inicio > ,el segundo elemento es < inicio > + < incremento >, el tercer elemento es < inicio > + 2*< incremento > y asi sucesivamente hasta llegar a fin (valores menores a el)"
   ]
  },
  {
   "cell_type": "code",
   "execution_count": null,
   "metadata": {
    "colab": {
     "base_uri": "https://localhost:8080/"
    },
    "executionInfo": {
     "elapsed": 383,
     "status": "ok",
     "timestamp": 1644457466214,
     "user": {
      "displayName": "Luis Fernando Leal Hernandez",
      "photoUrl": "https://lh3.googleusercontent.com/a/default-user=s64",
      "userId": "08643725771405988586"
     },
     "user_tz": 360
    },
    "id": "ImGjRUpR2D6_",
    "outputId": "d21d7162-737e-4a42-99a6-4c51a1eded41"
   },
   "outputs": [],
   "source": [
    "\n",
    "for i in range(1,10,1):\n",
    "    print(i)"
   ]
  },
  {
   "cell_type": "code",
   "execution_count": null,
   "metadata": {
    "colab": {
     "base_uri": "https://localhost:8080/"
    },
    "executionInfo": {
     "elapsed": 15,
     "status": "ok",
     "timestamp": 1644457489752,
     "user": {
      "displayName": "Luis Fernando Leal Hernandez",
      "photoUrl": "https://lh3.googleusercontent.com/a/default-user=s64",
      "userId": "08643725771405988586"
     },
     "user_tz": 360
    },
    "id": "5Vwgyvx92D7A",
    "outputId": "5d29821b-9eb4-4bd2-ac2b-75e99ae34595"
   },
   "outputs": [],
   "source": [
    "for i in range(1,11,1):\n",
    "    print(i)"
   ]
  },
  {
   "cell_type": "code",
   "execution_count": null,
   "metadata": {
    "colab": {
     "base_uri": "https://localhost:8080/"
    },
    "executionInfo": {
     "elapsed": 989,
     "status": "ok",
     "timestamp": 1644457502539,
     "user": {
      "displayName": "Luis Fernando Leal Hernandez",
      "photoUrl": "https://lh3.googleusercontent.com/a/default-user=s64",
      "userId": "08643725771405988586"
     },
     "user_tz": 360
    },
    "id": "344RuCAh2D7A",
    "outputId": "e74b3e29-5440-4390-b623-a68e7af7d3db"
   },
   "outputs": [],
   "source": [
    "for i in range(1,11,2):\n",
    "    print(i)"
   ]
  },
  {
   "cell_type": "code",
   "execution_count": null,
   "metadata": {
    "colab": {
     "base_uri": "https://localhost:8080/"
    },
    "executionInfo": {
     "elapsed": 328,
     "status": "ok",
     "timestamp": 1644457546490,
     "user": {
      "displayName": "Luis Fernando Leal Hernandez",
      "photoUrl": "https://lh3.googleusercontent.com/a/default-user=s64",
      "userId": "08643725771405988586"
     },
     "user_tz": 360
    },
    "id": "JlYuYeF82D7A",
    "outputId": "dea7bd75-681f-4420-8385-a62465000ebf"
   },
   "outputs": [],
   "source": [
    "for i in range(2,11,2):\n",
    "    print(i)"
   ]
  },
  {
   "cell_type": "markdown",
   "metadata": {
    "id": "7kBEbhJ12D7B"
   },
   "source": [
    "Range tiene valores default para el inicio y el incremento, por lo cual si solo especificamos un parametro este sera el valor de fin, los valores default son:\n",
    "* inicio = 0\n",
    "* incremento = 1"
   ]
  },
  {
   "cell_type": "code",
   "execution_count": null,
   "metadata": {
    "colab": {
     "base_uri": "https://localhost:8080/"
    },
    "executionInfo": {
     "elapsed": 15,
     "status": "ok",
     "timestamp": 1644457624484,
     "user": {
      "displayName": "Luis Fernando Leal Hernandez",
      "photoUrl": "https://lh3.googleusercontent.com/a/default-user=s64",
      "userId": "08643725771405988586"
     },
     "user_tz": 360
    },
    "id": "Y5e-7fw22D7B",
    "outputId": "8a7d3cda-e9e4-4d85-99ea-46b9983a78b3"
   },
   "outputs": [],
   "source": [
    "for i in range(0,5,1):\n",
    "    print(i)"
   ]
  },
  {
   "cell_type": "code",
   "execution_count": null,
   "metadata": {
    "colab": {
     "base_uri": "https://localhost:8080/"
    },
    "executionInfo": {
     "elapsed": 344,
     "status": "ok",
     "timestamp": 1644457696862,
     "user": {
      "displayName": "Luis Fernando Leal Hernandez",
      "photoUrl": "https://lh3.googleusercontent.com/a/default-user=s64",
      "userId": "08643725771405988586"
     },
     "user_tz": 360
    },
    "id": "PUQxw5U6DLHo",
    "outputId": "cfc54a1a-8c3c-4cd0-fdd0-ee3dfb009e75"
   },
   "outputs": [],
   "source": [
    "n = 10\n",
    "for i in range(n): \n",
    "    print(i)"
   ]
  },
  {
   "cell_type": "markdown",
   "metadata": {
    "id": "GhMILX3c2D7B"
   },
   "source": [
    "**Ejemplo** \n",
    "Se llama sucesión a un conjunto de números dados ordenadamente de modo que se\n",
    "puedan numerar: primero, segundo, tercero,....\n",
    "Los elementos de la sucesión se llaman términos y se suelen designar mediante una letra\n",
    "con los subíndices correspondientes a los lugares que ocupan en la sucesión: a1, a2, a3, ...\n",
    "Por ejemplo, son sucesiones las siguientes listas de números:\n",
    "1, 2, 3, 4, 5, ... 2, 4, 8, 16, 32, ... -3, 3, -3, 3, -3, ...\n",
    "En algunas ocasiones es posible expresar el término n-ésimo (término que ocupa el lugar n)\n",
    "en función de n. Este término se llama término general de la sucesión, y se simboliza con an.\n",
    "Por ejemplo, en la sucesión 1, 4, 9, 16, 25, ... cada término es el cuadrado del lugar que ocupa en\n",
    "la sucesión, con lo que el término general an = n².\n",
    "\n",
    "Usar range para mostrar los primeros 15 terminos de la sucesion:\n",
    "\n",
    "$$S_{n} = n^{2}$$\n",
    "\n",
    "imprimirlos termino por termino junto a su indice en la sucesion"
   ]
  },
  {
   "cell_type": "code",
   "execution_count": null,
   "metadata": {
    "colab": {
     "base_uri": "https://localhost:8080/"
    },
    "executionInfo": {
     "elapsed": 327,
     "status": "ok",
     "timestamp": 1644457926672,
     "user": {
      "displayName": "Luis Fernando Leal Hernandez",
      "photoUrl": "https://lh3.googleusercontent.com/a/default-user=s64",
      "userId": "08643725771405988586"
     },
     "user_tz": 360
    },
    "id": "v5kySC_C2D7B",
    "outputId": "0fec8cb8-0502-446b-eab9-54b3c7f572fb"
   },
   "outputs": [],
   "source": [
    "for n in range(1,16,1):\n",
    "    print(n,n**2)"
   ]
  }
 ],
 "metadata": {
  "colab": {
   "collapsed_sections": [
    "zOXNFWT0pFnZ",
    "m9gUgfjbpFoO"
   ],
   "name": "Clase_03_intro_Python.ipynb",
   "provenance": []
  },
  "kernelspec": {
   "display_name": "Python 3 (ipykernel)",
   "language": "python",
   "name": "python3"
  },
  "language_info": {
   "codemirror_mode": {
    "name": "ipython",
    "version": 3
   },
   "file_extension": ".py",
   "mimetype": "text/x-python",
   "name": "python",
   "nbconvert_exporter": "python",
   "pygments_lexer": "ipython3",
   "version": "3.11.7"
  }
 },
 "nbformat": 4,
 "nbformat_minor": 4
}
