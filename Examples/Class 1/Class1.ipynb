{
 "cells": [
  {
   "cell_type": "markdown",
   "id": "69699c2c-3d6d-4e34-8ae7-ec1fb83be821",
   "metadata": {},
   "source": [
    "# Ejercicio Clase 1"
   ]
  },
  {
   "cell_type": "code",
   "execution_count": 1,
   "id": "9c4fac87-3aca-46c9-bcee-b91b39a8b081",
   "metadata": {},
   "outputs": [
    {
     "name": "stdout",
     "output_type": "stream",
     "text": [
      "Hola Mundo\n"
     ]
    }
   ],
   "source": [
    "print(\"Hola Mundo\")"
   ]
  },
  {
   "cell_type": "markdown",
   "id": "da95f5bf-7484-48f8-878b-d7e49ec20c67",
   "metadata": {},
   "source": [
    "## Importando Librerias de Python"
   ]
  },
  {
   "cell_type": "code",
   "execution_count": 2,
   "id": "4553cfbf-7bbb-469c-bb90-181fa77d51f5",
   "metadata": {},
   "outputs": [],
   "source": [
    "import Bio\n",
    "from Bio.Seq import Seq"
   ]
  },
  {
   "cell_type": "code",
   "execution_count": 3,
   "id": "9c0b24f0-882c-4081-947b-9cb6754dedbd",
   "metadata": {},
   "outputs": [
    {
     "name": "stdout",
     "output_type": "stream",
     "text": [
      "ACGTTGCACATC\n"
     ]
    }
   ],
   "source": [
    "dna = Seq(\"ACGTTGCACATC\")\n",
    "print(dna)"
   ]
  },
  {
   "cell_type": "code",
   "execution_count": 4,
   "id": "70c1993d-cecf-432c-830b-cd433f747c65",
   "metadata": {},
   "outputs": [
    {
     "name": "stdout",
     "output_type": "stream",
     "text": [
      "ACGTTGCACATC - Sequence\n",
      "TGCAACGTGTAG - Complement\n",
      "GATGTGCAACGT - Reverse Complement\n"
     ]
    }
   ],
   "source": [
    "print(dna + \" - Sequence\")\n",
    "print(dna.complement() + \" - Complement\")\n",
    "print(dna.reverse_complement() + \" - Reverse Complement\")"
   ]
  },
  {
   "cell_type": "code",
   "execution_count": null,
   "id": "04a4f3f2-cba5-4b11-affe-96d0dc2e3beb",
   "metadata": {},
   "outputs": [],
   "source": []
  }
 ],
 "metadata": {
  "kernelspec": {
   "display_name": "Python 3 (ipykernel)",
   "language": "python",
   "name": "python3"
  },
  "language_info": {
   "codemirror_mode": {
    "name": "ipython",
    "version": 3
   },
   "file_extension": ".py",
   "mimetype": "text/x-python",
   "name": "python",
   "nbconvert_exporter": "python",
   "pygments_lexer": "ipython3",
   "version": "3.8.16"
  }
 },
 "nbformat": 4,
 "nbformat_minor": 5
}
