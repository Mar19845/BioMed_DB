{
 "cells": [
  {
   "cell_type": "markdown",
   "id": "840323e4-9348-428d-982d-296ce3fe5662",
   "metadata": {},
   "source": [
    "# Namespace"
   ]
  },
  {
   "cell_type": "code",
   "execution_count": 19,
   "id": "abf584fd-90d9-4acd-a632-a7e4a849b969",
   "metadata": {},
   "outputs": [
    {
     "name": "stdout",
     "output_type": "stream",
     "text": [
      "Dentro de la función: 10 20\n",
      "X Dentro de la función: 1\n",
      "Fuera de la función: 10\n",
      "10\n",
      "Dentro de la función: 10 20\n",
      "X Dentro de la función: 1\n"
     ]
    }
   ],
   "source": [
    "global_variable = 10\n",
    "x = 10\n",
    "\n",
    "def example_function():\n",
    "    # Namespace local\n",
    "    local_variable = 20\n",
    "    x = 1\n",
    "    print(\"Dentro de la función:\", global_variable, local_variable)\n",
    "    print(f\"X Dentro de la función: {x}\")\n",
    "\n",
    "example_function()\n",
    "print(\"Fuera de la función:\", global_variable)\n",
    "print(x)\n",
    "example_function()"
   ]
  },
  {
   "cell_type": "code",
   "execution_count": 23,
   "id": "a8db01f6-dfb8-4c06-b1e3-8c54df971f23",
   "metadata": {},
   "outputs": [
    {
     "name": "stdout",
     "output_type": "stream",
     "text": [
      "Dentro de la función: 20 20\n",
      "Fuera de la función: 20\n"
     ]
    }
   ],
   "source": [
    "global_variable = 10\n",
    "\n",
    "\n",
    "def example_function():\n",
    "    # Namespace local\n",
    "    global global_variable\n",
    "    \n",
    "    local_variable = 20\n",
    "    global_variable += 10 \n",
    "    print(\"Dentro de la función:\", global_variable, local_variable)\n",
    "\n",
    "example_function()\n",
    "print(\"Fuera de la función:\", global_variable)"
   ]
  },
  {
   "cell_type": "code",
   "execution_count": 24,
   "id": "ea27a07e-608b-49ec-8207-93caa6f5d643",
   "metadata": {},
   "outputs": [
    {
     "name": "stdout",
     "output_type": "stream",
     "text": [
      "10\n",
      "1\n"
     ]
    }
   ],
   "source": [
    "x = 1\n",
    "\n",
    "def funcion1(val):\n",
    "    x = val\n",
    "    print(x)\n",
    "\n",
    "funcion1(10)\n",
    "print(x)"
   ]
  },
  {
   "cell_type": "code",
   "execution_count": 25,
   "id": "601191d8-b262-4057-929c-1e9fbf6ec4a0",
   "metadata": {},
   "outputs": [
    {
     "name": "stdout",
     "output_type": "stream",
     "text": [
      "2\n",
      "1\n"
     ]
    }
   ],
   "source": [
    "funcion1(2)\n",
    "print(x)"
   ]
  },
  {
   "cell_type": "code",
   "execution_count": 26,
   "id": "f59b4749-62d3-4bf1-8f42-b63ad55d64da",
   "metadata": {},
   "outputs": [
    {
     "name": "stdout",
     "output_type": "stream",
     "text": [
      "3\n",
      "1\n"
     ]
    }
   ],
   "source": [
    "funcion1(3)\n",
    "print(x)"
   ]
  },
  {
   "cell_type": "code",
   "execution_count": 27,
   "id": "3954a55f-9884-4a9c-b74c-62bfd18cad94",
   "metadata": {},
   "outputs": [
    {
     "name": "stdout",
     "output_type": "stream",
     "text": [
      "1\n",
      "1\n"
     ]
    }
   ],
   "source": [
    "funcion1(x)\n",
    "print(x)"
   ]
  },
  {
   "cell_type": "markdown",
   "id": "e4850d65-1dd2-4b6f-ae4a-e115dd27565b",
   "metadata": {},
   "source": [
    "# Tipos de Error en Pyhon"
   ]
  },
  {
   "cell_type": "markdown",
   "id": "8cfc4c3b-31ee-484b-bf86-09263a80aa34",
   "metadata": {},
   "source": [
    "## SyntaxError\n",
    "\n",
    "El error mas comun en Python, sucede cuando no estructuramos bien la declaración de la sentencia. \n",
    "Estos errores no son tan claros, indican donde posiblemente esta el error, si los copiamos y pegamos el error en un buscador, vamos a encontrar alguien que tuvo un error similar y lo arreglo."
   ]
  },
  {
   "cell_type": "code",
   "execution_count": 28,
   "id": "22a12719-1150-4a13-b1ed-f637116c49e1",
   "metadata": {
    "scrolled": true
   },
   "outputs": [
    {
     "ename": "SyntaxError",
     "evalue": "unterminated string literal (detected at line 1) (3789200569.py, line 1)",
     "output_type": "error",
     "traceback": [
      "\u001b[0;36m  Cell \u001b[0;32mIn[28], line 1\u001b[0;36m\u001b[0m\n\u001b[0;31m    print(\"Hola Mundo)\u001b[0m\n\u001b[0m          ^\u001b[0m\n\u001b[0;31mSyntaxError\u001b[0m\u001b[0;31m:\u001b[0m unterminated string literal (detected at line 1)\n"
     ]
    }
   ],
   "source": [
    "print(\"Hola Mundo)"
   ]
  },
  {
   "cell_type": "code",
   "execution_count": 29,
   "id": "c621947e-09b6-41d6-a818-0988acc55be9",
   "metadata": {},
   "outputs": [
    {
     "name": "stdout",
     "output_type": "stream",
     "text": [
      "Hola Mundo\n"
     ]
    }
   ],
   "source": [
    "print(\"Hola Mundo\")"
   ]
  },
  {
   "cell_type": "code",
   "execution_count": 30,
   "id": "17a44bc5-6aea-4df7-b94a-3b35f5ac2a23",
   "metadata": {},
   "outputs": [
    {
     "ename": "SyntaxError",
     "evalue": "invalid syntax (3118547426.py, line 3)",
     "output_type": "error",
     "traceback": [
      "\u001b[0;36m  Cell \u001b[0;32mIn[30], line 3\u001b[0;36m\u001b[0m\n\u001b[0;31m    \"llave2\": \"valor2\"\u001b[0m\n\u001b[0m            ^\u001b[0m\n\u001b[0;31mSyntaxError\u001b[0m\u001b[0;31m:\u001b[0m invalid syntax\n"
     ]
    }
   ],
   "source": [
    "diccionario = {\n",
    "    \"llave\" : \"valor1\"\n",
    "    \"llave2\": \"valor2\"\n",
    "}"
   ]
  },
  {
   "cell_type": "code",
   "execution_count": 31,
   "id": "d71041b7-c7ca-4288-9fc7-cffcedbd689c",
   "metadata": {},
   "outputs": [],
   "source": [
    "diccionario = {\n",
    "    \"llave\" : \"valor1\",\n",
    "    \"llave2\": \"valor2\"\n",
    "}"
   ]
  },
  {
   "cell_type": "markdown",
   "id": "e9cfa252-c051-42e2-b881-48674a229317",
   "metadata": {},
   "source": [
    "## IndexError\n",
    "Cuando tratamos de acceder a un indice que no es invalido."
   ]
  },
  {
   "cell_type": "code",
   "execution_count": 32,
   "id": "ddd68c2a-f7ea-49e6-952a-520ff1c3b6ed",
   "metadata": {},
   "outputs": [
    {
     "name": "stdout",
     "output_type": "stream",
     "text": [
      "5\n"
     ]
    },
    {
     "ename": "IndexError",
     "evalue": "list index out of range",
     "output_type": "error",
     "traceback": [
      "\u001b[0;31m---------------------------------------------------------------------------\u001b[0m",
      "\u001b[0;31mIndexError\u001b[0m                                Traceback (most recent call last)",
      "Cell \u001b[0;32mIn[32], line 3\u001b[0m\n\u001b[1;32m      1\u001b[0m lista \u001b[38;5;241m=\u001b[39m [\u001b[38;5;241m1\u001b[39m,\u001b[38;5;241m2\u001b[39m,\u001b[38;5;241m3\u001b[39m,\u001b[38;5;241m4\u001b[39m,\u001b[38;5;241m5\u001b[39m]\n\u001b[1;32m      2\u001b[0m \u001b[38;5;28mprint\u001b[39m(\u001b[38;5;28mlen\u001b[39m(lista))\n\u001b[0;32m----> 3\u001b[0m lista[\u001b[38;5;241m5\u001b[39m]\n",
      "\u001b[0;31mIndexError\u001b[0m: list index out of range"
     ]
    }
   ],
   "source": [
    "lista = [1,2,3,4,5]\n",
    "print(len(lista))\n",
    "lista[5]"
   ]
  },
  {
   "cell_type": "code",
   "execution_count": 37,
   "id": "0c38ea26-ac99-4dda-bc64-81832a392aa9",
   "metadata": {},
   "outputs": [
    {
     "data": {
      "text/plain": [
       "5"
      ]
     },
     "execution_count": 37,
     "metadata": {},
     "output_type": "execute_result"
    }
   ],
   "source": [
    "lista[4]"
   ]
  },
  {
   "cell_type": "code",
   "execution_count": 39,
   "id": "712f4214-2e3d-4b64-94ca-0f5895ca878a",
   "metadata": {},
   "outputs": [
    {
     "data": {
      "text/plain": [
       "'s'"
      ]
     },
     "execution_count": 39,
     "metadata": {},
     "output_type": "execute_result"
    }
   ],
   "source": [
    "\"asdfdf\"[1]"
   ]
  },
  {
   "cell_type": "markdown",
   "id": "cb0b1b4b-4456-46b4-9e84-48ff1f99dd3c",
   "metadata": {},
   "source": [
    "## ModuleNotFoundError\n",
    "Cuanto estamos tratando de utilizar un paquete que no existe "
   ]
  },
  {
   "cell_type": "code",
   "execution_count": 40,
   "id": "1383c09b-d02d-498d-bf6c-a533b0f8aa36",
   "metadata": {},
   "outputs": [
    {
     "ename": "ModuleNotFoundError",
     "evalue": "No module named 'sklean'",
     "output_type": "error",
     "traceback": [
      "\u001b[0;31m---------------------------------------------------------------------------\u001b[0m",
      "\u001b[0;31mModuleNotFoundError\u001b[0m                       Traceback (most recent call last)",
      "Cell \u001b[0;32mIn[40], line 1\u001b[0m\n\u001b[0;32m----> 1\u001b[0m \u001b[38;5;28;01mimport\u001b[39;00m \u001b[38;5;21;01msklean\u001b[39;00m\n",
      "\u001b[0;31mModuleNotFoundError\u001b[0m: No module named 'sklean'"
     ]
    }
   ],
   "source": [
    "import sklean"
   ]
  },
  {
   "cell_type": "code",
   "execution_count": 41,
   "id": "1f7d7eb5-7d79-41f2-956f-686cd1988111",
   "metadata": {},
   "outputs": [
    {
     "ename": "ModuleNotFoundError",
     "evalue": "No module named 'tensorflow'",
     "output_type": "error",
     "traceback": [
      "\u001b[0;31m---------------------------------------------------------------------------\u001b[0m",
      "\u001b[0;31mModuleNotFoundError\u001b[0m                       Traceback (most recent call last)",
      "Cell \u001b[0;32mIn[41], line 1\u001b[0m\n\u001b[0;32m----> 1\u001b[0m \u001b[38;5;28;01mimport\u001b[39;00m \u001b[38;5;21;01mtensorflow\u001b[39;00m\n",
      "\u001b[0;31mModuleNotFoundError\u001b[0m: No module named 'tensorflow'"
     ]
    }
   ],
   "source": [
    "import tensorflow"
   ]
  },
  {
   "cell_type": "markdown",
   "id": "f329709a-e8b0-4eb7-8af9-bedecb8e80bc",
   "metadata": {},
   "source": [
    "## KeyError\n",
    "\n",
    "Cuando queremos acceder a una llave que no existe"
   ]
  },
  {
   "cell_type": "code",
   "execution_count": 42,
   "id": "14cd9e9d-fe77-4f76-97c4-c9d760a3d075",
   "metadata": {},
   "outputs": [
    {
     "ename": "KeyError",
     "evalue": "'catedratico'",
     "output_type": "error",
     "traceback": [
      "\u001b[0;31m---------------------------------------------------------------------------\u001b[0m",
      "\u001b[0;31mKeyError\u001b[0m                                  Traceback (most recent call last)",
      "Cell \u001b[0;32mIn[42], line 6\u001b[0m\n\u001b[1;32m      1\u001b[0m dic \u001b[38;5;241m=\u001b[39m {\n\u001b[1;32m      2\u001b[0m     \u001b[38;5;124m\"\u001b[39m\u001b[38;5;124mcurso\u001b[39m\u001b[38;5;124m\"\u001b[39m:\u001b[38;5;124m\"\u001b[39m\u001b[38;5;124mbioinformatica\u001b[39m\u001b[38;5;124m\"\u001b[39m,\n\u001b[1;32m      3\u001b[0m     \u001b[38;5;124m\"\u001b[39m\u001b[38;5;124mhorario\u001b[39m\u001b[38;5;124m\"\u001b[39m: \u001b[38;5;124m\"\u001b[39m\u001b[38;5;124m7am-10am\u001b[39m\u001b[38;5;124m\"\u001b[39m\n\u001b[1;32m      4\u001b[0m }\n\u001b[0;32m----> 6\u001b[0m dic[\u001b[38;5;124m\"\u001b[39m\u001b[38;5;124mcatedratico\u001b[39m\u001b[38;5;124m\"\u001b[39m]\n",
      "\u001b[0;31mKeyError\u001b[0m: 'catedratico'"
     ]
    }
   ],
   "source": [
    "dic = {\n",
    "    \"curso\":\"bioinformatica\",\n",
    "    \"horario\": \"7am-10am\"\n",
    "}\n",
    "\n",
    "dic[\"catedratico\"]"
   ]
  },
  {
   "cell_type": "code",
   "execution_count": 44,
   "id": "4e931309-c5c8-41d0-b752-fdbe16409d53",
   "metadata": {},
   "outputs": [
    {
     "data": {
      "text/plain": [
       "'Erick'"
      ]
     },
     "execution_count": 44,
     "metadata": {},
     "output_type": "execute_result"
    }
   ],
   "source": [
    "dic.get(\"catedratico\", \"Erick\")"
   ]
  },
  {
   "cell_type": "markdown",
   "id": "c253443c-1b75-41c3-84c1-00381cf9673c",
   "metadata": {},
   "source": [
    "## TypeError\n",
    "Cuando aplicamos una operacion al tipo incorrecto de objeto"
   ]
  },
  {
   "cell_type": "code",
   "execution_count": 14,
   "id": "e6580a9a-1de5-4c7f-9c09-02c3c3afd558",
   "metadata": {},
   "outputs": [
    {
     "ename": "TypeError",
     "evalue": "can only concatenate str (not \"int\") to str",
     "output_type": "error",
     "traceback": [
      "\u001b[0;31m---------------------------------------------------------------------------\u001b[0m",
      "\u001b[0;31mTypeError\u001b[0m                                 Traceback (most recent call last)",
      "Cell \u001b[0;32mIn[14], line 1\u001b[0m\n\u001b[0;32m----> 1\u001b[0m \u001b[38;5;124;43m'\u001b[39;49m\u001b[38;5;124;43ma\u001b[39;49m\u001b[38;5;124;43m'\u001b[39;49m\u001b[43m \u001b[49m\u001b[38;5;241;43m+\u001b[39;49m\u001b[43m \u001b[49m\u001b[38;5;241;43m3\u001b[39;49m\n",
      "\u001b[0;31mTypeError\u001b[0m: can only concatenate str (not \"int\") to str"
     ]
    }
   ],
   "source": [
    "'a' + 3"
   ]
  },
  {
   "cell_type": "code",
   "execution_count": 45,
   "id": "cd89daae-407d-433f-90e3-0874f498714a",
   "metadata": {},
   "outputs": [
    {
     "ename": "TypeError",
     "evalue": "can only concatenate str (not \"int\") to str",
     "output_type": "error",
     "traceback": [
      "\u001b[0;31m---------------------------------------------------------------------------\u001b[0m",
      "\u001b[0;31mTypeError\u001b[0m                                 Traceback (most recent call last)",
      "Cell \u001b[0;32mIn[45], line 1\u001b[0m\n\u001b[0;32m----> 1\u001b[0m \u001b[38;5;124m'\u001b[39m\u001b[38;5;124m5\u001b[39m\u001b[38;5;124m'\u001b[39m \u001b[38;5;241m+\u001b[39m \u001b[38;5;241m3\u001b[39m\n",
      "\u001b[0;31mTypeError\u001b[0m: can only concatenate str (not \"int\") to str"
     ]
    }
   ],
   "source": [
    "'5' + 3"
   ]
  },
  {
   "cell_type": "code",
   "execution_count": 48,
   "id": "4094ccf9-7180-4f81-acdc-131aa21ac5d6",
   "metadata": {},
   "outputs": [
    {
     "data": {
      "text/plain": [
       "8.0"
      ]
     },
     "execution_count": 48,
     "metadata": {},
     "output_type": "execute_result"
    }
   ],
   "source": [
    "float('5') + 3"
   ]
  },
  {
   "cell_type": "markdown",
   "id": "f3867b31-27d8-4fd6-a0a9-eb0cacb1f8c6",
   "metadata": {},
   "source": [
    "## ValueError\n",
    "Cuando el agumento que enviamos a la funcion es de un tipo incorrecto"
   ]
  },
  {
   "cell_type": "code",
   "execution_count": 49,
   "id": "87ad98ab-9754-40a7-8cf1-669a7c7c6da4",
   "metadata": {},
   "outputs": [
    {
     "data": {
      "text/plain": [
       "1234"
      ]
     },
     "execution_count": 49,
     "metadata": {},
     "output_type": "execute_result"
    }
   ],
   "source": [
    "int(\"1234\")"
   ]
  },
  {
   "cell_type": "code",
   "execution_count": 50,
   "id": "0ceded0f-b919-4167-a96d-6500c3a8542d",
   "metadata": {},
   "outputs": [
    {
     "ename": "ValueError",
     "evalue": "invalid literal for int() with base 10: 'ab'",
     "output_type": "error",
     "traceback": [
      "\u001b[0;31m---------------------------------------------------------------------------\u001b[0m",
      "\u001b[0;31mValueError\u001b[0m                                Traceback (most recent call last)",
      "Cell \u001b[0;32mIn[50], line 1\u001b[0m\n\u001b[0;32m----> 1\u001b[0m \u001b[38;5;28mint\u001b[39m(\u001b[38;5;124m\"\u001b[39m\u001b[38;5;124mab\u001b[39m\u001b[38;5;124m\"\u001b[39m)\n",
      "\u001b[0;31mValueError\u001b[0m: invalid literal for int() with base 10: 'ab'"
     ]
    }
   ],
   "source": [
    "int(\"ab\")"
   ]
  },
  {
   "cell_type": "code",
   "execution_count": 51,
   "id": "1bd9c8cd-e241-4fd1-9cb8-575d2ad39649",
   "metadata": {},
   "outputs": [
    {
     "ename": "ValueError",
     "evalue": "could not convert string to float: 'asdf'",
     "output_type": "error",
     "traceback": [
      "\u001b[0;31m---------------------------------------------------------------------------\u001b[0m",
      "\u001b[0;31mValueError\u001b[0m                                Traceback (most recent call last)",
      "Cell \u001b[0;32mIn[51], line 1\u001b[0m\n\u001b[0;32m----> 1\u001b[0m \u001b[38;5;28mfloat\u001b[39m(\u001b[38;5;124m\"\u001b[39m\u001b[38;5;124masdf\u001b[39m\u001b[38;5;124m\"\u001b[39m)\n",
      "\u001b[0;31mValueError\u001b[0m: could not convert string to float: 'asdf'"
     ]
    }
   ],
   "source": [
    "float(\"asdf\")"
   ]
  },
  {
   "cell_type": "markdown",
   "id": "3dacb53b-d77e-48c8-a9f5-315753428ee4",
   "metadata": {},
   "source": [
    "## NameError\n",
    "Cuando no se puede encontrar el objeto que se quiere utilizar"
   ]
  },
  {
   "cell_type": "code",
   "execution_count": 53,
   "id": "de5dc2b6-9f4a-4f6a-826e-d3fc4474cf53",
   "metadata": {},
   "outputs": [],
   "source": [
    "variable1 = 10"
   ]
  },
  {
   "cell_type": "code",
   "execution_count": 54,
   "id": "650daf01-b47b-4ecd-a6f2-ae6baffae7c4",
   "metadata": {},
   "outputs": [
    {
     "data": {
      "text/plain": [
       "15"
      ]
     },
     "execution_count": 54,
     "metadata": {},
     "output_type": "execute_result"
    }
   ],
   "source": [
    "variable1 + 5"
   ]
  },
  {
   "cell_type": "code",
   "execution_count": 55,
   "id": "2780baba-7576-400a-b75e-7023495b346e",
   "metadata": {},
   "outputs": [
    {
     "ename": "NameError",
     "evalue": "name 'plt' is not defined",
     "output_type": "error",
     "traceback": [
      "\u001b[0;31m---------------------------------------------------------------------------\u001b[0m",
      "\u001b[0;31mNameError\u001b[0m                                 Traceback (most recent call last)",
      "Cell \u001b[0;32mIn[55], line 1\u001b[0m\n\u001b[0;32m----> 1\u001b[0m plt\u001b[38;5;241m.\u001b[39mshow()\n",
      "\u001b[0;31mNameError\u001b[0m: name 'plt' is not defined"
     ]
    }
   ],
   "source": [
    "plt.show()"
   ]
  },
  {
   "cell_type": "markdown",
   "id": "8b084381-6591-4a74-8903-507648153a92",
   "metadata": {},
   "source": [
    "## ZeroDivisionError\n",
    "Ocurre cuando se itenta dividir por cero."
   ]
  },
  {
   "cell_type": "code",
   "execution_count": 56,
   "id": "8998c5e4-e18d-47a9-8d72-3817ca914bb5",
   "metadata": {},
   "outputs": [
    {
     "ename": "ZeroDivisionError",
     "evalue": "division by zero",
     "output_type": "error",
     "traceback": [
      "\u001b[0;31m---------------------------------------------------------------------------\u001b[0m",
      "\u001b[0;31mZeroDivisionError\u001b[0m                         Traceback (most recent call last)",
      "Cell \u001b[0;32mIn[56], line 1\u001b[0m\n\u001b[0;32m----> 1\u001b[0m \u001b[38;5;241m5\u001b[39m\u001b[38;5;241m/\u001b[39m\u001b[38;5;241m0\u001b[39m\n",
      "\u001b[0;31mZeroDivisionError\u001b[0m: division by zero"
     ]
    }
   ],
   "source": [
    "5/0"
   ]
  },
  {
   "cell_type": "code",
   "execution_count": null,
   "id": "0708e80f-6d90-460f-9353-e969743dab3d",
   "metadata": {},
   "outputs": [],
   "source": []
  },
  {
   "cell_type": "markdown",
   "id": "f945aded-cef7-4c82-b84e-4922525eb9e7",
   "metadata": {},
   "source": [
    "## Control de Excepciones"
   ]
  },
  {
   "cell_type": "markdown",
   "id": "cb966343-d57b-45a6-8183-ac18beda0399",
   "metadata": {},
   "source": [
    "```Python\n",
    "try:\n",
    "     bloque código 1\n",
    "except excepción:\n",
    "     bloque código 2\n",
    "else:\n",
    "     bloque código 3\n",
    "```"
   ]
  },
  {
   "cell_type": "code",
   "execution_count": 57,
   "id": "d657b3e6-39bb-4dc2-902e-95afb143f16b",
   "metadata": {},
   "outputs": [],
   "source": [
    "def division(dividendo, divisor):\n",
    "    return dividendo/divisor"
   ]
  },
  {
   "cell_type": "code",
   "execution_count": 58,
   "id": "016159b4-ddd7-4038-a123-702bc71fac3e",
   "metadata": {},
   "outputs": [
    {
     "data": {
      "text/plain": [
       "0.4"
      ]
     },
     "execution_count": 58,
     "metadata": {},
     "output_type": "execute_result"
    }
   ],
   "source": [
    "division(2,5)"
   ]
  },
  {
   "cell_type": "code",
   "execution_count": 59,
   "id": "a4945504-0f67-4771-8e7c-836570db2114",
   "metadata": {},
   "outputs": [
    {
     "ename": "ZeroDivisionError",
     "evalue": "division by zero",
     "output_type": "error",
     "traceback": [
      "\u001b[0;31m---------------------------------------------------------------------------\u001b[0m",
      "\u001b[0;31mZeroDivisionError\u001b[0m                         Traceback (most recent call last)",
      "Cell \u001b[0;32mIn[59], line 1\u001b[0m\n\u001b[0;32m----> 1\u001b[0m division(\u001b[38;5;241m2\u001b[39m,\u001b[38;5;241m0\u001b[39m)\n",
      "Cell \u001b[0;32mIn[57], line 2\u001b[0m, in \u001b[0;36mdivision\u001b[0;34m(dividendo, divisor)\u001b[0m\n\u001b[1;32m      1\u001b[0m \u001b[38;5;28;01mdef\u001b[39;00m \u001b[38;5;21mdivision\u001b[39m(dividendo, divisor):\n\u001b[0;32m----> 2\u001b[0m     \u001b[38;5;28;01mreturn\u001b[39;00m dividendo\u001b[38;5;241m/\u001b[39mdivisor\n",
      "\u001b[0;31mZeroDivisionError\u001b[0m: division by zero"
     ]
    }
   ],
   "source": [
    "division(2,0)"
   ]
  },
  {
   "cell_type": "code",
   "execution_count": 60,
   "id": "98e0ee83-ca74-426f-8b45-d9ec9d16d5b0",
   "metadata": {},
   "outputs": [
    {
     "ename": "TypeError",
     "evalue": "unsupported operand type(s) for /: 'int' and 'str'",
     "output_type": "error",
     "traceback": [
      "\u001b[0;31m---------------------------------------------------------------------------\u001b[0m",
      "\u001b[0;31mTypeError\u001b[0m                                 Traceback (most recent call last)",
      "Cell \u001b[0;32mIn[60], line 1\u001b[0m\n\u001b[0;32m----> 1\u001b[0m division(\u001b[38;5;241m2\u001b[39m,\u001b[38;5;124m\"\u001b[39m\u001b[38;5;124m3\u001b[39m\u001b[38;5;124m\"\u001b[39m)\n",
      "Cell \u001b[0;32mIn[57], line 2\u001b[0m, in \u001b[0;36mdivision\u001b[0;34m(dividendo, divisor)\u001b[0m\n\u001b[1;32m      1\u001b[0m \u001b[38;5;28;01mdef\u001b[39;00m \u001b[38;5;21mdivision\u001b[39m(dividendo, divisor):\n\u001b[0;32m----> 2\u001b[0m     \u001b[38;5;28;01mreturn\u001b[39;00m dividendo\u001b[38;5;241m/\u001b[39mdivisor\n",
      "\u001b[0;31mTypeError\u001b[0m: unsupported operand type(s) for /: 'int' and 'str'"
     ]
    }
   ],
   "source": [
    "division(2,\"3\")"
   ]
  },
  {
   "cell_type": "code",
   "execution_count": 61,
   "id": "95701167-1e9f-4219-929d-9f42c7f51bce",
   "metadata": {},
   "outputs": [],
   "source": [
    "def division(dividendo, divisor):\n",
    "    try:\n",
    "        return dividendo/divisor\n",
    "    except Exception as e:\n",
    "        print(\"error!!!!\")\n",
    "        print(e)\n",
    "        return None"
   ]
  },
  {
   "cell_type": "code",
   "execution_count": 62,
   "id": "69025fe0-1ecc-4579-aa9e-69b906581d33",
   "metadata": {},
   "outputs": [
    {
     "data": {
      "text/plain": [
       "0.6666666666666666"
      ]
     },
     "execution_count": 62,
     "metadata": {},
     "output_type": "execute_result"
    }
   ],
   "source": [
    "division(2,3)"
   ]
  },
  {
   "cell_type": "code",
   "execution_count": 63,
   "id": "968c54c9-66b4-4e6c-ba2b-779027d6052f",
   "metadata": {},
   "outputs": [
    {
     "name": "stdout",
     "output_type": "stream",
     "text": [
      "error!!!!\n",
      "unsupported operand type(s) for /: 'int' and 'str'\n"
     ]
    }
   ],
   "source": [
    "division(2,'1')"
   ]
  },
  {
   "cell_type": "code",
   "execution_count": 64,
   "id": "80698983-fcbb-48a4-88c6-fd573590098b",
   "metadata": {},
   "outputs": [
    {
     "name": "stdout",
     "output_type": "stream",
     "text": [
      "error!!!!\n",
      "division by zero\n"
     ]
    }
   ],
   "source": [
    "division(2,0)"
   ]
  },
  {
   "cell_type": "code",
   "execution_count": 66,
   "id": "f3a24c7d-f605-4388-9b43-bdfef022dc27",
   "metadata": {},
   "outputs": [],
   "source": [
    "import numpy as np"
   ]
  },
  {
   "cell_type": "code",
   "execution_count": 85,
   "id": "2e94ed71-294f-473a-b18f-26526db9354b",
   "metadata": {},
   "outputs": [
    {
     "name": "stdout",
     "output_type": "stream",
     "text": [
      "== Edad en dias 5455 ==\n",
      "Error al dividir\n",
      "== Edad en dias 465 ==\n",
      "Error al dividir\n",
      "== Edad en dias 544 ==\n",
      "Error al dividir\n",
      "== Edad en dias 5464 ==\n",
      "Error al dividir\n",
      "== Edad en dias 542 ==\n",
      "Error al dividir\n"
     ]
    }
   ],
   "source": [
    "edades_dias = [5455, 465, 544, 5464, 542]\n",
    "\n",
    "for edad in edades_dias:\n",
    "    print(f\"== Edad en dias {edad} ==\")\n",
    "    try:\n",
    "        print(edad/ 0)\n",
    "    except:\n",
    "        print(\"Error al dividir\")\n"
   ]
  },
  {
   "cell_type": "code",
   "execution_count": 84,
   "id": "4814b0b5-ed9a-4b64-b359-48e750bf9a04",
   "metadata": {},
   "outputs": [
    {
     "name": "stdout",
     "output_type": "stream",
     "text": [
      "a\n"
     ]
    }
   ],
   "source": [
    "print(\"a\")"
   ]
  },
  {
   "cell_type": "code",
   "execution_count": null,
   "id": "8df90ab1-e864-41c0-8c8d-d9b66e18874e",
   "metadata": {},
   "outputs": [],
   "source": []
  },
  {
   "cell_type": "code",
   "execution_count": null,
   "id": "2382b68c-fa06-4509-882c-f8c65ed6193f",
   "metadata": {},
   "outputs": [],
   "source": []
  },
  {
   "cell_type": "code",
   "execution_count": null,
   "id": "5b42549b-35e3-40fc-9701-c0441edf22b3",
   "metadata": {},
   "outputs": [],
   "source": []
  },
  {
   "cell_type": "code",
   "execution_count": 90,
   "id": "a9a0c662-3d43-4991-a091-5d3e1ff47fcd",
   "metadata": {},
   "outputs": [],
   "source": [
    "\n",
    "def division(dividendo, divisor):\n",
    "    try:\n",
    "        return dividendo/divisor\n",
    "    except ZeroDivisionError:\n",
    "        print(\"Error, no podemos dividir por 0\")\n",
    "        return 1\n",
    "    return None"
   ]
  },
  {
   "cell_type": "code",
   "execution_count": 91,
   "id": "8144c136-a65b-4aab-b671-df6e51edbfeb",
   "metadata": {},
   "outputs": [
    {
     "data": {
      "text/plain": [
       "0.6666666666666666"
      ]
     },
     "execution_count": 91,
     "metadata": {},
     "output_type": "execute_result"
    }
   ],
   "source": [
    "division(2,3)"
   ]
  },
  {
   "cell_type": "code",
   "execution_count": 92,
   "id": "3237dfc1-a233-4f5a-847a-b911238308d5",
   "metadata": {},
   "outputs": [
    {
     "ename": "TypeError",
     "evalue": "unsupported operand type(s) for /: 'int' and 'str'",
     "output_type": "error",
     "traceback": [
      "\u001b[0;31m---------------------------------------------------------------------------\u001b[0m",
      "\u001b[0;31mTypeError\u001b[0m                                 Traceback (most recent call last)",
      "Cell \u001b[0;32mIn[92], line 1\u001b[0m\n\u001b[0;32m----> 1\u001b[0m division(\u001b[38;5;241m2\u001b[39m,\u001b[38;5;124m'\u001b[39m\u001b[38;5;124m1\u001b[39m\u001b[38;5;124m'\u001b[39m)\n",
      "Cell \u001b[0;32mIn[90], line 3\u001b[0m, in \u001b[0;36mdivision\u001b[0;34m(dividendo, divisor)\u001b[0m\n\u001b[1;32m      1\u001b[0m \u001b[38;5;28;01mdef\u001b[39;00m \u001b[38;5;21mdivision\u001b[39m(dividendo, divisor):\n\u001b[1;32m      2\u001b[0m     \u001b[38;5;28;01mtry\u001b[39;00m:\n\u001b[0;32m----> 3\u001b[0m         \u001b[38;5;28;01mreturn\u001b[39;00m dividendo\u001b[38;5;241m/\u001b[39mdivisor\n\u001b[1;32m      4\u001b[0m     \u001b[38;5;28;01mexcept\u001b[39;00m \u001b[38;5;167;01mZeroDivisionError\u001b[39;00m:\n\u001b[1;32m      5\u001b[0m         \u001b[38;5;28mprint\u001b[39m(\u001b[38;5;124m\"\u001b[39m\u001b[38;5;124mError, no podemos dividir por 0\u001b[39m\u001b[38;5;124m\"\u001b[39m)\n",
      "\u001b[0;31mTypeError\u001b[0m: unsupported operand type(s) for /: 'int' and 'str'"
     ]
    }
   ],
   "source": [
    "division(2,'1')"
   ]
  },
  {
   "cell_type": "code",
   "execution_count": 89,
   "id": "c02b71bf-c08d-4f80-94cb-56ba7f8d4a12",
   "metadata": {},
   "outputs": [
    {
     "name": "stdout",
     "output_type": "stream",
     "text": [
      "Error, no podemos dividir por 0\n"
     ]
    },
    {
     "data": {
      "text/plain": [
       "1"
      ]
     },
     "execution_count": 89,
     "metadata": {},
     "output_type": "execute_result"
    }
   ],
   "source": [
    "division(2,0)"
   ]
  },
  {
   "cell_type": "code",
   "execution_count": null,
   "id": "8d2e9da1-7aa1-4e43-ad5d-6c8b90d8c074",
   "metadata": {},
   "outputs": [],
   "source": []
  },
  {
   "cell_type": "code",
   "execution_count": 93,
   "id": "4215f4d4-9f13-4712-9d70-46945a39c6b0",
   "metadata": {},
   "outputs": [
    {
     "name": "stdout",
     "output_type": "stream",
     "text": [
      "4\n"
     ]
    }
   ],
   "source": [
    "lista = [1,2,3,4]\n",
    "\n",
    "try:\n",
    "    print(lista[100])\n",
    "except IndexError:\n",
    "    print(lista[-1])"
   ]
  },
  {
   "cell_type": "code",
   "execution_count": 95,
   "id": "e497d5a8-e7fa-4b71-a59d-e76094b4e142",
   "metadata": {},
   "outputs": [
    {
     "ename": "IndexError",
     "evalue": "list index out of range",
     "output_type": "error",
     "traceback": [
      "\u001b[0;31m---------------------------------------------------------------------------\u001b[0m",
      "\u001b[0;31mIndexError\u001b[0m                                Traceback (most recent call last)",
      "Cell \u001b[0;32mIn[95], line 1\u001b[0m\n\u001b[0;32m----> 1\u001b[0m lista[\u001b[38;5;241m100\u001b[39m]\n",
      "\u001b[0;31mIndexError\u001b[0m: list index out of range"
     ]
    }
   ],
   "source": [
    "lista[100]"
   ]
  },
  {
   "cell_type": "code",
   "execution_count": null,
   "id": "bded895a-f150-44f2-a86f-82763ebb0d96",
   "metadata": {},
   "outputs": [],
   "source": []
  }
 ],
 "metadata": {
  "kernelspec": {
   "display_name": "Python 3 (ipykernel)",
   "language": "python",
   "name": "python3"
  },
  "language_info": {
   "codemirror_mode": {
    "name": "ipython",
    "version": 3
   },
   "file_extension": ".py",
   "mimetype": "text/x-python",
   "name": "python",
   "nbconvert_exporter": "python",
   "pygments_lexer": "ipython3",
   "version": "3.11.7"
  }
 },
 "nbformat": 4,
 "nbformat_minor": 5
}
