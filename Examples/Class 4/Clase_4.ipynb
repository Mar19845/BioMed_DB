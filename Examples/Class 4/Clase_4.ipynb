{
 "cells": [
  {
   "cell_type": "markdown",
   "id": "0c778659-9dab-47d2-bafc-85782ec17926",
   "metadata": {},
   "source": [
    "# Clase 4"
   ]
  },
  {
   "cell_type": "markdown",
   "id": "943ac295-d72a-44a4-8242-8113e9efe02a",
   "metadata": {},
   "source": [
    "### Python open()\n",
    "La función `open()` de Python nos retorna los contenidos de archivos como objetos de Python. Sus parametros principales son:\n",
    "- file_name: ruta completa del archivo que queremos leer\n",
    "- mode: este parametro especifica en que modo sera leido el archivo\n",
    "    - “r”: Solo lectura(read-only), este es el valor por defecto\n",
    "    - “w”: Este se usa para escribir sobre el archivo o lo crea si el archivo no existe\n",
    "    - “a”: Se utiliza para hacer \"append\" al archivo, si el archivo no existe crea uno nuevo\n",
    "    - “x”: Se utiliza para crear archivos\n",
    "    - “t”: This string is used to handle files in text mode. By default, the open() function uses the text mode."
   ]
  },
  {
   "cell_type": "markdown",
   "id": "1232b3d2-c932-4c2c-b1f9-fad62059a22a",
   "metadata": {},
   "source": [
    "#### Creamos un archivo "
   ]
  },
  {
   "cell_type": "code",
   "execution_count": null,
   "id": "ae4c6a36-8a94-41e9-91cc-2822ba639044",
   "metadata": {},
   "outputs": [],
   "source": [
    "nuevo_archivo = open(\"bioinformatica.txt\", \"x\")"
   ]
  },
  {
   "cell_type": "markdown",
   "id": "fed9eb10-e4bb-452a-b363-887f70fa44f9",
   "metadata": {},
   "source": [
    "#### Leemos un archivo en modo escritura"
   ]
  },
  {
   "cell_type": "code",
   "execution_count": null,
   "id": "dcad75fb-313b-44b6-83d5-70740ad818c7",
   "metadata": {},
   "outputs": [],
   "source": [
    "archivo = open(\"bioinformatica.txt\", \"w\")\n",
    "\n",
    "## Utilizamos la funcion write para escribir\n",
    "archivo.write(\"Bioinformatica USAC\")\n",
    "## Utilizamos la funcion close() para cerrar el archivos, \n",
    "## a partir de aca ya no se puede escribir en el archivo\n",
    "archivo.close()"
   ]
  },
  {
   "cell_type": "markdown",
   "id": "e0f5b3dc-230a-4ef3-80eb-bc141338ce1b",
   "metadata": {},
   "source": [
    "### Revisando el contenido de el archivo"
   ]
  },
  {
   "cell_type": "code",
   "execution_count": null,
   "id": "8093705d-aa5c-4443-931f-00fa25f3db54",
   "metadata": {},
   "outputs": [],
   "source": [
    "archivo = open(\"bioinformatica.txt\",\"r\")\n",
    "print(archivo.read())"
   ]
  },
  {
   "cell_type": "markdown",
   "id": "db9f949c-84b9-4b42-a4f4-8b352be40610",
   "metadata": {},
   "source": [
    "### Ejercicio\n",
    "leer el archivo `pubmed-33053381.txt` y extraer el abstract"
   ]
  },
  {
   "cell_type": "code",
   "execution_count": null,
   "id": "449f4fcd-81bd-45be-87fc-493abd59ffc4",
   "metadata": {},
   "outputs": [],
   "source": []
  },
  {
   "cell_type": "markdown",
   "id": "18a32a76-ec1b-461d-826d-939f9309ba1a",
   "metadata": {},
   "source": [
    "##### Metodos de Strings\n",
    "- split(): Divide una cadena de texto en una lista de subcadenas, utilizando un delimitador especificado. Por ejemplo, \"Hola,mundo\".split(\",\") devolverá [\"Hola\", \"mundo\"].\n",
    "- strip(): Elimina los espacios en blanco al principio y al final de una cadena. Por ejemplo, \" Hola, mundo \".strip() devolverá \"Hola, mundo\", eliminando los espacios adicionales."
   ]
  },
  {
   "cell_type": "code",
   "execution_count": null,
   "id": "bc9394f5-46ac-4fa2-aaf4-c615f36bd480",
   "metadata": {},
   "outputs": [],
   "source": [
    "\"PMID- 33053381\".split(\"-\")"
   ]
  },
  {
   "cell_type": "code",
   "execution_count": null,
   "id": "e54a1be0-02e5-42f6-88b9-0516a88c232e",
   "metadata": {},
   "outputs": [],
   "source": [
    "with open(\"pubmed-33053381.txt\", 'r') as file:\n",
    "    # Iterate through each line in the file\n",
    "    for line in file:\n",
    "        # Process each line as needed\n",
    "        \n",
    "        "
   ]
  },
  {
   "cell_type": "markdown",
   "id": "82ab6e77-38b2-4ca5-a5a3-cab3125f60fb",
   "metadata": {},
   "source": [
    "## XML\n",
    "Permite almacenar datos de forma compatible entre múltiples sistemas(bases de datos, aplicaciones)\n",
    "\n",
    "- XML es extensible: se puede extender a muchas areas de interés, se pueden crear formatos XML para codificar datos bioinformáticos.\n",
    "- XML provee documentación: debido a que esta estructurado, es facil validar esa estructura\n",
    "- XML se puede leer por humanos y máquinas\n",
    "\n"
   ]
  },
  {
   "cell_type": "code",
   "execution_count": null,
   "id": "b9a34553-421c-402a-b20a-3054a059a313",
   "metadata": {},
   "outputs": [],
   "source": [
    "from xml.dom.minidom import parse, parseString, Node"
   ]
  },
  {
   "cell_type": "markdown",
   "id": "4a7cbb59-491d-434c-abb1-c7df8eddc591",
   "metadata": {},
   "source": [
    "```\n",
    "<?xml version=\"1.0\" encoding=\"UTF-8\"?>\n",
    "<Sequence>\n",
    "    <accession>NM-171533</accession>\n",
    "    <organism>\n",
    "        <name>Caenorhabditis elegans</name>\n",
    "        <description> Is a free-living transparent nematode about 1 mm in length[7] \n",
    "        that lives in temperate soil environments.</description>\n",
    "    </organism>\n",
    "    <sequence-data>\n",
    "    agcacatgacatgagcagtgccccaaatgatgactgtgagatcgacaaggg\n",
    "    aacaccttctaccgcttcactttttacaacgctgatgctcagtcaaccatcttcttct\n",
    "    acagctgttttacagtgtacatattgtggaagctcgtgcacatcttcccaattgca\n",
    "    aacatgtttattctg\n",
    "    </sequence-data>\n",
    "</Sequence>\n",
    "```\n",
    "\n",
    "<img src=\"xml.png\">"
   ]
  },
  {
   "cell_type": "markdown",
   "id": "83623a31-8427-466e-b472-55c88e165bd2",
   "metadata": {},
   "source": [
    "Documentacion oficial (https://docs.python.org/3/library/xml.dom.html#dom-element-objects)"
   ]
  },
  {
   "cell_type": "code",
   "execution_count": null,
   "id": "5f8bef5a-f828-4121-8c38-8fe38efebf60",
   "metadata": {},
   "outputs": [],
   "source": [
    "document = parse(\"caenorhabditis_elegans.xml\")"
   ]
  },
  {
   "cell_type": "code",
   "execution_count": null,
   "id": "e43c423d-4cce-4ce5-a74c-912a66cc2d4c",
   "metadata": {},
   "outputs": [],
   "source": [
    "document"
   ]
  },
  {
   "cell_type": "code",
   "execution_count": null,
   "id": "c14b18eb-5f92-4f60-9982-b2dd055c3f64",
   "metadata": {},
   "outputs": [],
   "source": [
    "print(document.version)\n",
    "print(document.encoding)\n",
    "print(document.standalone)"
   ]
  },
  {
   "cell_type": "markdown",
   "id": "9628c6db-84dc-4663-b605-f7fc1fe005f8",
   "metadata": {},
   "source": [
    "### Raiz del documento\n",
    "Utilizamos la propiedad `documentElement` para obtener la raiz de el documento"
   ]
  },
  {
   "cell_type": "code",
   "execution_count": null,
   "id": "f19a2b72-2122-48cf-ae10-b9399670a8a7",
   "metadata": {},
   "outputs": [],
   "source": [
    "document.documentElement"
   ]
  },
  {
   "cell_type": "code",
   "execution_count": null,
   "id": "765cdb14-be05-426c-9f57-10c692d5f35c",
   "metadata": {},
   "outputs": [],
   "source": [
    "document.documentElement.tagName"
   ]
  },
  {
   "cell_type": "markdown",
   "id": "f879859f-6386-4e87-a561-f82e79aa2ee4",
   "metadata": {},
   "source": [
    "Para encontrar un elemento por el nombre del tag utilizamos la función `getelementById`"
   ]
  },
  {
   "cell_type": "code",
   "execution_count": null,
   "id": "60c7b1a5-5872-4e27-ac78-903ec51a66be",
   "metadata": {},
   "outputs": [],
   "source": [
    "sequence = document.documentElement"
   ]
  },
  {
   "cell_type": "code",
   "execution_count": null,
   "id": "4893023a-bd54-430e-a8bb-08f23f1fae7f",
   "metadata": {},
   "outputs": [],
   "source": [
    "for hijo in sequence.childNodes:\n",
    "    print(hijo)"
   ]
  },
  {
   "cell_type": "code",
   "execution_count": null,
   "id": "09acf679-3384-4c56-8ea5-b09cb159692e",
   "metadata": {},
   "outputs": [],
   "source": [
    "organism = sequence.getElementsByTagName(\"organism\")"
   ]
  },
  {
   "cell_type": "code",
   "execution_count": null,
   "id": "8509c2f3-9acd-436e-bf61-b6d197def9af",
   "metadata": {},
   "outputs": [],
   "source": [
    "organism[0].childNodes"
   ]
  },
  {
   "cell_type": "code",
   "execution_count": null,
   "id": "3a39a3fb-ef0f-4870-a7f4-28e9b3256916",
   "metadata": {},
   "outputs": [],
   "source": [
    "for hijo in organism[0].childNodes:\n",
    "    print(hijo)"
   ]
  },
  {
   "cell_type": "code",
   "execution_count": null,
   "id": "492e82e1-6e6b-49d3-878c-ae5b99b607c7",
   "metadata": {},
   "outputs": [],
   "source": [
    "organism[0].attributes"
   ]
  },
  {
   "cell_type": "code",
   "execution_count": null,
   "id": "723c55ba-75a1-4e1d-ace1-20b34d414a99",
   "metadata": {},
   "outputs": [],
   "source": [
    "for hijo in organism[0].childNodes:\n",
    "    if hijo.nodeType == Node.ELEMENT_NODE:\n",
    "        print(hijo.childNodes[0].nodeValue)"
   ]
  },
  {
   "cell_type": "code",
   "execution_count": null,
   "id": "890d055f-fd55-4a14-9cf3-159eccebd63b",
   "metadata": {},
   "outputs": [],
   "source": []
  },
  {
   "cell_type": "code",
   "execution_count": null,
   "id": "0c6f0967-440a-495f-91e9-7575b0bbdecf",
   "metadata": {},
   "outputs": [],
   "source": [
    "#Intalamos nuevas librerias solo correrlo 1 vez\n",
    "!pip install xmltodict"
   ]
  },
  {
   "cell_type": "code",
   "execution_count": null,
   "id": "6c9e974a-02ac-4e4a-8a04-097f831b0f82",
   "metadata": {},
   "outputs": [],
   "source": [
    "import xmltodict"
   ]
  },
  {
   "cell_type": "code",
   "execution_count": null,
   "id": "23ccf977-9a15-43da-a353-26e5410dd2ca",
   "metadata": {},
   "outputs": [],
   "source": [
    "with open(\"caenorhabditis_elegans.xml\", \"rb\") as file:\n",
    "    Sequence=xmltodict.parse(file)"
   ]
  },
  {
   "cell_type": "code",
   "execution_count": null,
   "id": "1fb296d9-0b63-4c63-a323-3b93e3f90b46",
   "metadata": {},
   "outputs": [],
   "source": [
    "print(Sequence)"
   ]
  },
  {
   "cell_type": "code",
   "execution_count": null,
   "id": "a64ee12b-0e0a-43a2-b52e-df5719b00849",
   "metadata": {},
   "outputs": [],
   "source": [
    "Sequence['Sequence']['organism']['name']"
   ]
  },
  {
   "cell_type": "code",
   "execution_count": null,
   "id": "7b8d21cb-e290-4d0a-900a-4c402ec07c1e",
   "metadata": {},
   "outputs": [],
   "source": [
    "Sequence.items()"
   ]
  },
  {
   "cell_type": "markdown",
   "id": "97111374-4988-4de2-9a1b-db20f345a584",
   "metadata": {},
   "source": [
    "**Ejercicio**: Imprimir el nombre y la descripción utilizado el diccionario\n",
    "Investigar la funcion items del diccionario(esto viene en el examen!!)"
   ]
  },
  {
   "cell_type": "code",
   "execution_count": null,
   "id": "7df7571b-f15c-4817-abc9-16dcc8ab11ff",
   "metadata": {},
   "outputs": [],
   "source": [
    "## Tu codigo aqui: \n",
    "for key, valor in Sequence[\"Sequence\"].items():\n",
    "    if type(valor) == dict:\n",
    "        for k, v in valor.items():\n",
    "            print(key+\"-->\"+k+\"-->\"+str(v))\n",
    "    else:\n",
    "        print(key+\"-->\"+str(valor))"
   ]
  },
  {
   "cell_type": "code",
   "execution_count": null,
   "id": "a0dee584-57ed-44e2-ac7c-fb1ea67a5c96",
   "metadata": {},
   "outputs": [],
   "source": [
    "type(Sequence)"
   ]
  },
  {
   "cell_type": "markdown",
   "id": "e0ec76aa-6398-4d0a-b025-45a0ecbd3170",
   "metadata": {},
   "source": [
    "## JSON \n",
    "- Es muy comprensible para el humano por su formato\n",
    "- Es tan fácil de comprender que se describe solo debido a su formato\n",
    "- Los archivos JSON tienen tipos de datos:\n",
    "    - String\n",
    "    - Number\n",
    "    - Boolean\n",
    "    - Null\n",
    "    - Object\n",
    "    - Array\n"
   ]
  },
  {
   "cell_type": "code",
   "execution_count": null,
   "id": "551b4c42-fcf8-44d2-af85-a9cb4a8baeae",
   "metadata": {},
   "outputs": [],
   "source": [
    "import json"
   ]
  },
  {
   "cell_type": "code",
   "execution_count": null,
   "id": "db2e4e74-24ee-447b-9f8a-241ffec805d7",
   "metadata": {},
   "outputs": [],
   "source": [
    "data = {\n",
    "    \"nombre\": \"bioinformatica\",\n",
    "    \"hora_inicio\": 7,\n",
    "    \"hora_fin\": 10\n",
    "}"
   ]
  },
  {
   "cell_type": "code",
   "execution_count": null,
   "id": "b7b8c5e6-cdb3-4cdb-ba03-c7be597400da",
   "metadata": {},
   "outputs": [],
   "source": [
    "with open(\"data_file.json\", \"w\") as write_file:\n",
    "    json.dump(data, write_file)"
   ]
  },
  {
   "cell_type": "code",
   "execution_count": null,
   "id": "816db2af-79e4-459d-ae5b-190f30a25f2a",
   "metadata": {},
   "outputs": [],
   "source": [
    "### Cargando un archivo\n",
    "with open(\"caenorhabditis_elegans.json\", \"r\") as read_file:\n",
    "    data = json.load(read_file)\n",
    "    \n",
    "print(data)"
   ]
  },
  {
   "cell_type": "code",
   "execution_count": null,
   "id": "4cfeedb2-a7ff-4078-a32e-6b81238cdf30",
   "metadata": {},
   "outputs": [],
   "source": []
  },
  {
   "cell_type": "markdown",
   "id": "8e6ca3a9-8049-478b-af89-6754477bb04f",
   "metadata": {},
   "source": [
    "## CSV (Comma-Separated Values)\n",
    "Para los archivos CSV vamos a utilizar pandas ya que es la forma mas facil de manejar este tipo de datos.\n",
    "\n",
    "Es importante leer la documentacion de pandas con respecto a esta función ya que tiene multiples parametros.\n",
    "[pandas documentation](https://pandas.pydata.org/docs/reference/api/pandas.read_csv.html)"
   ]
  },
  {
   "cell_type": "code",
   "execution_count": null,
   "id": "8c11f15b-ae05-44cb-a1bf-8ac52d656d0c",
   "metadata": {},
   "outputs": [],
   "source": [
    "import pandas as pd"
   ]
  },
  {
   "cell_type": "code",
   "execution_count": null,
   "id": "2f041581-f5c9-46fe-bf6e-cc19d5038b07",
   "metadata": {},
   "outputs": [],
   "source": [
    "covid_vacunacion = pd.read_csv(\"country_vaccinations.csv\")"
   ]
  },
  {
   "cell_type": "code",
   "execution_count": null,
   "id": "9d243097-c26a-430f-8aea-1b07d6acd2e8",
   "metadata": {},
   "outputs": [],
   "source": [
    "covid_vacunacion.head(10)"
   ]
  },
  {
   "cell_type": "code",
   "execution_count": null,
   "id": "4a5a8d96-e011-43d6-b519-d83fb523df6e",
   "metadata": {},
   "outputs": [],
   "source": [
    "covid_vacunacion.info()"
   ]
  },
  {
   "cell_type": "code",
   "execution_count": null,
   "id": "45ffec8d-885d-4f95-84d0-63f32b06ac45",
   "metadata": {},
   "outputs": [],
   "source": [
    "covid_vacunacion.describe()"
   ]
  },
  {
   "cell_type": "code",
   "execution_count": null,
   "id": "1eb0db47-51ef-4a65-a8c1-e39b03c29514",
   "metadata": {},
   "outputs": [],
   "source": []
  },
  {
   "cell_type": "markdown",
   "id": "6cae636f-7c85-4a6b-b3b7-fa121b60fabd",
   "metadata": {},
   "source": [
    "**Ejercicio** El archivo `diabetes2.csv` no tiene un header, se encuentra unicamente la data, hay que cargar el archivo y utilizar la lista `columnas`, ver en la documentacion, que parametros utilizar para cargar la data correctamente:"
   ]
  },
  {
   "cell_type": "code",
   "execution_count": null,
   "id": "3957fdfe-55b8-476a-87e5-281bd90c4c9f",
   "metadata": {},
   "outputs": [],
   "source": [
    "columnas = [\"Pregnancies\",\"Glucose\",\"BloodPressure\",\"SkinThickness\",\n",
    "            \"Insulin\",\"BMI\",\"DiabetesPedigreeFunction\",\"Age\",\"Outcome\"]"
   ]
  },
  {
   "cell_type": "code",
   "execution_count": null,
   "id": "fc021e4a-a550-4577-ac9f-62de25bc568d",
   "metadata": {},
   "outputs": [],
   "source": [
    "import pandas as pd"
   ]
  },
  {
   "cell_type": "code",
   "execution_count": null,
   "id": "4c4727f7-83d0-4625-8f43-8c486f8cabaa",
   "metadata": {},
   "outputs": [],
   "source": [
    "## Tu codigo aqui: \n",
    "data = pd.read_csv(\"diabetes2.csv\", header=None, names=columnas)"
   ]
  },
  {
   "cell_type": "code",
   "execution_count": null,
   "id": "0513f550-b79c-4627-9262-5d65d95caf36",
   "metadata": {},
   "outputs": [],
   "source": [
    "data"
   ]
  },
  {
   "cell_type": "code",
   "execution_count": null,
   "id": "60d1ed89-4776-4fac-b726-7cac327d339a",
   "metadata": {},
   "outputs": [],
   "source": []
  },
  {
   "cell_type": "code",
   "execution_count": null,
   "id": "77b96be2-9cd0-4bd2-ab44-a7b043cc82c2",
   "metadata": {},
   "outputs": [],
   "source": []
  }
 ],
 "metadata": {
  "kernelspec": {
   "display_name": "Python 3 (ipykernel)",
   "language": "python",
   "name": "python3"
  },
  "language_info": {
   "codemirror_mode": {
    "name": "ipython",
    "version": 3
   },
   "file_extension": ".py",
   "mimetype": "text/x-python",
   "name": "python",
   "nbconvert_exporter": "python",
   "pygments_lexer": "ipython3",
   "version": "3.11.7"
  }
 },
 "nbformat": 4,
 "nbformat_minor": 5
}
