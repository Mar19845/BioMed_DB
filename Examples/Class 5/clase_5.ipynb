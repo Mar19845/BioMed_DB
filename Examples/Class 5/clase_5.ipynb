{
 "cells": [
  {
   "cell_type": "markdown",
   "id": "1956591f-7f7c-44ce-8af4-be7e566547e8",
   "metadata": {},
   "source": [
    "# Clase 5"
   ]
  },
  {
   "cell_type": "markdown",
   "id": "704e06ac-0516-4b66-bb48-5c95cb26e319",
   "metadata": {},
   "source": [
    "### Python f-strings"
   ]
  },
  {
   "cell_type": "markdown",
   "id": "8170de99-55da-4a65-9ea7-faf7e55eb4b7",
   "metadata": {},
   "source": [
    "#### str.format()"
   ]
  },
  {
   "cell_type": "code",
   "execution_count": null,
   "id": "f7f66087-8cee-4645-86a2-78715f974498",
   "metadata": {},
   "outputs": [],
   "source": [
    "nombre=\"Erick\"\n",
    "edad=31\n",
    "\"Hola, me llamo {} y tengo {} años\".format(nombre, edad)"
   ]
  },
  {
   "cell_type": "code",
   "execution_count": null,
   "id": "f6eb33d0-9e0a-481f-9d4d-448f46d2a5ce",
   "metadata": {},
   "outputs": [],
   "source": [
    "\"Hola, me llamo {1} y tengo {0} años\".format(edad, nombre)"
   ]
  },
  {
   "cell_type": "markdown",
   "id": "7d7ba3e0-d174-4c0b-b397-b90b5da4c914",
   "metadata": {},
   "source": [
    "#### f-Strings (formatted string literals)\n",
    "Son Strings que inician con una f y las expresiones adentro de `{` `}` seran reemplazadas por su valor."
   ]
  },
  {
   "cell_type": "code",
   "execution_count": null,
   "id": "0207cc39-e33d-4095-927e-e5a080ad8a4c",
   "metadata": {},
   "outputs": [],
   "source": [
    "## definir el f-string\n",
    "f\"Hola, me llamo {nombre} y tengo {edad} años\""
   ]
  },
  {
   "cell_type": "code",
   "execution_count": null,
   "id": "7d552689-ed40-47db-923a-83878926f7bd",
   "metadata": {},
   "outputs": [],
   "source": [
    "## Aplicar la funcion upper del string"
   ]
  },
  {
   "cell_type": "code",
   "execution_count": null,
   "id": "632793b5-a6d6-41a3-9d19-7f9810623bef",
   "metadata": {},
   "outputs": [],
   "source": [
    "f\"Hola, me llamo {nombre.upper()} y tengo {edad+1} años\""
   ]
  },
  {
   "cell_type": "code",
   "execution_count": null,
   "id": "d38204ea-6ddb-4a70-8bce-0a2621e5f22b",
   "metadata": {},
   "outputs": [],
   "source": []
  },
  {
   "cell_type": "markdown",
   "id": "055485eb-e6e8-4227-9823-de1be6fddeff",
   "metadata": {},
   "source": [
    "# API en Python"
   ]
  },
  {
   "cell_type": "markdown",
   "id": "d7151b79-f153-43f6-bc53-5e179682ed11",
   "metadata": {},
   "source": [
    "### Libreria [requests](https://requests.readthedocs.io/en/latest/)\n",
    "Requests is an elegant and simple HTTP library for Python, built for human beings."
   ]
  },
  {
   "cell_type": "code",
   "execution_count": null,
   "id": "2c85a722-9947-43bc-83ba-adb2d39a8659",
   "metadata": {},
   "outputs": [],
   "source": [
    "import requests, sys"
   ]
  },
  {
   "cell_type": "code",
   "execution_count": null,
   "id": "b8a52d10-a370-4a9c-a4f0-422b33cca53f",
   "metadata": {},
   "outputs": [],
   "source": [
    "server = \"https://rest.ensembl.org\"\n",
    "ext = \"/archive/id/ENSG00000157764?\"\n",
    " \n",
    "r = requests.get(server+ext, headers={ \"Content-Type\" : \"application/json\"})"
   ]
  },
  {
   "cell_type": "code",
   "execution_count": null,
   "id": "6ee9cd99-53b0-43d5-8c15-0e0b89d61ee3",
   "metadata": {},
   "outputs": [],
   "source": [
    "type(r)"
   ]
  },
  {
   "cell_type": "code",
   "execution_count": null,
   "id": "a6c8b461-02af-407b-890a-e410aa7a33f3",
   "metadata": {},
   "outputs": [],
   "source": [
    "r.status_code"
   ]
  },
  {
   "cell_type": "code",
   "execution_count": null,
   "id": "a3df6362-181b-4407-884a-14ab50ac2c52",
   "metadata": {},
   "outputs": [],
   "source": [
    "response = r.json()\n",
    "response"
   ]
  },
  {
   "cell_type": "code",
   "execution_count": null,
   "id": "48790216-1fab-4299-a66e-5e614be9a83e",
   "metadata": {},
   "outputs": [],
   "source": [
    "r.headers"
   ]
  },
  {
   "cell_type": "code",
   "execution_count": null,
   "id": "ef1b5b4c-8c34-4c43-b40e-ac165e6b1f34",
   "metadata": {},
   "outputs": [],
   "source": [
    "for key, value in response.items() :\n",
    "    print(f\"-  {key} : {value}\")"
   ]
  },
  {
   "cell_type": "code",
   "execution_count": null,
   "id": "892b1f18-b070-48ed-8070-5561b2ab0663",
   "metadata": {},
   "outputs": [],
   "source": []
  },
  {
   "cell_type": "markdown",
   "id": "0ae3a55b-c161-433f-92e6-e0d1bbe360a8",
   "metadata": {},
   "source": [
    "##### Ejercicio: \n",
    "Crear una funcion llamada `make_api_request` que reciba como parametros el servidor y el endpoint y retorne la respues en json\n"
   ]
  },
  {
   "cell_type": "code",
   "execution_count": null,
   "id": "4b901f1f-4f05-40c1-8711-21d52d2780a3",
   "metadata": {},
   "outputs": [],
   "source": [
    "def make_api_request(server, endpoint):\n",
    "    r = requests......\n",
    "    \n",
    "    print(f\"Status code: {r.status_code}\")\n",
    "    \n",
    "    ## Validar es estatus de la respuesta\n",
    "    if ...\n",
    "    \n",
    "    ## Retornar el json\n",
    "    return r.json()"
   ]
  },
  {
   "cell_type": "code",
   "execution_count": null,
   "id": "5185e750-eda5-4c80-9ee8-82c0ac907b1b",
   "metadata": {},
   "outputs": [],
   "source": []
  },
  {
   "cell_type": "markdown",
   "id": "d9762598-7003-43af-b47c-d1806e0c5f22",
   "metadata": {},
   "source": [
    "### [GET taxonomy/id/:id](https://rest.ensembl.org/documentation/info/taxonomy_id)\n",
    "Search for a taxonomic term by its identifier or name"
   ]
  },
  {
   "cell_type": "markdown",
   "id": "97532b2d-7228-4fce-aa64-993ee1b6b1ca",
   "metadata": {},
   "source": [
    "Creamos una funcion para reutilizar el codigo de llamada a los endpoints"
   ]
  },
  {
   "cell_type": "code",
   "execution_count": null,
   "id": "8d96d9c0-17e0-4ab4-a411-2992cf5ab0de",
   "metadata": {},
   "outputs": [],
   "source": [
    "server = \"https://rest.ensembl.org\"\n",
    "busqueda = \"Homo sapiens\"\n",
    "endpoint = f\"/taxonomy/id/{busqueda}?\""
   ]
  },
  {
   "cell_type": "code",
   "execution_count": null,
   "id": "11588491-e706-4312-9a3e-271cf388f484",
   "metadata": {},
   "outputs": [],
   "source": [
    "respuesta = make_api_request(server, endpoint)\n",
    "print(respuesta)"
   ]
  },
  {
   "cell_type": "code",
   "execution_count": null,
   "id": "8c8f4902-1415-4219-86f2-c5badedcab4e",
   "metadata": {},
   "outputs": [],
   "source": []
  },
  {
   "cell_type": "markdown",
   "id": "3a7673fe-96ee-4f0d-b2ab-869a7c47e389",
   "metadata": {},
   "source": [
    "**Ejercicio** : Encontrar al *Canis lupus familiaris* en el objeto hijos del request si enviamos al endpint el request *Canis Lupus*.\n",
    "Encontrar el id de *Canis lupus familiaris*"
   ]
  },
  {
   "cell_type": "code",
   "execution_count": null,
   "id": "8a60986a-2be7-41e6-b04e-c23e46806daf",
   "metadata": {},
   "outputs": [],
   "source": [
    "server = \"https://rest.ensembl.org\"\n",
    "busqueda = \"Canis Lupus\"\n",
    "endpoint = f\"/taxonomy/id/{busqueda}?\""
   ]
  },
  {
   "cell_type": "code",
   "execution_count": null,
   "id": "dd84ae2f-eb40-48e1-b61a-00f5da23c120",
   "metadata": {},
   "outputs": [],
   "source": [
    "respuesta = make_api_request(server, endpoint)\n",
    "print(respuesta)"
   ]
  },
  {
   "cell_type": "code",
   "execution_count": null,
   "id": "f7c6f303-dfc3-4f70-82a7-bb72ea68f243",
   "metadata": {},
   "outputs": [],
   "source": [
    "respuesta['children'][1]"
   ]
  },
  {
   "cell_type": "code",
   "execution_count": null,
   "id": "13efdf01-4475-4643-8c87-cb7b67fb5023",
   "metadata": {},
   "outputs": [],
   "source": [
    "### Tu codigo aqui\n",
    "for hijo in respuesta['children']:\n",
    "    ....."
   ]
  },
  {
   "cell_type": "markdown",
   "id": "0df1f9a6-21af-4590-8e13-e5c0d58f38fe",
   "metadata": {},
   "source": [
    "**Ejercicio** : Una vez encontramos el *Canis lupus familiaris* hacer un request a un nuevo endpoint pero esta vez por el id\n",
    "\n",
    "Nuevo Endpoint a llamar:\n",
    "\n",
    "[GET taxonomy/classification/:id](https://rest.ensembl.org/documentation/info/taxonomy_classification)"
   ]
  },
  {
   "cell_type": "code",
   "execution_count": null,
   "id": "4c5d0985-a586-498c-b6cd-470b477dd92d",
   "metadata": {},
   "outputs": [],
   "source": [
    "server = \"https://rest.ensembl.org\"\n",
    "id1 = \"9616\"\n",
    "endpoint = f\"/taxonomy/classification/{id1}\"\n",
    "respuesta = make_api_request(server, endpoint)\n",
    "print(respuesta)"
   ]
  },
  {
   "cell_type": "code",
   "execution_count": null,
   "id": "0e01b0de-7f89-4a6a-a3fd-d5b7402d9579",
   "metadata": {},
   "outputs": [],
   "source": []
  }
 ],
 "metadata": {
  "kernelspec": {
   "display_name": "Python 3 (ipykernel)",
   "language": "python",
   "name": "python3"
  },
  "language_info": {
   "codemirror_mode": {
    "name": "ipython",
    "version": 3
   },
   "file_extension": ".py",
   "mimetype": "text/x-python",
   "name": "python",
   "nbconvert_exporter": "python",
   "pygments_lexer": "ipython3",
   "version": "3.11.7"
  }
 },
 "nbformat": 4,
 "nbformat_minor": 5
}
