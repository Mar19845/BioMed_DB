{
 "cells": [
  {
   "cell_type": "markdown",
   "id": "4b1fdb9a-a94a-4165-92c2-92773945d901",
   "metadata": {},
   "source": [
    "# Clase 3"
   ]
  },
  {
   "cell_type": "markdown",
   "id": "cdbc2420-ec7d-49c9-abea-714314eb8784",
   "metadata": {},
   "source": [
    "## Funciones"
   ]
  },
  {
   "cell_type": "code",
   "execution_count": 1,
   "id": "17c48a8d-3588-49e3-968c-c8c0e8f3dd1e",
   "metadata": {},
   "outputs": [],
   "source": [
    "complementos = {\n",
    "    \"a\":\"t\",\n",
    "    \"c\":\"g\"\n",
    "}"
   ]
  },
  {
   "cell_type": "markdown",
   "id": "624b07d1-fba6-4f4c-885c-490e16e43b3c",
   "metadata": {},
   "source": [
    "**Ejercicio:** definir una funcion que encuentre el la llave de un diccionario segun su valor\n",
    "que tenga un argumento requerido llamdo `val` otro parametro que se llame `dic` y un argumento llamado `def_key` que tenga valor `None`por defecto y se utilice para retornar este valor si no existe la llave."
   ]
  },
  {
   "cell_type": "code",
   "execution_count": 127,
   "id": "2d3244dc-5e9b-4ead-8fc6-aaab35f70581",
   "metadata": {},
   "outputs": [
    {
     "data": {
      "text/plain": [
       "dict_items([('a', 't'), ('c', 'g')])"
      ]
     },
     "execution_count": 127,
     "metadata": {},
     "output_type": "execute_result"
    }
   ],
   "source": [
    "complementos.items()"
   ]
  },
  {
   "cell_type": "code",
   "execution_count": 122,
   "id": "2023b840-77c9-416b-9cd3-efc0afa7bf95",
   "metadata": {},
   "outputs": [],
   "source": [
    "def get_key(val, dic, def_key=None):\n",
    "    for key, valor in dic.items():\n",
    "        if valor == val:\n",
    "            return key\n",
    "    return def_key\n"
   ]
  },
  {
   "cell_type": "code",
   "execution_count": 123,
   "id": "be9d6911-9731-40e6-9b3b-2b69d2649e7f",
   "metadata": {},
   "outputs": [
    {
     "data": {
      "text/plain": [
       "'c'"
      ]
     },
     "execution_count": 123,
     "metadata": {},
     "output_type": "execute_result"
    }
   ],
   "source": [
    "get_key(\"g\", complementos)"
   ]
  },
  {
   "cell_type": "code",
   "execution_count": 125,
   "id": "7f78e138-5242-414b-a776-e51b40156d62",
   "metadata": {},
   "outputs": [
    {
     "data": {
      "text/plain": [
       "'t'"
      ]
     },
     "execution_count": 125,
     "metadata": {},
     "output_type": "execute_result"
    }
   ],
   "source": [
    "get_key(\"u\", complementos, def_key=\"t\")"
   ]
  },
  {
   "cell_type": "markdown",
   "id": "7b4b9591-3a26-4713-9089-15626b4663a2",
   "metadata": {},
   "source": [
    "#### Agumentos posicionales"
   ]
  },
  {
   "cell_type": "code",
   "execution_count": 34,
   "id": "1dff9036-c089-4795-8da6-2fe6f2693036",
   "metadata": {},
   "outputs": [],
   "source": [
    "def funcion2(a,b,c):\n",
    "    print(a,b,c)"
   ]
  },
  {
   "cell_type": "code",
   "execution_count": 35,
   "id": "57c29d5d-76c5-4950-9ec3-6b25f8a19ed5",
   "metadata": {},
   "outputs": [
    {
     "name": "stdout",
     "output_type": "stream",
     "text": [
      "3 2 1\n"
     ]
    }
   ],
   "source": [
    "funcion2(c=1,a=3,b=2)"
   ]
  },
  {
   "cell_type": "code",
   "execution_count": 36,
   "id": "9a8c0c00-cf3c-4b7b-87a8-40e1a5c641ea",
   "metadata": {},
   "outputs": [
    {
     "name": "stdout",
     "output_type": "stream",
     "text": [
      "3 2 1\n"
     ]
    }
   ],
   "source": [
    "funcion2(3,2,1)"
   ]
  },
  {
   "cell_type": "markdown",
   "id": "51d10add-2c3b-44df-b9df-0338eeab40fc",
   "metadata": {},
   "source": [
    "Ejemplo de multiples argumentos"
   ]
  },
  {
   "cell_type": "code",
   "execution_count": 60,
   "id": "a4710a17-d82d-4e39-a356-e926c73ade48",
   "metadata": {},
   "outputs": [],
   "source": [
    "def nombre_func(conteo, val=\"a\"):\n",
    "    print(conteo)\n",
    "    print(val)"
   ]
  },
  {
   "cell_type": "code",
   "execution_count": 65,
   "id": "7b092840-34c3-42f8-b8b3-ab25fdf2e69c",
   "metadata": {},
   "outputs": [
    {
     "name": "stdout",
     "output_type": "stream",
     "text": [
      "1\n",
      "asdf\n"
     ]
    }
   ],
   "source": [
    "nombre_func(1, val=\"asdf\")"
   ]
  },
  {
   "cell_type": "code",
   "execution_count": 77,
   "id": "02c33306-9715-4983-9427-4b13a9944e0c",
   "metadata": {},
   "outputs": [],
   "source": [
    "def multiple_args(*numeros, val):\n",
    "    print(val)\n",
    "    for n in numeros:\n",
    "        print(n)"
   ]
  },
  {
   "cell_type": "code",
   "execution_count": 75,
   "id": "c6d39dc5-3032-46c3-bffd-d8e10f049f04",
   "metadata": {},
   "outputs": [
    {
     "name": "stdout",
     "output_type": "stream",
     "text": [
      "1\n"
     ]
    }
   ],
   "source": [
    "multiple_args(1)"
   ]
  },
  {
   "cell_type": "code",
   "execution_count": 81,
   "id": "d556732d-75b2-4ba8-b428-c5eac74c4a14",
   "metadata": {},
   "outputs": [
    {
     "name": "stdout",
     "output_type": "stream",
     "text": [
      "a\n",
      "1\n",
      "3\n",
      "4\n",
      "5\n",
      "7\n",
      "34\n",
      "43\n",
      "434\n",
      "3\n",
      "asd\n",
      "2\n",
      "3\n",
      "4\n"
     ]
    }
   ],
   "source": [
    "multiple_args(1,3,4,5,7,34,43,434,3,\"asd\",2,3,4, val=\"a\" )"
   ]
  },
  {
   "cell_type": "code",
   "execution_count": 30,
   "id": "4eecc73f-57ce-4834-9b9e-3bf2cd1b2f72",
   "metadata": {},
   "outputs": [],
   "source": [
    "def multiple_args(*numeros,  arg1, arg2=\"\"):\n",
    "    print(\"Numeros:\")\n",
    "    for n in numeros:\n",
    "        print(n)\n",
    "    print(arg1)\n",
    "    print(arg2)\n",
    "    "
   ]
  },
  {
   "cell_type": "code",
   "execution_count": 31,
   "id": "73d81f62-c288-45c2-95e8-fc44d3c88b51",
   "metadata": {},
   "outputs": [
    {
     "name": "stdout",
     "output_type": "stream",
     "text": [
      "Numeros:\n",
      "1\n",
      "3\n",
      "4\n",
      "5\n",
      "7\n",
      "abc\n",
      "sda\n"
     ]
    }
   ],
   "source": [
    "multiple_args(1,3,4,5,7, arg1=\"abc\", arg2=\"sda\")"
   ]
  },
  {
   "cell_type": "code",
   "execution_count": 32,
   "id": "ec196952-70ca-4b20-89a4-2b01313d89a3",
   "metadata": {},
   "outputs": [
    {
     "name": "stdout",
     "output_type": "stream",
     "text": [
      "Numeros:\n",
      "1\n",
      "3\n",
      "4\n",
      "5\n",
      "7\n",
      "abc\n",
      "\n"
     ]
    }
   ],
   "source": [
    "multiple_args(1,3,4,5,7, arg1 =\"abc\")"
   ]
  },
  {
   "cell_type": "markdown",
   "id": "fb5db9e4-781b-4ab7-ad07-ca80072d6f58",
   "metadata": {},
   "source": [
    "## Imports"
   ]
  },
  {
   "cell_type": "code",
   "execution_count": 92,
   "id": "264c3977-edec-48b2-85dd-13485f4f150e",
   "metadata": {},
   "outputs": [],
   "source": [
    "import math"
   ]
  },
  {
   "cell_type": "code",
   "execution_count": 93,
   "id": "a0301c4a-af82-470a-9fc6-c47e14fc51e7",
   "metadata": {},
   "outputs": [
    {
     "data": {
      "text/plain": [
       "3.141592653589793"
      ]
     },
     "execution_count": 93,
     "metadata": {},
     "output_type": "execute_result"
    }
   ],
   "source": [
    "math.pi"
   ]
  },
  {
   "cell_type": "code",
   "execution_count": 94,
   "id": "65610b67-7e34-4d45-a896-b2dfc4f55154",
   "metadata": {},
   "outputs": [
    {
     "data": {
      "text/plain": [
       "3.141592653589793"
      ]
     },
     "execution_count": 94,
     "metadata": {},
     "output_type": "execute_result"
    }
   ],
   "source": [
    "from math import pi\n",
    "pi"
   ]
  },
  {
   "cell_type": "code",
   "execution_count": 95,
   "id": "4747b8b9-1c26-4bd0-9718-0cff15d82d5a",
   "metadata": {},
   "outputs": [
    {
     "data": {
      "text/plain": [
       "3.141592653589793"
      ]
     },
     "execution_count": 95,
     "metadata": {},
     "output_type": "execute_result"
    }
   ],
   "source": [
    "pi"
   ]
  },
  {
   "cell_type": "code",
   "execution_count": 96,
   "id": "f8ffca4f-6ba3-4d2f-a9a1-268091ec8ad8",
   "metadata": {},
   "outputs": [
    {
     "data": {
      "text/plain": [
       "3.141592653589793"
      ]
     },
     "execution_count": 96,
     "metadata": {},
     "output_type": "execute_result"
    }
   ],
   "source": [
    "import math as m\n",
    "m.pi"
   ]
  },
  {
   "cell_type": "code",
   "execution_count": 97,
   "id": "a2308f8d-a605-4ee5-ad7c-3feb49d314f9",
   "metadata": {},
   "outputs": [],
   "source": [
    "from math import pi as p"
   ]
  },
  {
   "cell_type": "code",
   "execution_count": 98,
   "id": "6986841b-60ca-42e3-9f57-a5ffb4452854",
   "metadata": {},
   "outputs": [
    {
     "data": {
      "text/plain": [
       "3.141592653589793"
      ]
     },
     "execution_count": 98,
     "metadata": {},
     "output_type": "execute_result"
    }
   ],
   "source": [
    "p"
   ]
  },
  {
   "cell_type": "markdown",
   "id": "6c04d631-91f6-4d02-b3a1-7bec467dae83",
   "metadata": {},
   "source": [
    "# NumPy\n",
    "\n",
    "\n",
    "* Su nombre se deriva de Numeric Python\n",
    "* Es una libreria amplia:   user guide de casi 200 pagina, reference manual mas de 1500\n",
    "    * np. <tab> para ver opciones\n",
    "    * np.lookfor? , help(np.lookfor)\n",
    "    * np.lookfor(“cosine”)\n",
    "    * np.cos? , help(np.cos)\n",
    "* Paquete fundamental de computación científica en Python y base para otros paquetes mas específicos y/o avanzados\n",
    "* Performance superior, parecido a lenguajes compilados con la facilidad de Python\n",
    "* ndarrays :  tipo básico de objeto, corresponde al tipo de objeto matemático conocido como Tensor\n",
    "    * Arreglos multidimensionales\n",
    "    * Mutables como las listas\n",
    "    * Podemos hacer indexing y slicing sobre ellos\n",
    "\n",
    "* Tipo de dato y tamaño fijado en creación lo cual le permite aplicar optimizaciones: El usar el mismo tipo y tamaño definido permite asegurar que todos los objetos utilizan el mismo tamaño de memoria y esto permite realizar muchas operaciones pre-compiladas de C. Esto permite realizar operaciones mucho mas efcientemente y con menos código que con listas.\n",
    "\n",
    "\n",
    "    \n",
    "### ¿NumPy mas que algebra lineal?\n",
    "\n",
    "Aun que NumPy se basa mucho y es muy útil para algebra lineal y estructuras de esta rama, también es útil para realizar otros tipos de operaciones numéricas y es la base  para otros paquetes mas específicos , por ejemplo podemos usar NumPy también para:\n",
    "\n",
    "* Numeros aleatorios: NumPy provee capacidades para trabajar con números aleatorios y colecciones de esto, por ejemplo generación de numeros aleatorios de muchas distribuciones de probabiliad(muestreo/sampleo) escencial en estadística y modelación y simulación.\n",
    "* Estadistica descriptiva\n",
    "* Scipy: paquete basado en Python que extiende muchas de sus capacidades con capacidades adicionales como:\n",
    "    * Integración y solución de ecuaciones diferenciales.\n",
    "    * Encontrar raices de funciones y optimización numérica.\n",
    "    * Algebra lineal adicional."
   ]
  },
  {
   "cell_type": "markdown",
   "id": "a55fdddb-fa45-4285-8d08-de4046ad3837",
   "metadata": {},
   "source": [
    "<img src=\"https://cdn-images-1.medium.com/max/1600/1*pUr-9ctuGamgjSwoW_KU-A.png\">\n",
    "\n",
    "\n",
    "\n",
    "<img src=\"https://cdn-images-1.medium.com/max/2000/1*_D5ZvufDS38WkhK9rK32hQ.jpeg\">"
   ]
  },
  {
   "cell_type": "markdown",
   "id": "bf15869e-cfae-44f4-8598-6e6a1da70339",
   "metadata": {},
   "source": [
    "### Importamos Numpy"
   ]
  },
  {
   "cell_type": "code",
   "execution_count": 4,
   "id": "09080c80-04ce-45d7-b218-656ff329ea35",
   "metadata": {},
   "outputs": [],
   "source": [
    "import numpy as np"
   ]
  },
  {
   "cell_type": "markdown",
   "id": "6720d1bb-f229-4de3-bc51-df2cb1f00d1a",
   "metadata": {},
   "source": [
    "## Rango y dimensión \n",
    "\n",
    "Como dijimos, ya que vectores y matrices son Tensores, necesitamos una característica que los distinga, esto es matemáticamente el **rango** del Tensor , en el mundo de NumPy obtenemos esto al usar la característica **ndim** sobre un Tensor dado.\n",
    "\n",
    "Si pensamos en la representación gráfica podemos pensar que el rango nos indica cuantos \"ejes\" posee el espacio sobre el que se define el tensor ,y necesitamos un número por cada eje para especificar cierto vector,  desde la perspectiva de la colección de números esto nos indica cuantos indices necesitamos para especificar o acceder cierto punto.\n",
    "\n",
    "La dimensión o forma del tensor nos indica cuantos elementos este puede almacenar distribuidas en cada uno de sus \"ejes\".\n",
    "\n",
    "Para vectores, el rango  es 1, y la dimensión es cuantos elementos el vector posee. \n",
    "\n",
    "Resumen\n",
    "* ndim = entero indicando el rango de un tensor(cuantos ejes posee)\n",
    "* shape = tupla indicando la forma(cuantos elementos posee el tensor en cada uno de sus ejes)"
   ]
  },
  {
   "cell_type": "code",
   "execution_count": 5,
   "id": "95ae59c8-042e-4e40-8005-b0d42407580b",
   "metadata": {},
   "outputs": [],
   "source": [
    "x = np.array([1,2,3,4,5,6])"
   ]
  },
  {
   "cell_type": "code",
   "execution_count": 6,
   "id": "b3647aea-cca5-4e96-be37-2ba7df806a29",
   "metadata": {},
   "outputs": [
    {
     "data": {
      "text/plain": [
       "array([1, 2, 3, 4, 5, 6])"
      ]
     },
     "execution_count": 6,
     "metadata": {},
     "output_type": "execute_result"
    }
   ],
   "source": [
    "x"
   ]
  },
  {
   "cell_type": "code",
   "execution_count": 7,
   "id": "aea402a7-59c7-4fc3-ad30-cf90039cb7fd",
   "metadata": {},
   "outputs": [
    {
     "name": "stdout",
     "output_type": "stream",
     "text": [
      "1\n",
      "6\n",
      "(6,)\n",
      "1\n"
     ]
    }
   ],
   "source": [
    "print(x.ndim)\n",
    "print(len(x))\n",
    "print(x.shape)\n",
    "print(len(x.shape)) #forma de obtener el rango del tensor a partir de su dimension"
   ]
  },
  {
   "cell_type": "code",
   "execution_count": 8,
   "id": "4a3fcc46-2251-402f-b45b-d8ce84f747fc",
   "metadata": {},
   "outputs": [
    {
     "name": "stdout",
     "output_type": "stream",
     "text": [
      "[[1 2 3]\n",
      " [4 5 6]]\n"
     ]
    }
   ],
   "source": [
    "x = np.array([[1,2,3],\n",
    "              [4,5,6]])\n",
    "print(x)"
   ]
  },
  {
   "cell_type": "code",
   "execution_count": 9,
   "id": "c61ef05a-3fbd-4b24-9d9f-a09b03ebf225",
   "metadata": {},
   "outputs": [
    {
     "name": "stdout",
     "output_type": "stream",
     "text": [
      "2\n",
      "(2, 3)\n",
      "2\n"
     ]
    }
   ],
   "source": [
    "\n",
    "\n",
    "print(x.ndim)\n",
    "print(x.shape)\n",
    "print(len(x.shape))  #forma de obtener el rango del tensor a partir de su dimension"
   ]
  },
  {
   "cell_type": "markdown",
   "id": "a760fc5a-e8c4-40a8-9802-7b86aef79ab4",
   "metadata": {},
   "source": [
    "**Ejercicio**: Usar los valores de shape para imprimir lo siguiente\n",
    "```\n",
    "Filas de x: 2\n",
    "Columnas de x: 3\n",
    "```"
   ]
  },
  {
   "cell_type": "code",
   "execution_count": 6,
   "id": "9f1c2107-d426-4377-b6a1-33d688f1447b",
   "metadata": {
    "colab": {
     "base_uri": "https://localhost:8080/"
    },
    "executionInfo": {
     "elapsed": 26,
     "status": "ok",
     "timestamp": 1646703264861,
     "user": {
      "displayName": "Luis Fernando Leal Hernandez",
      "photoUrl": "https://lh3.googleusercontent.com/a/default-user=s64",
      "userId": "08643725771405988586"
     },
     "user_tz": 360
    },
    "id": "2n7AZvVPaxse",
    "outputId": "c1fa27eb-4d6d-44e6-bec3-66b75e12fec0"
   },
   "outputs": [
    {
     "name": "stdout",
     "output_type": "stream",
     "text": [
      "Filas de x: 2\n",
      "Columnas de x: 3\n"
     ]
    }
   ],
   "source": []
  },
  {
   "cell_type": "code",
   "execution_count": null,
   "id": "804a9651-a979-4b1a-abe3-39dcf0e28d6e",
   "metadata": {},
   "outputs": [],
   "source": []
  },
  {
   "cell_type": "markdown",
   "id": "3080be41-f8f3-4ce3-bcba-b20fbdaea92d",
   "metadata": {},
   "source": [
    "### Numpy vrs Python Lists"
   ]
  },
  {
   "cell_type": "code",
   "execution_count": 39,
   "id": "1425e8a1-49ba-4aac-a4d2-8f2c6cd1d68a",
   "metadata": {},
   "outputs": [],
   "source": [
    "import time"
   ]
  },
  {
   "cell_type": "code",
   "execution_count": 45,
   "id": "fb0a49d5-1c9a-4672-b104-418267bed132",
   "metadata": {},
   "outputs": [
    {
     "name": "stdout",
     "output_type": "stream",
     "text": [
      "0.851032018661499 seconds\n"
     ]
    }
   ],
   "source": [
    "\n",
    "a = list(range(10000000))\n",
    "b = []\n",
    "starttime = time.time()\n",
    "for i in range(len(a)):\n",
    "    b.append(a[i]+1)\n",
    "\n",
    "print(time.time()-starttime, \"seconds\")"
   ]
  },
  {
   "cell_type": "code",
   "execution_count": 46,
   "id": "266ea50c-6901-4769-a5c1-d80314cf7836",
   "metadata": {},
   "outputs": [
    {
     "name": "stdout",
     "output_type": "stream",
     "text": [
      "0.09107851982116699 seconds\n"
     ]
    }
   ],
   "source": [
    "a = np.array(a)\n",
    "starttime = time.time()\n",
    "b = a + 1\n",
    "print(time.time()-starttime, \"seconds\")"
   ]
  },
  {
   "cell_type": "markdown",
   "id": "7655157f-fa3e-46f3-978c-ff324447b9f1",
   "metadata": {
    "id": "3DHU14Znaxsf"
   },
   "source": [
    "### Constructores de vectores\n",
    "\n",
    "NumPy provee diversas formas para crear o construir vectores, por ejemplo:\n",
    "* np.linspace\n",
    "* np.array\n",
    "* np.arange\n",
    "* np.zeros\n",
    "* np.ones\n",
    "\n",
    "Existen otras pero estas son posiblemente las mas comunes. Puedes consultar las otras disponibles en: https://docs.scipy.org/doc/numpy/reference/routines.array-creation.html"
   ]
  },
  {
   "cell_type": "code",
   "execution_count": 106,
   "id": "e3dc0b56-e2cd-4573-a917-9a3b03e0a7ae",
   "metadata": {
    "colab": {
     "base_uri": "https://localhost:8080/"
    },
    "executionInfo": {
     "elapsed": 23,
     "status": "ok",
     "timestamp": 1646703264861,
     "user": {
      "displayName": "Luis Fernando Leal Hernandez",
      "photoUrl": "https://lh3.googleusercontent.com/a/default-user=s64",
      "userId": "08643725771405988586"
     },
     "user_tz": 360
    },
    "id": "YLLOwO1qaxsg",
    "outputId": "703fe811-e9cd-4059-9314-76f6a4569b0b"
   },
   "outputs": [
    {
     "name": "stdout",
     "output_type": "stream",
     "text": [
      "[0.         0.10204082 0.20408163 0.30612245 0.40816327 0.51020408\n",
      " 0.6122449  0.71428571 0.81632653 0.91836735 1.02040816 1.12244898\n",
      " 1.2244898  1.32653061 1.42857143 1.53061224 1.63265306 1.73469388\n",
      " 1.83673469 1.93877551 2.04081633 2.14285714 2.24489796 2.34693878\n",
      " 2.44897959 2.55102041 2.65306122 2.75510204 2.85714286 2.95918367\n",
      " 3.06122449 3.16326531 3.26530612 3.36734694 3.46938776 3.57142857\n",
      " 3.67346939 3.7755102  3.87755102 3.97959184 4.08163265 4.18367347\n",
      " 4.28571429 4.3877551  4.48979592 4.59183673 4.69387755 4.79591837\n",
      " 4.89795918 5.        ]\n"
     ]
    }
   ],
   "source": [
    "x = np.linspace(0,5,50,endpoint=True,retstep=False)\n",
    "\n",
    "print(x)"
   ]
  },
  {
   "cell_type": "code",
   "execution_count": 107,
   "id": "e1774f1d-fb06-4db4-a9d9-9141a5dbc523",
   "metadata": {
    "colab": {
     "base_uri": "https://localhost:8080/"
    },
    "executionInfo": {
     "elapsed": 19,
     "status": "ok",
     "timestamp": 1646703264862,
     "user": {
      "displayName": "Luis Fernando Leal Hernandez",
      "photoUrl": "https://lh3.googleusercontent.com/a/default-user=s64",
      "userId": "08643725771405988586"
     },
     "user_tz": 360
    },
    "id": "Ni_Pq3h5axsh",
    "outputId": "c0599afa-523d-4d37-ae79-46301c9c1247"
   },
   "outputs": [
    {
     "data": {
      "text/plain": [
       "array([0. , 0.1, 0.2, 0.3, 0.4, 0.5, 0.6, 0.7, 0.8, 0.9, 1. , 1.1, 1.2,\n",
       "       1.3, 1.4, 1.5, 1.6, 1.7, 1.8, 1.9, 2. , 2.1, 2.2, 2.3, 2.4, 2.5,\n",
       "       2.6, 2.7, 2.8, 2.9, 3. , 3.1, 3.2, 3.3, 3.4, 3.5, 3.6, 3.7, 3.8,\n",
       "       3.9, 4. , 4.1, 4.2, 4.3, 4.4, 4.5, 4.6, 4.7, 4.8, 4.9])"
      ]
     },
     "execution_count": 107,
     "metadata": {},
     "output_type": "execute_result"
    }
   ],
   "source": [
    "x = np.linspace(0,5,50,endpoint=False,retstep=False)\n",
    "\n",
    "x\n"
   ]
  },
  {
   "cell_type": "code",
   "execution_count": 108,
   "id": "aa138526-3082-4ab5-bee8-9790a29ada62",
   "metadata": {
    "colab": {
     "base_uri": "https://localhost:8080/"
    },
    "executionInfo": {
     "elapsed": 15,
     "status": "ok",
     "timestamp": 1646703264862,
     "user": {
      "displayName": "Luis Fernando Leal Hernandez",
      "photoUrl": "https://lh3.googleusercontent.com/a/default-user=s64",
      "userId": "08643725771405988586"
     },
     "user_tz": 360
    },
    "id": "eDCHx4Dtaxsi",
    "outputId": "dea41675-30bc-4357-edcf-3499661c3b93"
   },
   "outputs": [
    {
     "name": "stdout",
     "output_type": "stream",
     "text": [
      "[0.         0.10204082 0.20408163 0.30612245 0.40816327 0.51020408\n",
      " 0.6122449  0.71428571 0.81632653 0.91836735 1.02040816 1.12244898\n",
      " 1.2244898  1.32653061 1.42857143 1.53061224 1.63265306 1.73469388\n",
      " 1.83673469 1.93877551 2.04081633 2.14285714 2.24489796 2.34693878\n",
      " 2.44897959 2.55102041 2.65306122 2.75510204 2.85714286 2.95918367\n",
      " 3.06122449 3.16326531 3.26530612 3.36734694 3.46938776 3.57142857\n",
      " 3.67346939 3.7755102  3.87755102 3.97959184 4.08163265 4.18367347\n",
      " 4.28571429 4.3877551  4.48979592 4.59183673 4.69387755 4.79591837\n",
      " 4.89795918 5.        ]\n",
      "0.10204081632653061\n",
      "(50,)\n",
      "1\n"
     ]
    }
   ],
   "source": [
    "arreglo, paso = np.linspace(0,5,50,endpoint=True,retstep=True)\n",
    "\n",
    "print(arreglo)\n",
    "print(paso)\n",
    "print(arreglo.shape)\n",
    "print(arreglo.ndim)"
   ]
  },
  {
   "cell_type": "markdown",
   "id": "911d6037-b29b-4468-9ae6-34fc660f5f0e",
   "metadata": {},
   "source": [
    "**Ejercicio**: Generar un arreglo de numpy utilizando linespace, con 50 muestras"
   ]
  },
  {
   "cell_type": "code",
   "execution_count": 17,
   "id": "6c181a33-85dd-4820-bb02-0354ddf6bddf",
   "metadata": {
    "colab": {
     "base_uri": "https://localhost:8080/"
    },
    "executionInfo": {
     "elapsed": 13,
     "status": "ok",
     "timestamp": 1646703264863,
     "user": {
      "displayName": "Luis Fernando Leal Hernandez",
      "photoUrl": "https://lh3.googleusercontent.com/a/default-user=s64",
      "userId": "08643725771405988586"
     },
     "user_tz": 360
    },
    "id": "yLquVN5Daxsk",
    "outputId": "ac578fa8-3eb8-4338-9f6f-79b1b5823c65"
   },
   "outputs": [
    {
     "data": {
      "text/plain": [
       "array([0.        , 0.10204082, 0.20408163, 0.30612245, 0.40816327,\n",
       "       0.51020408, 0.6122449 , 0.71428571, 0.81632653, 0.91836735,\n",
       "       1.02040816, 1.12244898, 1.2244898 , 1.32653061, 1.42857143,\n",
       "       1.53061224, 1.63265306, 1.73469388, 1.83673469, 1.93877551,\n",
       "       2.04081633, 2.14285714, 2.24489796, 2.34693878, 2.44897959,\n",
       "       2.55102041, 2.65306122, 2.75510204, 2.85714286, 2.95918367,\n",
       "       3.06122449, 3.16326531, 3.26530612, 3.36734694, 3.46938776,\n",
       "       3.57142857, 3.67346939, 3.7755102 , 3.87755102, 3.97959184,\n",
       "       4.08163265, 4.18367347, 4.28571429, 4.3877551 , 4.48979592,\n",
       "       4.59183673, 4.69387755, 4.79591837, 4.89795918, 5.        ])"
      ]
     },
     "execution_count": 17,
     "metadata": {},
     "output_type": "execute_result"
    }
   ],
   "source": [
    "x = np.linspace()\n",
    "\n",
    "print(x)"
   ]
  },
  {
   "cell_type": "code",
   "execution_count": 10,
   "id": "4f3a3447-0672-46d1-8d1c-0bc44d188d4b",
   "metadata": {
    "colab": {
     "base_uri": "https://localhost:8080/",
     "height": 265
    },
    "executionInfo": {
     "elapsed": 437,
     "status": "ok",
     "timestamp": 1646703265291,
     "user": {
      "displayName": "Luis Fernando Leal Hernandez",
      "photoUrl": "https://lh3.googleusercontent.com/a/default-user=s64",
      "userId": "08643725771405988586"
     },
     "user_tz": 360
    },
    "id": "Ozn0bwT3Howi",
    "outputId": "b865444a-94c9-4ac9-a716-8c05db537643"
   },
   "outputs": [
    {
     "data": {
      "image/png": "[encoded data removed]",
      "text/plain": [
       "<Figure size 432x288 with 1 Axes>"
      ]
     },
     "metadata": {
      "needs_background": "light"
     },
     "output_type": "display_data"
    }
   ],
   "source": [
    "import matplotlib.pyplot as plt\n",
    "\n",
    "x = np.linspace(0,100,100)\n",
    "y = np.square(x)\n",
    "\n",
    "plt.plot(x,y)\n",
    "plt.show()"
   ]
  },
  {
   "cell_type": "markdown",
   "id": "ff2f7eb2-4527-40ae-8d8b-f7169b791a08",
   "metadata": {
    "id": "-h22TCegaxsl"
   },
   "source": [
    "**np.arange**\n",
    "Esta función es parecida a la función **range** que vimos en ciclos, pero genera un vector de NumPy que puede ser utilizdo en otras expresiones o ser asignado a variables para posterior uso.\n",
    "```\n",
    "arange(start=0,stop,step = 1,dtype=None) \n",
    "```\n",
    "Intenta determinar el tipo de datos a partir de los parametros pero se puede sobreescribir si lo especificamos con dtype"
   ]
  },
  {
   "cell_type": "code",
   "execution_count": 11,
   "id": "6cc2d86d-f0a6-42c2-805d-c26d853f9f02",
   "metadata": {
    "colab": {
     "base_uri": "https://localhost:8080/"
    },
    "executionInfo": {
     "elapsed": 36,
     "status": "ok",
     "timestamp": 1646703265293,
     "user": {
      "displayName": "Luis Fernando Leal Hernandez",
      "photoUrl": "https://lh3.googleusercontent.com/a/default-user=s64",
      "userId": "08643725771405988586"
     },
     "user_tz": 360
    },
    "id": "DKibpfubaxsm",
    "outputId": "7fee9f38-04d2-4ec3-99f1-f2468f6cc5ae"
   },
   "outputs": [
    {
     "data": {
      "text/plain": [
       "(array([1, 2, 3, 4, 5, 6, 7, 8, 9]), array([2., 3., 4., 5., 6., 7., 8., 9.]))"
      ]
     },
     "execution_count": 11,
     "metadata": {},
     "output_type": "execute_result"
    }
   ],
   "source": [
    "yo = np.arange(1,10)\n",
    "yoc = np.arange(2,10,dtype = float)\n",
    "\n",
    "yo,yoc"
   ]
  },
  {
   "cell_type": "code",
   "execution_count": null,
   "id": "bfd1687a-40d2-424d-9874-33a45e28749e",
   "metadata": {},
   "outputs": [],
   "source": [
    "x = numpy.array([[1,2,3],[4,5,6]], dtype=float)"
   ]
  },
  {
   "cell_type": "markdown",
   "id": "6f4be75f-0491-4ff8-a690-274e0a7ab2fd",
   "metadata": {
    "id": "qMJYHKXgaxsp"
   },
   "source": [
    "En muchos casos es útil crear vectores inicializados con 0s o 1s ,o bien cuando no nos importa su valor inicial podemos especificar que sean creados  como vácios.\n",
    "\n",
    "Esto lo logramos con:\n",
    "* np.zeros\n",
    "* np.ones\n",
    "* np.empty"
   ]
  },
  {
   "cell_type": "code",
   "execution_count": 12,
   "id": "42174a9f-f623-4157-b3ed-62d905705d18",
   "metadata": {
    "colab": {
     "base_uri": "https://localhost:8080/"
    },
    "executionInfo": {
     "elapsed": 32,
     "status": "ok",
     "timestamp": 1646703265295,
     "user": {
      "displayName": "Luis Fernando Leal Hernandez",
      "photoUrl": "https://lh3.googleusercontent.com/a/default-user=s64",
      "userId": "08643725771405988586"
     },
     "user_tz": 360
    },
    "id": "4bJnYejKaxsq",
    "outputId": "98798978-d90b-4698-e359-347c646c5dfc"
   },
   "outputs": [
    {
     "data": {
      "text/plain": [
       "array([0, 0, 0, 0, 0])"
      ]
     },
     "execution_count": 12,
     "metadata": {},
     "output_type": "execute_result"
    }
   ],
   "source": [
    "np.array([0,0,0,0,0])"
   ]
  },
  {
   "cell_type": "code",
   "execution_count": 13,
   "id": "96b856d1-1a00-4ff1-87d3-b798ed46c8cc",
   "metadata": {
    "colab": {
     "base_uri": "https://localhost:8080/"
    },
    "executionInfo": {
     "elapsed": 31,
     "status": "ok",
     "timestamp": 1646703265297,
     "user": {
      "displayName": "Luis Fernando Leal Hernandez",
      "photoUrl": "https://lh3.googleusercontent.com/a/default-user=s64",
      "userId": "08643725771405988586"
     },
     "user_tz": 360
    },
    "id": "osqRN6jnaxsr",
    "outputId": "2d07d666-fb15-42bf-b1ca-1b55e73ea175"
   },
   "outputs": [
    {
     "data": {
      "text/plain": [
       "array([0., 0., 0., 0., 0.])"
      ]
     },
     "execution_count": 13,
     "metadata": {},
     "output_type": "execute_result"
    }
   ],
   "source": [
    "np.zeros(5) # proyecto"
   ]
  },
  {
   "cell_type": "code",
   "execution_count": 14,
   "id": "00c22282-139d-49b0-84a8-fec7ea0452b7",
   "metadata": {
    "colab": {
     "base_uri": "https://localhost:8080/"
    },
    "executionInfo": {
     "elapsed": 29,
     "status": "ok",
     "timestamp": 1646703265298,
     "user": {
      "displayName": "Luis Fernando Leal Hernandez",
      "photoUrl": "https://lh3.googleusercontent.com/a/default-user=s64",
      "userId": "08643725771405988586"
     },
     "user_tz": 360
    },
    "id": "wR_k8Vu_axst",
    "outputId": "83fcfb56-277f-409b-8268-a8debccf375b"
   },
   "outputs": [
    {
     "data": {
      "text/plain": [
       "array([1., 1., 1., 1., 1.])"
      ]
     },
     "execution_count": 14,
     "metadata": {},
     "output_type": "execute_result"
    }
   ],
   "source": [
    "np.ones(5)"
   ]
  },
  {
   "cell_type": "code",
   "execution_count": 112,
   "id": "cc8f7dc4-cc3f-444f-a424-53143b2d46bc",
   "metadata": {
    "colab": {
     "base_uri": "https://localhost:8080/"
    },
    "executionInfo": {
     "elapsed": 25,
     "status": "ok",
     "timestamp": 1646703265298,
     "user": {
      "displayName": "Luis Fernando Leal Hernandez",
      "photoUrl": "https://lh3.googleusercontent.com/a/default-user=s64",
      "userId": "08643725771405988586"
     },
     "user_tz": 360
    },
    "id": "taujSBaTaxsv",
    "outputId": "f07592ce-27ba-4e47-b955-b4b64aa4668c"
   },
   "outputs": [
    {
     "data": {
      "text/plain": [
       "array([       30123473,               0,               0, 139696787417200])"
      ]
     },
     "execution_count": 112,
     "metadata": {},
     "output_type": "execute_result"
    }
   ],
   "source": [
    "np.empty(4, int)  # el valor varia, experimentemos cambiando el tipo con ndtype = <tipo>"
   ]
  },
  {
   "cell_type": "markdown",
   "id": "190e39ec-18bd-44e3-9688-03e1e909bf0f",
   "metadata": {
    "id": "zPiWm8vlaxsw"
   },
   "source": [
    "**Vectores a partir de datos existentes**\n",
    "Podemos también construir vectores  a partir de datos existentes(por ejempro listas de números, u otros vectores)  o bien especificar explicitamente con que valores queremos que un vector sea creado.\n",
    "\n",
    "Esto lo logramos basicamente con 2 funciones(nuevamente existen otras a explorar):\n",
    "\n",
    "* np.array\n",
    "* np.copy"
   ]
  },
  {
   "cell_type": "code",
   "execution_count": 113,
   "id": "a5471c4b-986c-4d02-8fc9-ea443e2632e8",
   "metadata": {
    "colab": {
     "base_uri": "https://localhost:8080/"
    },
    "executionInfo": {
     "elapsed": 21,
     "status": "ok",
     "timestamp": 1646703265299,
     "user": {
      "displayName": "Luis Fernando Leal Hernandez",
      "photoUrl": "https://lh3.googleusercontent.com/a/default-user=s64",
      "userId": "08643725771405988586"
     },
     "user_tz": 360
    },
    "id": "E8HIEKTEaxsy",
    "outputId": "93b0ce1b-1edf-478a-dbf1-7738b2b1462f"
   },
   "outputs": [
    {
     "data": {
      "text/plain": [
       "array([2., 3., 4.])"
      ]
     },
     "execution_count": 113,
     "metadata": {},
     "output_type": "execute_result"
    }
   ],
   "source": [
    "lista = [2,3,4.0]\n",
    "\n",
    "x = np.array(lista)\n",
    "\n",
    "x "
   ]
  },
  {
   "cell_type": "markdown",
   "id": "06f599b6-7cc8-4435-a883-86acf538384e",
   "metadata": {},
   "source": [
    "### Aritmética Basica con Arreglos"
   ]
  },
  {
   "cell_type": "code",
   "execution_count": 37,
   "id": "f228c088-043a-4696-963c-7da26c99885c",
   "metadata": {},
   "outputs": [
    {
     "name": "stdout",
     "output_type": "stream",
     "text": [
      "[1.   1.75 2.5  3.25 4.  ]\n",
      "[0.    0.375 1.    1.875 3.   ]\n",
      "[0.         0.16666667 0.25       0.3        0.33333333]\n"
     ]
    }
   ],
   "source": [
    "a = np.linspace(0, 1, 5)\n",
    "c = np.linspace(1, 3, 5)\n",
    "print(a+c)\n",
    "print(a*c)\n",
    "print(a/c)"
   ]
  },
  {
   "cell_type": "code",
   "execution_count": null,
   "id": "e4908638-8b25-42b7-bffd-a72e8a462807",
   "metadata": {},
   "outputs": [],
   "source": [
    "a = np.ones(4, dtype=int)\n",
    "b = np.linspace(0, 1, 4)\n",
    "a += b"
   ]
  },
  {
   "cell_type": "code",
   "execution_count": null,
   "id": "5d5b2d60-058d-4c30-96d7-7f426cf9e662",
   "metadata": {},
   "outputs": [],
   "source": [
    "a = np.linspace(0, 1, 5)\n",
    "print(a *2)\n",
    "print(a**2)\n",
    "print(a/2)"
   ]
  },
  {
   "cell_type": "markdown",
   "id": "f0472741-7e64-444c-a7fa-11408a151d7f",
   "metadata": {
    "id": "mggBAMXWaxtU"
   },
   "source": [
    "### ufuncs(universal functions)\n",
    "\n",
    "Ufuncs son funciones que trabajan de manera general independiente de la dimension del objeto al que sean aplicadas, esto significa que la misma función puede ser utilizada sobre valores **escalares**  o sobre **tensores** de cualquier dimensión. , cuando es aplicada sobre tensores esta trabaja elemento por elemento soportando \"broadcasting\" .\n",
    "\n",
    "NumPy provee una gran colección de ufuncs comunes en ciencias y que serán muy útiles en data science, ya hemos usado algunas por ejemplo: **np.sin(tensor)** , muchas comunes y que te serán familares son:\n",
    "\n",
    "* np.sign: determinar el signo de un número\n",
    "* np.abs: valor absoluto de un número\n",
    "* np.cos: coseno de un angulo en radianes\n",
    "* np.sin : seno de un angulo en radianes\n",
    "* np.tan : tangente de un angulo en radianes\n",
    "* np.exp : función exponencial e** x\n",
    "* np.log: logaritmo natural\n",
    "* np.log10 : logaritmo base 10\n",
    "* np.log2 : logaritmo base 2\n",
    "* np.sqrt : raiz cuadrada\n",
    "* np.power : potenciacion\n",
    "\n",
    "Al trabajar una aplicación numérica/científica es recomendable tener a la mano la documentación de las funciones disponibles : https://docs.scipy.org/doc/numpy-1.15.1/reference/routines.math.html\n",
    "\n",
    "#### Nota: \n",
    "En algunos casos requeriremos crear nuestras propias funciones y es recomendable que se apeguen a las ufuncs, es decir que se puedan aplicar independiente de la dimensión del objeto al que se aplican, que soporten broadcasting y muy importante **que su definición evite ciclos y use operaciones vectorizadas y otras ufuncs** , esto será parte de los criterios de evaluación en tareas y exámenes en este curso."
   ]
  },
  {
   "cell_type": "code",
   "execution_count": 44,
   "id": "f432bc1e-4454-478c-81c8-92aecc3f6c50",
   "metadata": {
    "colab": {
     "base_uri": "https://localhost:8080/"
    },
    "executionInfo": {
     "elapsed": 84,
     "status": "ok",
     "timestamp": 1646703266999,
     "user": {
      "displayName": "Luis Fernando Leal Hernandez",
      "photoUrl": "https://lh3.googleusercontent.com/a/default-user=s64",
      "userId": "08643725771405988586"
     },
     "user_tz": 360
    },
    "id": "TdLbj7_NaxtX",
    "outputId": "75f0fc56-d2e5-48a9-aba0-c7c0fac4b74b"
   },
   "outputs": [
    {
     "name": "stdout",
     "output_type": "stream",
     "text": [
      "[-1. -1.  0.  1.  1.  1.]\n",
      "[  5.3   1.    0.    1.5  10.  100. ]\n",
      "[ 0.55437434  0.54030231  1.          0.0707372  -0.83907153  0.86231887]\n",
      "[ 0.83226744 -0.84147098  0.          0.99749499 -0.54402111 -0.50636564]\n",
      "[ 1.5012734  -1.55740772  0.         14.10141995  0.64836083 -0.58721392]\n",
      "[4.99159391e-03 3.67879441e-01 1.00000000e+00 4.48168907e+00\n",
      " 2.20264658e+04 2.68811714e+43]\n",
      "6\n"
     ]
    }
   ],
   "source": [
    "x = np.array([-5.3,-1,0,1.5,10,100])\n",
    "\n",
    "print(np.sign(x))\n",
    "print(np.abs(x))\n",
    "print(np.cos(x))\n",
    "print(np.sin(x))\n",
    "print(np.tan(x))\n",
    "print(np.exp(x))\n",
    "print(len(x))"
   ]
  },
  {
   "cell_type": "code",
   "execution_count": null,
   "id": "b4576e3a-a85c-41f9-8bd2-a24ee314c662",
   "metadata": {},
   "outputs": [],
   "source": []
  },
  {
   "cell_type": "markdown",
   "id": "d1476fbf-046e-467b-a0f3-a0b2ede00fb1",
   "metadata": {
    "id": "Nzg9gVdoaxtj",
    "tags": []
   },
   "source": [
    "### Funciones miscelaneas(agregación y estadistica descriptiva básica) \n",
    "\n",
    "Ya hemos trabajado algunas funciones de NumPy pero han sido funciones \"elementwise\" cuyo vector resultante tiene el mismo tamaño que el vector de entrada, existen muchas otras funciones que utilizamos en casos en los que necesitamos agregar,resumir cierto vector,incluyendo en este tipo de funciones algunas de estadistica descriptiva básica."
   ]
  },
  {
   "cell_type": "code",
   "execution_count": 114,
   "id": "db9c9979-6422-465e-87ed-80a7e657b80c",
   "metadata": {
    "executionInfo": {
     "elapsed": 409,
     "status": "ok",
     "timestamp": 1646703267389,
     "user": {
      "displayName": "Luis Fernando Leal Hernandez",
      "photoUrl": "https://lh3.googleusercontent.com/a/default-user=s64",
      "userId": "08643725771405988586"
     },
     "user_tz": 360
    },
    "id": "yieQlOmRaxtk"
   },
   "outputs": [],
   "source": [
    "x = np.array([1,2,3,4,5,6,7,8,9,2,2])\n",
    "x_nan = np.array([1,2,3,4,np.nan,6,8,2,2])"
   ]
  },
  {
   "cell_type": "code",
   "execution_count": 115,
   "id": "7f0797ac-ba53-41fe-899a-51c96c55ca84",
   "metadata": {
    "colab": {
     "base_uri": "https://localhost:8080/"
    },
    "executionInfo": {
     "elapsed": 103,
     "status": "ok",
     "timestamp": 1646703267390,
     "user": {
      "displayName": "Luis Fernando Leal Hernandez",
      "photoUrl": "https://lh3.googleusercontent.com/a/default-user=s64",
      "userId": "08643725771405988586"
     },
     "user_tz": 360
    },
    "id": "Qb8Lrr_Aaxtk",
    "outputId": "f8daaa08-57aa-4488-b817-3d9cbc23790d"
   },
   "outputs": [
    {
     "name": "stdout",
     "output_type": "stream",
     "text": [
      "9\n",
      "9\n",
      "nan\n",
      "9\n",
      "8.0\n"
     ]
    }
   ],
   "source": [
    "#nanmax ignora valores nan si existieran , max retorna nan si el vector tuviera un nan\n",
    "\n",
    "\n",
    "print(np.max(x))\n",
    "print(x.max())\n",
    "print(np.max(x_nan))\n",
    "\n",
    "print(np.nanmax(x))\n",
    "print(np.nanmax(x_nan))"
   ]
  },
  {
   "cell_type": "code",
   "execution_count": 116,
   "id": "1778e86a-ff8a-4f58-8a23-5049ee303491",
   "metadata": {
    "colab": {
     "base_uri": "https://localhost:8080/"
    },
    "executionInfo": {
     "elapsed": 91,
     "status": "ok",
     "timestamp": 1646703267391,
     "user": {
      "displayName": "Luis Fernando Leal Hernandez",
      "photoUrl": "https://lh3.googleusercontent.com/a/default-user=s64",
      "userId": "08643725771405988586"
     },
     "user_tz": 360
    },
    "id": "tGpt63roaxtl",
    "outputId": "88f5cfd9-c93b-49d4-df58-ed5121db95d2"
   },
   "outputs": [
    {
     "name": "stdout",
     "output_type": "stream",
     "text": [
      "8\n",
      "8\n"
     ]
    }
   ],
   "source": [
    "print(np.argmax(x))\n",
    "print(x.argmax())"
   ]
  },
  {
   "cell_type": "code",
   "execution_count": 117,
   "id": "fbfc77bd-c400-4319-afff-b3ffb7a5a27c",
   "metadata": {
    "colab": {
     "base_uri": "https://localhost:8080/"
    },
    "executionInfo": {
     "elapsed": 80,
     "status": "ok",
     "timestamp": 1646703267391,
     "user": {
      "displayName": "Luis Fernando Leal Hernandez",
      "photoUrl": "https://lh3.googleusercontent.com/a/default-user=s64",
      "userId": "08643725771405988586"
     },
     "user_tz": 360
    },
    "id": "TrAFnPNzaxtn",
    "outputId": "a667ca1f-5000-49f1-f1b3-b7561e84703a"
   },
   "outputs": [
    {
     "name": "stdout",
     "output_type": "stream",
     "text": [
      "1\n",
      "1\n",
      "nan\n",
      "1\n",
      "1.0\n"
     ]
    }
   ],
   "source": [
    "print(np.min(x))\n",
    "print(x.min())\n",
    "print(np.min(x_nan))\n",
    "\n",
    "print(np.nanmin(x))\n",
    "print(np.nanmin(x_nan))"
   ]
  },
  {
   "cell_type": "code",
   "execution_count": 119,
   "id": "784a9130-794d-4ac3-b7d5-7a732eb40312",
   "metadata": {
    "colab": {
     "base_uri": "https://localhost:8080/"
    },
    "executionInfo": {
     "elapsed": 74,
     "status": "ok",
     "timestamp": 1646703267393,
     "user": {
      "displayName": "Luis Fernando Leal Hernandez",
      "photoUrl": "https://lh3.googleusercontent.com/a/default-user=s64",
      "userId": "08643725771405988586"
     },
     "user_tz": 360
    },
    "id": "04gNPKimaxto",
    "outputId": "83e9860d-1a85-4dc9-cd05-3a7ff626edaf"
   },
   "outputs": [
    {
     "name": "stdout",
     "output_type": "stream",
     "text": [
      "0\n",
      "1\n"
     ]
    }
   ],
   "source": [
    "print(np.argmin(x))\n",
    "print(x.min())"
   ]
  },
  {
   "cell_type": "code",
   "execution_count": 120,
   "id": "58cf3c32-3d56-47e0-960b-244df44ed679",
   "metadata": {},
   "outputs": [
    {
     "data": {
      "text/plain": [
       "4.454545454545454"
      ]
     },
     "execution_count": 120,
     "metadata": {},
     "output_type": "execute_result"
    }
   ],
   "source": [
    "np.mean(x)"
   ]
  },
  {
   "cell_type": "code",
   "execution_count": 62,
   "id": "cfef56dc-d80a-4c8f-b710-6c8dda699f6f",
   "metadata": {
    "colab": {
     "base_uri": "https://localhost:8080/"
    },
    "executionInfo": {
     "elapsed": 57,
     "status": "ok",
     "timestamp": 1646703267396,
     "user": {
      "displayName": "Luis Fernando Leal Hernandez",
      "photoUrl": "https://lh3.googleusercontent.com/a/default-user=s64",
      "userId": "08643725771405988586"
     },
     "user_tz": 360
    },
    "id": "HsKlSLzXNSQ6",
    "outputId": "dcca2c72-9e8f-47c6-b631-e0127ec44e89"
   },
   "outputs": [
    {
     "data": {
      "text/plain": [
       "1"
      ]
     },
     "execution_count": 62,
     "metadata": {},
     "output_type": "execute_result"
    }
   ],
   "source": [
    "np.argmin(np.array([456,2,100,23]))"
   ]
  },
  {
   "cell_type": "code",
   "execution_count": 63,
   "id": "8d510e94-3d2e-4c41-9ac6-544c1c63500b",
   "metadata": {
    "colab": {
     "base_uri": "https://localhost:8080/"
    },
    "executionInfo": {
     "elapsed": 55,
     "status": "ok",
     "timestamp": 1646703267397,
     "user": {
      "displayName": "Luis Fernando Leal Hernandez",
      "photoUrl": "https://lh3.googleusercontent.com/a/default-user=s64",
      "userId": "08643725771405988586"
     },
     "user_tz": 360
    },
    "id": "FnZAM55TNfbH",
    "outputId": "5c0a6133-8260-42ec-f5db-0d78d0180cd6"
   },
   "outputs": [
    {
     "data": {
      "text/plain": [
       "2"
      ]
     },
     "execution_count": 63,
     "metadata": {},
     "output_type": "execute_result"
    }
   ],
   "source": [
    "np.min(np.array([456,2,100,23]))"
   ]
  },
  {
   "cell_type": "code",
   "execution_count": 64,
   "id": "b7640544-87a6-4035-ba12-81938b525359",
   "metadata": {
    "colab": {
     "base_uri": "https://localhost:8080/"
    },
    "executionInfo": {
     "elapsed": 52,
     "status": "ok",
     "timestamp": 1646703267398,
     "user": {
      "displayName": "Luis Fernando Leal Hernandez",
      "photoUrl": "https://lh3.googleusercontent.com/a/default-user=s64",
      "userId": "08643725771405988586"
     },
     "user_tz": 360
    },
    "id": "N0yvY5U4axtp",
    "outputId": "f67ea1e5-db08-43d1-8b4f-84350593458b"
   },
   "outputs": [
    {
     "name": "stdout",
     "output_type": "stream",
     "text": [
      "49\n",
      "49\n",
      "nan\n"
     ]
    }
   ],
   "source": [
    "print(np.sum(x))\n",
    "print(x.sum())\n",
    "print(np.sum(x_nan))"
   ]
  },
  {
   "cell_type": "code",
   "execution_count": 65,
   "id": "4fe64439-a25d-4d85-b1d7-259f90a803b6",
   "metadata": {
    "colab": {
     "base_uri": "https://localhost:8080/"
    },
    "executionInfo": {
     "elapsed": 50,
     "status": "ok",
     "timestamp": 1646703267399,
     "user": {
      "displayName": "Luis Fernando Leal Hernandez",
      "photoUrl": "https://lh3.googleusercontent.com/a/default-user=s64",
      "userId": "08643725771405988586"
     },
     "user_tz": 360
    },
    "id": "zDuDhNVbaxtr",
    "outputId": "764c714d-92e0-400a-a928-2d808e624a9c"
   },
   "outputs": [
    {
     "name": "stdout",
     "output_type": "stream",
     "text": [
      "1451520\n",
      "1451520\n",
      "nan\n"
     ]
    }
   ],
   "source": [
    "print(np.prod(x))\n",
    "print(x.prod())\n",
    "print(np.prod(x_nan))"
   ]
  },
  {
   "cell_type": "code",
   "execution_count": null,
   "id": "c0b2d106-78c9-42f1-94db-a4cae1442b40",
   "metadata": {},
   "outputs": [],
   "source": []
  },
  {
   "cell_type": "markdown",
   "id": "78388071-301f-422a-839e-989ce3b276bd",
   "metadata": {
    "id": "7NGf_2y5axtu"
   },
   "source": [
    "#### Estadística descriptiva\n",
    "\n",
    "https://docs.scipy.org/doc/numpy-1.15.0/reference/routines.statistics.html"
   ]
  },
  {
   "cell_type": "code",
   "execution_count": 136,
   "id": "69fee94e-5a3d-4c2c-9cfd-93cc5cfac650",
   "metadata": {},
   "outputs": [],
   "source": [
    "x = np.array([1,2,3,4,5,5,7,5,5,5,6,7,8,9,2,6,6,6,6,6,62])\n",
    "x_nan = np.array([1,2,3,4,np.nan,6,8,2,2])"
   ]
  },
  {
   "cell_type": "code",
   "execution_count": 25,
   "id": "76216aac-2355-4792-82fa-143fdebe9c22",
   "metadata": {
    "executionInfo": {
     "elapsed": 26,
     "status": "aborted",
     "timestamp": 1646703267731,
     "user": {
      "displayName": "Luis Fernando Leal Hernandez",
      "photoUrl": "https://lh3.googleusercontent.com/a/default-user=s64",
      "userId": "08643725771405988586"
     },
     "user_tz": 360
    },
    "id": "iQFFYwfPaxtv"
   },
   "outputs": [
    {
     "name": "stdout",
     "output_type": "stream",
     "text": [
      "4.454545454545454\n",
      "nan\n"
     ]
    }
   ],
   "source": [
    "print(np.mean(x))\n",
    "print(x_nan.mean())"
   ]
  },
  {
   "cell_type": "code",
   "execution_count": 26,
   "id": "f0edd427-64be-46d9-8086-127e563b22d7",
   "metadata": {
    "executionInfo": {
     "elapsed": 31,
     "status": "aborted",
     "timestamp": 1646703267736,
     "user": {
      "displayName": "Luis Fernando Leal Hernandez",
      "photoUrl": "https://lh3.googleusercontent.com/a/default-user=s64",
      "userId": "08643725771405988586"
     },
     "user_tz": 360
    },
    "id": "lwAxPhqdL7zX"
   },
   "outputs": [
    {
     "data": {
      "text/plain": [
       "3.5"
      ]
     },
     "execution_count": 26,
     "metadata": {},
     "output_type": "execute_result"
    }
   ],
   "source": [
    "np.nanmean(x_nan)"
   ]
  },
  {
   "cell_type": "code",
   "execution_count": 27,
   "id": "e6a05022-3e18-4d21-86de-4d017d535c8a",
   "metadata": {
    "executionInfo": {
     "elapsed": 32,
     "status": "aborted",
     "timestamp": 1646703267737,
     "user": {
      "displayName": "Luis Fernando Leal Hernandez",
      "photoUrl": "https://lh3.googleusercontent.com/a/default-user=s64",
      "userId": "08643725771405988586"
     },
     "user_tz": 360
    },
    "id": "mS1zTVbFaxtw"
   },
   "outputs": [
    {
     "name": "stdout",
     "output_type": "stream",
     "text": [
      "4.0\n",
      "nan\n"
     ]
    }
   ],
   "source": [
    "print(np.median(x))\n",
    "print(np.median(x_nan))"
   ]
  },
  {
   "cell_type": "code",
   "execution_count": 28,
   "id": "37770587-f8be-4f23-9176-8e7573bbdc04",
   "metadata": {
    "executionInfo": {
     "elapsed": 33,
     "status": "aborted",
     "timestamp": 1646703267738,
     "user": {
      "displayName": "Luis Fernando Leal Hernandez",
      "photoUrl": "https://lh3.googleusercontent.com/a/default-user=s64",
      "userId": "08643725771405988586"
     },
     "user_tz": 360
    },
    "id": "zWK9TMATaxtw"
   },
   "outputs": [
    {
     "name": "stdout",
     "output_type": "stream",
     "text": [
      "2.6064129430602643\n",
      "2.6064129430602643\n"
     ]
    }
   ],
   "source": [
    "print(x.std())\n",
    "print(np.std(x))"
   ]
  },
  {
   "cell_type": "code",
   "execution_count": 29,
   "id": "b8501713-4c15-43d1-88fc-0d2bdf3d7538",
   "metadata": {
    "executionInfo": {
     "elapsed": 35,
     "status": "aborted",
     "timestamp": 1646703267740,
     "user": {
      "displayName": "Luis Fernando Leal Hernandez",
      "photoUrl": "https://lh3.googleusercontent.com/a/default-user=s64",
      "userId": "08643725771405988586"
     },
     "user_tz": 360
    },
    "id": "Dzn4LVTpaxtx"
   },
   "outputs": [
    {
     "name": "stdout",
     "output_type": "stream",
     "text": [
      "6.793388429752068\n",
      "6.793388429752068\n"
     ]
    }
   ],
   "source": [
    "print(x.var())\n",
    "print(np.var(x))"
   ]
  },
  {
   "cell_type": "markdown",
   "id": "9895be05-3075-4db1-a2fe-46f470e02863",
   "metadata": {
    "id": "Fn081ds-axty"
   },
   "source": [
    "**Ejercicio** Usando argmax crear una función mode(x) para calcular la moda de un vector x , esta función debe devolver una tupla de 2 elementos de la forma:\n",
    "\n",
    "(valor,conteo)\n",
    "\n",
    "**tip** investigar y auxiliarse de otras funciones de numpy y np.argmax, no olvidar trabajar todo vectorizado, sin ciclos."
   ]
  },
  {
   "cell_type": "code",
   "execution_count": 138,
   "id": "3c8a3cae-482e-4410-8012-900d7faa752e",
   "metadata": {
    "executionInfo": {
     "elapsed": 35,
     "status": "aborted",
     "timestamp": 1646703267741,
     "user": {
      "displayName": "Luis Fernando Leal Hernandez",
      "photoUrl": "https://lh3.googleusercontent.com/a/default-user=s64",
      "userId": "08643725771405988586"
     },
     "user_tz": 360
    },
    "id": "W0Y0-ZZ-axty"
   },
   "outputs": [
    {
     "name": "stdout",
     "output_type": "stream",
     "text": [
      "5\n"
     ]
    }
   ],
   "source": [
    "def mode(x):\n",
    "    ## tu codigo aqui (~ 3 lineas de codigo):\n",
    "    vector, conteos = np.unique(x, return_counts=True)\n",
    "    i = np.argmax(conteos)\n",
    "    return x[i]\n",
    "    \n",
    "print(mode(x))"
   ]
  },
  {
   "cell_type": "code",
   "execution_count": 139,
   "id": "75a31058-b4fb-419b-a850-fe79fb1f0653",
   "metadata": {},
   "outputs": [
    {
     "data": {
      "text/plain": [
       "(array([ 1,  2,  3,  4,  5,  6,  7,  8,  9, 62]),\n",
       " array([1, 2, 1, 1, 5, 6, 2, 1, 1, 1]))"
      ]
     },
     "execution_count": 139,
     "metadata": {},
     "output_type": "execute_result"
    }
   ],
   "source": [
    "np.unique(x, return_counts=True)"
   ]
  },
  {
   "cell_type": "markdown",
   "id": "81918f04-c899-4323-9542-ff6c97ab07d0",
   "metadata": {},
   "source": [
    "### Calcular la composition de aminoacidos de una secuencia de proteinas"
   ]
  },
  {
   "cell_type": "code",
   "execution_count": 13,
   "id": "39c80679-2d98-4ff7-8e39-593adbf3960e",
   "metadata": {},
   "outputs": [
    {
     "name": "stdout",
     "output_type": "stream",
     "text": [
      "['C' 'E' 'K' 'L' 'M' 'S']\n",
      "[1 1 1 1 1 1]\n"
     ]
    }
   ],
   "source": [
    "\n",
    "protein_sequence = np.array(list(\"MCKLSE\"))\n",
    "amino_acid_counts = np.unique(protein_sequence, return_counts=True)\n",
    "print(amino_acid_counts[0])\n",
    "print(amino_acid_counts[1])"
   ]
  },
  {
   "cell_type": "markdown",
   "id": "49203385-17ba-4300-a197-0cf95cacbc6f",
   "metadata": {},
   "source": [
    "#### Tupla en python\n",
    "Las tuplas en Python son un tipo o estructura de datos que permite almacenar datos de una manera muy parecida a las listas\n",
    "la funcion `zip()` en python toma objetos iterables y los agega en una tupla"
   ]
  },
  {
   "cell_type": "code",
   "execution_count": 15,
   "id": "aeb0f814-a96f-4b1d-953b-a7fb74ba0f94",
   "metadata": {},
   "outputs": [
    {
     "data": {
      "text/plain": [
       "{'C': 1, 'E': 1, 'K': 1, 'L': 1, 'M': 1, 'S': 1}"
      ]
     },
     "execution_count": 15,
     "metadata": {},
     "output_type": "execute_result"
    }
   ],
   "source": [
    "dict(zip(amino_acid_counts[0], amino_acid_counts[1]))"
   ]
  },
  {
   "cell_type": "markdown",
   "id": "cfc51d0f-e117-408b-8a31-1f15a5373b8e",
   "metadata": {},
   "source": [
    "### Calcular contenido porcentual de  GC en una secunecia de ADN"
   ]
  },
  {
   "cell_type": "code",
   "execution_count": 23,
   "id": "9213037c-8bf5-4e87-8457-d94bd6fff287",
   "metadata": {},
   "outputs": [],
   "source": [
    "dna_seq = np.array(list(\"ATCGATCG\"))\n"
   ]
  },
  {
   "cell_type": "code",
   "execution_count": 24,
   "id": "7ff9b695-e92e-40ca-b71d-a43e1a4c48f7",
   "metadata": {},
   "outputs": [
    {
     "data": {
      "text/plain": [
       "array([False, False, False,  True, False, False, False,  True])"
      ]
     },
     "execution_count": 24,
     "metadata": {},
     "output_type": "execute_result"
    }
   ],
   "source": [
    "dna_seq == 'G'"
   ]
  },
  {
   "cell_type": "code",
   "execution_count": 25,
   "id": "46598a6e-e7a1-47cb-b474-8693caa2df30",
   "metadata": {},
   "outputs": [
    {
     "data": {
      "text/plain": [
       "2"
      ]
     },
     "execution_count": 25,
     "metadata": {},
     "output_type": "execute_result"
    }
   ],
   "source": [
    "np.sum((dna_seq == 'G'))"
   ]
  },
  {
   "cell_type": "code",
   "execution_count": 22,
   "id": "02cfb12a-c89b-4e31-9938-54618f35ca83",
   "metadata": {},
   "outputs": [
    {
     "name": "stdout",
     "output_type": "stream",
     "text": [
      "50.0\n"
     ]
    }
   ],
   "source": [
    "porcentaje_gc = (np.sum((dna_seq == 'G') | (dna_seq == 'C')) / len(dna_seq)) * 100\n",
    "print(porcentaje_gc)"
   ]
  },
  {
   "cell_type": "markdown",
   "id": "1d416c75-ff9c-4fb7-a7cc-57a81f9ce278",
   "metadata": {},
   "source": [
    "## Transcribir DNA a RNA"
   ]
  },
  {
   "cell_type": "code",
   "execution_count": 26,
   "id": "27240af4-1369-45f7-91c3-fc462b6d0121",
   "metadata": {},
   "outputs": [
    {
     "name": "stdout",
     "output_type": "stream",
     "text": [
      "['A' 'U' 'C' 'G' 'A' 'U' 'C' 'G']\n"
     ]
    }
   ],
   "source": [
    "dna_seq = np.array(list(\"ATCGATCG\"))\n",
    "\n",
    "rna_seq = np.where(dna_seq == 'T', 'U', dna_sequence)\n",
    "\n",
    "print(rna_seq)"
   ]
  },
  {
   "cell_type": "code",
   "execution_count": null,
   "id": "7ba7e2e7-d15b-44d6-bacb-5add004b7186",
   "metadata": {},
   "outputs": [],
   "source": []
  }
 ],
 "metadata": {
  "kernelspec": {
   "display_name": "Python 3 (ipykernel)",
   "language": "python",
   "name": "python3"
  },
  "language_info": {
   "codemirror_mode": {
    "name": "ipython",
    "version": 3
   },
   "file_extension": ".py",
   "mimetype": "text/x-python",
   "name": "python",
   "nbconvert_exporter": "python",
   "pygments_lexer": "ipython3",
   "version": "3.11.7"
  }
 },
 "nbformat": 4,
 "nbformat_minor": 5
}
